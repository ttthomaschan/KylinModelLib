{
 "cells": [
  {
   "cell_type": "markdown",
   "id": "mathematical-harassment",
   "metadata": {},
   "source": [
    "# 标准库"
   ]
  },
  {
   "cell_type": "markdown",
   "id": "manufactured-hello",
   "metadata": {},
   "source": [
    "## time库\n",
    "* Python处理时间的标准库\n",
    "\n",
    "### 获取现在时间\n",
    "* time.localtime()  本地时间\n",
    "* time.ctime()"
   ]
  },
  {
   "cell_type": "code",
   "execution_count": 4,
   "id": "answering-speaking",
   "metadata": {},
   "outputs": [
    {
     "data": {
      "text/plain": [
       "time.struct_time(tm_year=2021, tm_mon=7, tm_mday=6, tm_hour=16, tm_min=20, tm_sec=56, tm_wday=1, tm_yday=187, tm_isdst=0)"
      ]
     },
     "execution_count": 4,
     "metadata": {},
     "output_type": "execute_result"
    }
   ],
   "source": [
    "import time\n",
    "\n",
    "time.localtime()"
   ]
  },
  {
   "cell_type": "code",
   "execution_count": 3,
   "id": "perceived-insured",
   "metadata": {},
   "outputs": [
    {
     "data": {
      "text/plain": [
       "'Tue Jul  6 16:20:43 2021'"
      ]
     },
     "execution_count": 3,
     "metadata": {},
     "output_type": "execute_result"
    }
   ],
   "source": [
    "time.ctime()     "
   ]
  },
  {
   "cell_type": "markdown",
   "id": "asian-publication",
   "metadata": {},
   "source": [
    "### 格式化时间"
   ]
  },
  {
   "cell_type": "code",
   "execution_count": 5,
   "id": "warming-columbia",
   "metadata": {},
   "outputs": [
    {
     "data": {
      "text/plain": [
       "'2021-07-06 Tuesday 16:24:50'"
      ]
     },
     "execution_count": 5,
     "metadata": {},
     "output_type": "execute_result"
    }
   ],
   "source": [
    "loctime = time.localtime()\n",
    "time.strftime(\"%Y-%m-%d %A %H:%M:%S\", loctime)"
   ]
  },
  {
   "cell_type": "markdown",
   "id": "precious-colombia",
   "metadata": {},
   "source": [
    "### 睡眠\n",
    "* time.sleep()\n",
    "\n",
    "### 时间戳和计时器\n",
    "* time.time() "
   ]
  },
  {
   "cell_type": "markdown",
   "id": "fuzzy-actress",
   "metadata": {},
   "source": [
    "## random库\n",
    "* Python通过random库提供各种伪随机数\n",
    "\n",
    "### 随机种子\n",
    "* **seed(a=None)**\n",
    "* 相同种子会产生相同的随机数\n",
    "* 如果不设置随机种子，以系统当前时间为默认值"
   ]
  },
  {
   "cell_type": "code",
   "execution_count": 7,
   "id": "retired-aquatic",
   "metadata": {},
   "outputs": [
    {
     "name": "stdout",
     "output_type": "stream",
     "text": [
      "0.5714025946899135\n",
      "0.5714025946899135\n"
     ]
    }
   ],
   "source": [
    "from random import *\n",
    "\n",
    "seed(10)\n",
    "print(random())\n",
    "seed(10)\n",
    "print(random())"
   ]
  },
  {
   "cell_type": "code",
   "execution_count": 8,
   "id": "naked-evening",
   "metadata": {},
   "outputs": [
    {
     "name": "stdout",
     "output_type": "stream",
     "text": [
      "0.4288890546751146\n"
     ]
    }
   ],
   "source": [
    "print(random())"
   ]
  },
  {
   "cell_type": "markdown",
   "id": "configured-valuation",
   "metadata": {},
   "source": [
    "### 随机整数\n",
    "* **randint(a, b) ——产生[a, b]之间的随机整数**"
   ]
  },
  {
   "cell_type": "code",
   "execution_count": 10,
   "id": "civil-formula",
   "metadata": {},
   "outputs": [
    {
     "data": {
      "text/plain": [
       "[10, 1, 4, 8, 8, 5, 3, 1, 9, 8]"
      ]
     },
     "execution_count": 10,
     "metadata": {},
     "output_type": "execute_result"
    }
   ],
   "source": [
    "numbers = [randint(1,10) for i in range(10)]\n",
    "numbers"
   ]
  },
  {
   "cell_type": "markdown",
   "id": "later-triumph",
   "metadata": {},
   "source": [
    "### 随机浮点数\n",
    "* **（1）random() ——产生[0.0, 1.0)之间的随机浮点数**\n",
    "* **（2）uniform(a, b) ——产生[a, b]之间的随机浮点数**"
   ]
  },
  {
   "cell_type": "code",
   "execution_count": 11,
   "id": "black-holocaust",
   "metadata": {},
   "outputs": [
    {
     "data": {
      "text/plain": [
       "[0.32777281162209315,\n",
       " 0.24999667668640035,\n",
       " 0.9528169091459117,\n",
       " 0.9965569925394552,\n",
       " 0.04455638245043303,\n",
       " 0.860161037286291,\n",
       " 0.603190610968185,\n",
       " 0.3816059859191179,\n",
       " 0.28361821790671515,\n",
       " 0.674964847134956]"
      ]
     },
     "execution_count": 11,
     "metadata": {},
     "output_type": "execute_result"
    }
   ],
   "source": [
    "numbers = [random() for i in range(10)]\n",
    "numbers"
   ]
  },
  {
   "cell_type": "code",
   "execution_count": 12,
   "id": "naval-penny",
   "metadata": {},
   "outputs": [
    {
     "data": {
      "text/plain": [
       "[2.739563611481628,\n",
       " 3.0602060796644324,\n",
       " 3.0265848480732913,\n",
       " 2.286169402597098,\n",
       " 3.1749729395215867,\n",
       " 3.475378548615667,\n",
       " 3.4571434245668864,\n",
       " 2.9586575487653928,\n",
       " 2.161964886010469,\n",
       " 2.1056772018217704]"
      ]
     },
     "execution_count": 12,
     "metadata": {},
     "output_type": "execute_result"
    }
   ],
   "source": [
    "numbers = [uniform(2.1, 3.5) for i in range(10)]\n",
    "numbers"
   ]
  },
  {
   "cell_type": "markdown",
   "id": "normal-rotation",
   "metadata": {},
   "source": [
    "### 序列函数\n",
    "* **（1）choice(seq)——从序列类型中随机返回一个元素**\n",
    "* **（2）shuffle(seq)——将序列类型中元素随机排列，返回打乱后的序列**\n",
    "* **（3）sample(pop, k)——从pop类型中随机选取k个元素，以列表类型返回**"
   ]
  },
  {
   "cell_type": "code",
   "execution_count": 13,
   "id": "multiple-wisdom",
   "metadata": {},
   "outputs": [
    {
     "data": {
      "text/plain": [
       "'win'"
      ]
     },
     "execution_count": 13,
     "metadata": {},
     "output_type": "execute_result"
    }
   ],
   "source": [
    "choice(['win', 'lose', 'draw'])"
   ]
  },
  {
   "cell_type": "code",
   "execution_count": 14,
   "id": "accessible-burlington",
   "metadata": {},
   "outputs": [
    {
     "data": {
      "text/plain": [
       "['one', 'three', 'four', 'two']"
      ]
     },
     "execution_count": 14,
     "metadata": {},
     "output_type": "execute_result"
    }
   ],
   "source": [
    "numbers = [\"one\", \"two\", \"three\", \"four\"]\n",
    "shuffle(numbers)\n",
    "numbers"
   ]
  },
  {
   "cell_type": "code",
   "execution_count": 15,
   "id": "split-award",
   "metadata": {},
   "outputs": [
    {
     "data": {
      "text/plain": [
       "[20, 30, 40]"
      ]
     },
     "execution_count": 15,
     "metadata": {},
     "output_type": "execute_result"
    }
   ],
   "source": [
    "sample([10, 20, 30, 40, 50], k=3)"
   ]
  },
  {
   "cell_type": "markdown",
   "id": "champion-brown",
   "metadata": {},
   "source": [
    "### 概率分布\n",
    "* **（1）gauss(mean, std)——生产一个符合高斯分布的随机数**"
   ]
  },
  {
   "cell_type": "code",
   "execution_count": 19,
   "id": "flexible-rabbit",
   "metadata": {},
   "outputs": [
    {
     "data": {
      "text/plain": [
       "0.5263476904033779"
      ]
     },
     "execution_count": 19,
     "metadata": {},
     "output_type": "execute_result"
    }
   ],
   "source": [
    "number = gauss(0, 1)\n",
    "number"
   ]
  },
  {
   "cell_type": "code",
   "execution_count": 21,
   "id": "constitutional-creek",
   "metadata": {},
   "outputs": [
    {
     "data": {
      "image/png": "[encoded data removed]",
      "text/plain": [
       "<Figure size 432x288 with 1 Axes>"
      ]
     },
     "metadata": {
      "needs_background": "light"
     },
     "output_type": "display_data"
    }
   ],
   "source": [
    "import matplotlib.pyplot as plt\n",
    "\n",
    "res = [gauss(0, 1) for i in range(100000)]\n",
    "\n",
    "plt.hist(res, bins=1000)\n",
    "plt.show()"
   ]
  },
  {
   "cell_type": "markdown",
   "id": "collectible-consensus",
   "metadata": {},
   "source": [
    "## collections库\n",
    "* 容器数据类型\n",
    "\n",
    "### 具名元组\n",
    "* **namedtuple(typename, field_names, *, rename=False, defaults=None, module=None)**"
   ]
  },
  {
   "cell_type": "code",
   "execution_count": 22,
   "id": "resident-library",
   "metadata": {},
   "outputs": [
    {
     "data": {
      "text/plain": [
       "Point(x=1, y=2)"
      ]
     },
     "execution_count": 22,
     "metadata": {},
     "output_type": "execute_result"
    }
   ],
   "source": [
    "import collections\n",
    "\n",
    "'''\n",
    "点的坐标，仅看数据，很难知道表达的是一个点的坐标，构建一个新的元组子类，专门表示点。\n",
    "'''\n",
    "\n",
    "Point = collections.namedtuple(\"Point\", [\"x\", \"y\"])\n",
    "p = Point(1, y=2)\n",
    "p"
   ]
  },
  {
   "cell_type": "markdown",
   "id": "accepting-indianapolis",
   "metadata": {},
   "source": [
    "* 可以调用属性"
   ]
  },
  {
   "cell_type": "code",
   "execution_count": 23,
   "id": "heavy-liberia",
   "metadata": {},
   "outputs": [
    {
     "name": "stdout",
     "output_type": "stream",
     "text": [
      "1\n",
      "2\n"
     ]
    }
   ],
   "source": [
    "print(p.x)\n",
    "print(p.y)"
   ]
  },
  {
   "cell_type": "markdown",
   "id": "listed-three",
   "metadata": {},
   "source": [
    "* 是元组的子类"
   ]
  },
  {
   "cell_type": "code",
   "execution_count": 24,
   "id": "blond-siemens",
   "metadata": {},
   "outputs": [
    {
     "name": "stdout",
     "output_type": "stream",
     "text": [
      "True\n"
     ]
    }
   ],
   "source": [
    "print(isinstance(p, tuple))"
   ]
  },
  {
   "cell_type": "markdown",
   "id": "interior-engineer",
   "metadata": {},
   "source": [
    "### 计数器工具\n",
    "* Counter()"
   ]
  },
  {
   "cell_type": "code",
   "execution_count": 25,
   "id": "alleged-emphasis",
   "metadata": {},
   "outputs": [
    {
     "name": "stdout",
     "output_type": "stream",
     "text": [
      "Counter({'奶': 5, '牛': 2, '找': 1, '刘': 1, '买': 1})\n",
      "Counter({'blue': 3, 'red': 2, 'green': 1})\n"
     ]
    }
   ],
   "source": [
    "from collections import Counter\n",
    "\n",
    "s = \"牛奶奶找刘奶奶买牛奶\"\n",
    "cnt_str = Counter(s)\n",
    "print(cnt_str)\n",
    "\n",
    "colors = ['red', 'blue', 'red', 'green', 'blue', 'blue']\n",
    "cnt_color = Counter(colors)\n",
    "print(cnt_color)"
   ]
  },
  {
   "cell_type": "markdown",
   "id": "stopped-ottawa",
   "metadata": {},
   "source": [
    "* 是字典的一个子类"
   ]
  },
  {
   "cell_type": "code",
   "execution_count": 26,
   "id": "timely-cleveland",
   "metadata": {},
   "outputs": [
    {
     "name": "stdout",
     "output_type": "stream",
     "text": [
      "True\n"
     ]
    }
   ],
   "source": [
    "print(isinstance(Counter(), dict))"
   ]
  },
  {
   "cell_type": "markdown",
   "id": "unauthorized-mitchell",
   "metadata": {},
   "source": [
    "* most_commom(n) -- 提供 n 个频率最高的元素和计数"
   ]
  },
  {
   "cell_type": "code",
   "execution_count": 27,
   "id": "american-citation",
   "metadata": {},
   "outputs": [
    {
     "data": {
      "text/plain": [
       "[('blue', 3), ('red', 2)]"
      ]
     },
     "execution_count": 27,
     "metadata": {},
     "output_type": "execute_result"
    }
   ],
   "source": [
    "cnt_color.most_common(2)"
   ]
  },
  {
   "cell_type": "markdown",
   "id": "cardiovascular-thumbnail",
   "metadata": {},
   "source": [
    "## iteratools库"
   ]
  },
  {
   "cell_type": "markdown",
   "id": "korean-species",
   "metadata": {},
   "source": [
    "### 排列组合迭代器\n",
    "（1）笛卡尔积 -- product"
   ]
  },
  {
   "cell_type": "code",
   "execution_count": 30,
   "id": "judicial-settle",
   "metadata": {},
   "outputs": [
    {
     "name": "stdout",
     "output_type": "stream",
     "text": [
      "('A', '0')\n",
      "('A', '1')\n",
      "('B', '0')\n",
      "('B', '1')\n",
      "('C', '0')\n",
      "('C', '1')\n"
     ]
    }
   ],
   "source": [
    "import itertools\n",
    "\n",
    "for i in itertools.product('ABC', '01'):\n",
    "    print(i)"
   ]
  },
  {
   "cell_type": "markdown",
   "id": "authentic-pharmaceutical",
   "metadata": {},
   "source": [
    "（2）排列 -- permutations"
   ]
  },
  {
   "cell_type": "code",
   "execution_count": 32,
   "id": "supposed-terrorism",
   "metadata": {},
   "outputs": [
    {
     "name": "stdout",
     "output_type": "stream",
     "text": [
      "('A', 'B', 'C')\n",
      "('A', 'B', 'D')\n",
      "('A', 'C', 'B')\n",
      "('A', 'C', 'D')\n",
      "('A', 'D', 'B')\n",
      "('A', 'D', 'C')\n",
      "('B', 'A', 'C')\n",
      "('B', 'A', 'D')\n",
      "('B', 'C', 'A')\n",
      "('B', 'C', 'D')\n",
      "('B', 'D', 'A')\n",
      "('B', 'D', 'C')\n",
      "('C', 'A', 'B')\n",
      "('C', 'A', 'D')\n",
      "('C', 'B', 'A')\n",
      "('C', 'B', 'D')\n",
      "('C', 'D', 'A')\n",
      "('C', 'D', 'B')\n",
      "('D', 'A', 'B')\n",
      "('D', 'A', 'C')\n",
      "('D', 'B', 'A')\n",
      "('D', 'B', 'C')\n",
      "('D', 'C', 'A')\n",
      "('D', 'C', 'B')\n"
     ]
    }
   ],
   "source": [
    "for i in itertools.permutations('ABCD', 3):   # 3 是排列的长度\n",
    "    print(i)"
   ]
  },
  {
   "cell_type": "markdown",
   "id": "early-stocks",
   "metadata": {},
   "source": [
    "（3）组合 -- combinations"
   ]
  },
  {
   "cell_type": "code",
   "execution_count": 33,
   "id": "polyphonic-banana",
   "metadata": {},
   "outputs": [
    {
     "name": "stdout",
     "output_type": "stream",
     "text": [
      "('A', 'B')\n",
      "('A', 'C')\n",
      "('A', 'D')\n",
      "('B', 'C')\n",
      "('B', 'D')\n",
      "('C', 'D')\n"
     ]
    }
   ],
   "source": [
    "for i in itertools.combinations('ABCD', 2):  # 2是组合的长度\n",
    "    print(i)"
   ]
  },
  {
   "cell_type": "markdown",
   "id": "explicit-bachelor",
   "metadata": {},
   "source": [
    "### 拉链\n",
    "**（1）短拉链 -- zip**\n",
    "* 长度不一时，执行到最短的对象处，就停止"
   ]
  },
  {
   "cell_type": "code",
   "execution_count": 34,
   "id": "martial-connecticut",
   "metadata": {},
   "outputs": [
    {
     "name": "stdout",
     "output_type": "stream",
     "text": [
      "('A', '0', 'x')\n",
      "('B', '1', 'y')\n",
      "('C', '2', 'z')\n"
     ]
    }
   ],
   "source": [
    "for i in zip(\"ABC\", \"012\", \"xyz\"):\n",
    "    print(i)"
   ]
  },
  {
   "cell_type": "markdown",
   "id": "protected-steps",
   "metadata": {},
   "source": [
    "**(2) 长拉链 -- zip_longest**"
   ]
  },
  {
   "cell_type": "code",
   "execution_count": 35,
   "id": "alleged-convergence",
   "metadata": {},
   "outputs": [
    {
     "name": "stdout",
     "output_type": "stream",
     "text": [
      "('A', '0')\n",
      "('B', '1')\n",
      "('C', '2')\n",
      "(None, '3')\n",
      "(None, '4')\n",
      "(None, '5')\n"
     ]
    }
   ],
   "source": [
    "for i in itertools.zip_longest(\"ABC\", \"012345\"):\n",
    "    print(i)"
   ]
  },
  {
   "cell_type": "markdown",
   "id": "solid-syndicate",
   "metadata": {},
   "source": [
    "### 枚举\n",
    "enumerate(iterable, start=0) ——枚举（Python内置）\n",
    "  \n",
    "* 产出由两个元素组成的元组，结构是（index, item）， 其中index 从start开始，item从iterable中取"
   ]
  },
  {
   "cell_type": "code",
   "execution_count": 37,
   "id": "pregnant-transcription",
   "metadata": {},
   "outputs": [
    {
     "name": "stdout",
     "output_type": "stream",
     "text": [
      "(1, 'P')\n",
      "(2, 'y')\n",
      "(3, 't')\n",
      "(4, 'h')\n",
      "(5, 'o')\n",
      "(6, 'n')\n"
     ]
    }
   ],
   "source": [
    "for i in enumerate(\"Python\", start=1):\n",
    "    print(i)"
   ]
  },
  {
   "cell_type": "markdown",
   "id": "isolated-central",
   "metadata": {},
   "source": [
    "### 分组\n",
    "groupby(iterable, key=None)——分组\n",
    "\n",
    "* 创建一个迭代器，按照key指定的方式，返回 iterable 中连续的键和组\n",
    "* 一般来说，要预先对数据进行排序\n",
    "* key为None默认把连续重复元素分组"
   ]
  },
  {
   "cell_type": "markdown",
   "id": "thrown-savings",
   "metadata": {},
   "source": [
    "# Numpy库\n",
    "## 数组的创建\n",
    "(1) 普通数组\n",
    "* np.zeros()\n",
    "* np.ones()\n",
    "* np.full()\n",
    "* np.eye()"
   ]
  },
  {
   "cell_type": "code",
   "execution_count": 2,
   "id": "informal-nitrogen",
   "metadata": {},
   "outputs": [],
   "source": [
    "import numpy as np"
   ]
  },
  {
   "cell_type": "code",
   "execution_count": 3,
   "id": "tribal-elevation",
   "metadata": {},
   "outputs": [
    {
     "data": {
      "text/plain": [
       "array([0, 0, 0, 0, 0])"
      ]
     },
     "execution_count": 3,
     "metadata": {},
     "output_type": "execute_result"
    }
   ],
   "source": [
    "np.zeros(5, dtype=int)"
   ]
  },
  {
   "cell_type": "code",
   "execution_count": 4,
   "id": "composite-renaissance",
   "metadata": {},
   "outputs": [
    {
     "data": {
      "text/plain": [
       "array([[1., 1., 1., 1.],\n",
       "       [1., 1., 1., 1.]])"
      ]
     },
     "execution_count": 4,
     "metadata": {},
     "output_type": "execute_result"
    }
   ],
   "source": [
    "np.ones((2, 4), dtype=float)"
   ]
  },
  {
   "cell_type": "code",
   "execution_count": 5,
   "id": "mobile-laser",
   "metadata": {},
   "outputs": [
    {
     "data": {
      "text/plain": [
       "array([[8.8, 8.8, 8.8, 8.8, 8.8],\n",
       "       [8.8, 8.8, 8.8, 8.8, 8.8],\n",
       "       [8.8, 8.8, 8.8, 8.8, 8.8]])"
      ]
     },
     "execution_count": 5,
     "metadata": {},
     "output_type": "execute_result"
    }
   ],
   "source": [
    "np.full((3, 5), 8.8)"
   ]
  },
  {
   "cell_type": "code",
   "execution_count": 6,
   "id": "occupational-thursday",
   "metadata": {},
   "outputs": [
    {
     "data": {
      "text/plain": [
       "array([[1., 0., 0.],\n",
       "       [0., 1., 0.],\n",
       "       [0., 0., 1.]])"
      ]
     },
     "execution_count": 6,
     "metadata": {},
     "output_type": "execute_result"
    }
   ],
   "source": [
    "np.eye(3)"
   ]
  },
  {
   "cell_type": "markdown",
   "id": "weighted-score",
   "metadata": {},
   "source": [
    "(2) 序列数组\n",
    "* np.arrange()\n",
    "* np.linspace()"
   ]
  },
  {
   "cell_type": "code",
   "execution_count": 7,
   "id": "frequent-slide",
   "metadata": {},
   "outputs": [
    {
     "data": {
      "text/plain": [
       "array([ 1,  3,  5,  7,  9, 11, 13])"
      ]
     },
     "execution_count": 7,
     "metadata": {},
     "output_type": "execute_result"
    }
   ],
   "source": [
    "np.arange(1, 15, 2)"
   ]
  },
  {
   "cell_type": "code",
   "execution_count": 8,
   "id": "related-sleep",
   "metadata": {},
   "outputs": [
    {
     "data": {
      "text/plain": [
       "array([0.        , 0.33333333, 0.66666667, 1.        ])"
      ]
     },
     "execution_count": 8,
     "metadata": {},
     "output_type": "execute_result"
    }
   ],
   "source": [
    "np.linspace(0, 1, 4)"
   ]
  },
  {
   "cell_type": "markdown",
   "id": "stopped-fence",
   "metadata": {},
   "source": [
    "(3) random数组\n",
    "* np.random.random()\n",
    "* np.random.normal()\n",
    "* np.random.randint()\n",
    "* np.random.permutation()  --  **产生新列表**\n",
    "* np.random.shuffle()    --    **修改原列表**\n",
    "* np.random.choice()"
   ]
  },
  {
   "cell_type": "code",
   "execution_count": 9,
   "id": "exciting-occupation",
   "metadata": {},
   "outputs": [
    {
     "data": {
      "text/plain": [
       "array([[0.07413382, 0.22794901, 0.23551267],\n",
       "       [0.24671005, 0.15886237, 0.77926901],\n",
       "       [0.81439717, 0.58288706, 0.21551248]])"
      ]
     },
     "execution_count": 9,
     "metadata": {},
     "output_type": "execute_result"
    }
   ],
   "source": [
    "np.random.random((3,3))  # 取值在（0，1）"
   ]
  },
  {
   "cell_type": "code",
   "execution_count": 10,
   "id": "valued-fluid",
   "metadata": {},
   "outputs": [
    {
     "data": {
      "text/plain": [
       "array([[-0.48304718,  0.04733624,  0.00308406],\n",
       "       [ 0.81723555,  0.65931123, -0.10747942],\n",
       "       [ 0.74357584,  1.0051467 ,  1.27089138]])"
      ]
     },
     "execution_count": 10,
     "metadata": {},
     "output_type": "execute_result"
    }
   ],
   "source": [
    "np.random.normal(0, 1, (3,3))  #标准差为1的正态分布随机数构成的数组"
   ]
  },
  {
   "cell_type": "code",
   "execution_count": 11,
   "id": "variable-breach",
   "metadata": {},
   "outputs": [
    {
     "data": {
      "text/plain": [
       "array([[0, 4, 1],\n",
       "       [4, 6, 4],\n",
       "       [6, 1, 8]])"
      ]
     },
     "execution_count": 11,
     "metadata": {},
     "output_type": "execute_result"
    }
   ],
   "source": [
    "np.random.randint(0, 10, (3,3))"
   ]
  },
  {
   "cell_type": "code",
   "execution_count": 12,
   "id": "advanced-british",
   "metadata": {},
   "outputs": [
    {
     "data": {
      "text/plain": [
       "array([20, 40, 10, 30])"
      ]
     },
     "execution_count": 12,
     "metadata": {},
     "output_type": "execute_result"
    }
   ],
   "source": [
    "x = np.array([10, 20, 30, 40])\n",
    "np.random.permutation(x)       # 生产新列表"
   ]
  },
  {
   "cell_type": "code",
   "execution_count": 13,
   "id": "center-aircraft",
   "metadata": {},
   "outputs": [
    {
     "name": "stdout",
     "output_type": "stream",
     "text": [
      "[10 20 30 40]\n",
      "[40 20 10 30]\n"
     ]
    }
   ],
   "source": [
    "print(x)\n",
    "np.random.shuffle(x)          # 修改原列表\n",
    "print(x)"
   ]
  },
  {
   "cell_type": "code",
   "execution_count": 14,
   "id": "studied-holmes",
   "metadata": {},
   "outputs": [
    {
     "data": {
      "text/plain": [
       "array([[40, 20]])"
      ]
     },
     "execution_count": 14,
     "metadata": {},
     "output_type": "execute_result"
    }
   ],
   "source": [
    "np.random.choice(x, size=(1, 2))"
   ]
  },
  {
   "cell_type": "markdown",
   "id": "internal-flood",
   "metadata": {},
   "source": [
    "## 数组的属性\n",
    "### shape"
   ]
  },
  {
   "cell_type": "code",
   "execution_count": 15,
   "id": "herbal-reggae",
   "metadata": {},
   "outputs": [
    {
     "data": {
      "text/plain": [
       "array([[2, 8, 5, 1],\n",
       "       [4, 0, 6, 0],\n",
       "       [7, 4, 3, 8]])"
      ]
     },
     "execution_count": 15,
     "metadata": {},
     "output_type": "execute_result"
    }
   ],
   "source": [
    "x = np.random.randint(10, size=(3, 4))\n",
    "x"
   ]
  },
  {
   "cell_type": "code",
   "execution_count": 16,
   "id": "diagnostic-spiritual",
   "metadata": {},
   "outputs": [
    {
     "data": {
      "text/plain": [
       "(3, 4)"
      ]
     },
     "execution_count": 16,
     "metadata": {},
     "output_type": "execute_result"
    }
   ],
   "source": [
    "x.shape"
   ]
  },
  {
   "cell_type": "markdown",
   "id": "metropolitan-affairs",
   "metadata": {},
   "source": [
    "### ndim"
   ]
  },
  {
   "cell_type": "code",
   "execution_count": 17,
   "id": "republican-defendant",
   "metadata": {},
   "outputs": [
    {
     "data": {
      "text/plain": [
       "2"
      ]
     },
     "execution_count": 17,
     "metadata": {},
     "output_type": "execute_result"
    }
   ],
   "source": [
    "x.ndim"
   ]
  },
  {
   "cell_type": "markdown",
   "id": "continuing-oxide",
   "metadata": {},
   "source": [
    "### size"
   ]
  },
  {
   "cell_type": "code",
   "execution_count": 18,
   "id": "weighted-owner",
   "metadata": {},
   "outputs": [
    {
     "data": {
      "text/plain": [
       "12"
      ]
     },
     "execution_count": 18,
     "metadata": {},
     "output_type": "execute_result"
    }
   ],
   "source": [
    "x.size"
   ]
  },
  {
   "cell_type": "markdown",
   "id": "international-booth",
   "metadata": {},
   "source": [
    "### dtype"
   ]
  },
  {
   "cell_type": "code",
   "execution_count": 19,
   "id": "royal-tampa",
   "metadata": {},
   "outputs": [
    {
     "data": {
      "text/plain": [
       "dtype('int64')"
      ]
     },
     "execution_count": 19,
     "metadata": {},
     "output_type": "execute_result"
    }
   ],
   "source": [
    "x.dtype"
   ]
  },
  {
   "cell_type": "markdown",
   "id": "robust-realtor",
   "metadata": {},
   "source": [
    "## 数组的操作\n",
    "### 切片\n",
    "* 切片只是视图，不改变原数组\n",
    "\n",
    "**一维数组**"
   ]
  },
  {
   "cell_type": "code",
   "execution_count": 20,
   "id": "involved-bubble",
   "metadata": {},
   "outputs": [
    {
     "data": {
      "text/plain": [
       "array([0, 1, 2, 3, 4, 5, 6, 7, 8, 9])"
      ]
     },
     "execution_count": 20,
     "metadata": {},
     "output_type": "execute_result"
    }
   ],
   "source": [
    "x1 = np.arange(10)\n",
    "x1"
   ]
  },
  {
   "cell_type": "code",
   "execution_count": 22,
   "id": "global-hopkins",
   "metadata": {},
   "outputs": [
    {
     "data": {
      "text/plain": [
       "array([9, 8, 7, 6, 5, 4, 3, 2, 1, 0])"
      ]
     },
     "execution_count": 22,
     "metadata": {},
     "output_type": "execute_result"
    }
   ],
   "source": [
    "x1[::-1]  ## 倒序"
   ]
  },
  {
   "cell_type": "markdown",
   "id": "pregnant-professor",
   "metadata": {},
   "source": [
    "**二维数组**"
   ]
  },
  {
   "cell_type": "code",
   "execution_count": 23,
   "id": "downtown-attachment",
   "metadata": {},
   "outputs": [
    {
     "data": {
      "text/plain": [
       "array([[ 8,  7,  9,  2],\n",
       "       [17, 13,  0,  7],\n",
       "       [19, 14, 13, 12]])"
      ]
     },
     "execution_count": 23,
     "metadata": {},
     "output_type": "execute_result"
    }
   ],
   "source": [
    "x2 = np.random.randint(20, size=(3,4)) \n",
    "x2"
   ]
  },
  {
   "cell_type": "code",
   "execution_count": 24,
   "id": "appreciated-criterion",
   "metadata": {},
   "outputs": [
    {
     "data": {
      "text/plain": [
       "array([[ 8,  9],\n",
       "       [17,  0]])"
      ]
     },
     "execution_count": 24,
     "metadata": {},
     "output_type": "execute_result"
    }
   ],
   "source": [
    "x2[:2, 0:3:2]       # 前两行 前三列（每隔一列）"
   ]
  },
  {
   "cell_type": "code",
   "execution_count": 26,
   "id": "needed-census",
   "metadata": {},
   "outputs": [
    {
     "data": {
      "text/plain": [
       "array([[12, 13, 14, 19],\n",
       "       [ 7,  0, 13, 17],\n",
       "       [ 2,  9,  7,  8]])"
      ]
     },
     "execution_count": 26,
     "metadata": {},
     "output_type": "execute_result"
    }
   ],
   "source": [
    "x2[::-1, ::-1]   ## 行列均倒序"
   ]
  },
  {
   "cell_type": "code",
   "execution_count": 4,
   "id": "advised-joyce",
   "metadata": {},
   "outputs": [
    {
     "name": "stdout",
     "output_type": "stream",
     "text": [
      "(1, 3, 4)\n"
     ]
    },
    {
     "data": {
      "text/plain": [
       "array([[48, 40,  3]])"
      ]
     },
     "execution_count": 4,
     "metadata": {},
     "output_type": "execute_result"
    }
   ],
   "source": [
    "y = np.array([[[10, 12, 48, 60],\n",
    "               [10, 20, 40, 50],\n",
    "               [1,  2,  3,  4]]])\n",
    "print(y.shape)\n",
    "y[..., 2]  ## array[..., n] --> 只看最后一个维度，按列选取"
   ]
  },
  {
   "cell_type": "markdown",
   "id": "golden-secretariat",
   "metadata": {},
   "source": [
    "* **修改切片元素，需要使用副本 -- copy()**"
   ]
  },
  {
   "cell_type": "code",
   "execution_count": 29,
   "id": "expected-logging",
   "metadata": {},
   "outputs": [
    {
     "data": {
      "text/plain": [
       "array([[ 8,  7],\n",
       "       [17, 13]])"
      ]
     },
     "execution_count": 29,
     "metadata": {},
     "output_type": "execute_result"
    }
   ],
   "source": [
    "x_copy = x2[:2, :2].copy()\n",
    "x_copy"
   ]
  },
  {
   "cell_type": "markdown",
   "id": "voluntary-attendance",
   "metadata": {},
   "source": [
    "### 变形\n",
    "* **reshape() -- 视图**  --多转一 & 一转多\n",
    "* **flatten() -- 副本**  --多转一\n",
    "* **ravel() -- 视图**   --多转一"
   ]
  },
  {
   "cell_type": "markdown",
   "id": "mediterranean-definition",
   "metadata": {},
   "source": [
    "**一维向量转多维向量**"
   ]
  },
  {
   "cell_type": "code",
   "execution_count": 27,
   "id": "exclusive-british",
   "metadata": {},
   "outputs": [
    {
     "data": {
      "text/plain": [
       "array([0, 1, 2, 3, 4, 5, 6, 7, 8, 9])"
      ]
     },
     "execution_count": 27,
     "metadata": {},
     "output_type": "execute_result"
    }
   ],
   "source": [
    "x1"
   ]
  },
  {
   "cell_type": "code",
   "execution_count": 34,
   "id": "affiliated-battery",
   "metadata": {},
   "outputs": [
    {
     "data": {
      "text/plain": [
       "array([9, 0, 0, 0, 8, 7, 0, 1, 8, 6, 0, 6])"
      ]
     },
     "execution_count": 34,
     "metadata": {},
     "output_type": "execute_result"
    }
   ],
   "source": [
    "x5 = np.random.randint(0, 10, (12,))\n",
    "x5"
   ]
  },
  {
   "cell_type": "code",
   "execution_count": 35,
   "id": "balanced-sucking",
   "metadata": {},
   "outputs": [
    {
     "data": {
      "text/plain": [
       "array([[9, 0, 0, 0],\n",
       "       [8, 7, 0, 1],\n",
       "       [8, 6, 0, 6]])"
      ]
     },
     "execution_count": 35,
     "metadata": {},
     "output_type": "execute_result"
    }
   ],
   "source": [
    "x6 = x5.reshape(3, 4)\n",
    "x6"
   ]
  },
  {
   "cell_type": "markdown",
   "id": "killing-integration",
   "metadata": {},
   "source": [
    "* 注意：一维向量 不等于 行向量 --> x5 != x7"
   ]
  },
  {
   "cell_type": "code",
   "execution_count": 36,
   "id": "heard-anger",
   "metadata": {},
   "outputs": [
    {
     "data": {
      "text/plain": [
       "array([[9, 0, 0, 0, 8, 7, 0, 1, 8, 6, 0, 6]])"
      ]
     },
     "execution_count": 36,
     "metadata": {},
     "output_type": "execute_result"
    }
   ],
   "source": [
    "x7 = x5.reshape(1, x5.shape[0])    \n",
    "x7"
   ]
  },
  {
   "cell_type": "code",
   "execution_count": 38,
   "id": "involved-engineer",
   "metadata": {},
   "outputs": [
    {
     "data": {
      "text/plain": [
       "array([[9, 0, 0, 0, 8, 7, 0, 1, 8, 6, 0, 6]])"
      ]
     },
     "execution_count": 38,
     "metadata": {},
     "output_type": "execute_result"
    }
   ],
   "source": [
    "x8 = x5[np.newaxis, :]\n",
    "x8"
   ]
  },
  {
   "cell_type": "code",
   "execution_count": 37,
   "id": "surrounded-invitation",
   "metadata": {},
   "outputs": [
    {
     "data": {
      "text/plain": [
       "array([[9],\n",
       "       [0],\n",
       "       [0],\n",
       "       [0],\n",
       "       [8],\n",
       "       [7],\n",
       "       [0],\n",
       "       [1],\n",
       "       [8],\n",
       "       [6],\n",
       "       [0],\n",
       "       [6]])"
      ]
     },
     "execution_count": 37,
     "metadata": {},
     "output_type": "execute_result"
    }
   ],
   "source": [
    "x7 = x5.reshape(x5.shape[0], 1)    \n",
    "x7"
   ]
  },
  {
   "cell_type": "markdown",
   "id": "external-channel",
   "metadata": {},
   "source": [
    "**多维向量转一维向量**"
   ]
  },
  {
   "cell_type": "code",
   "execution_count": 39,
   "id": "tough-southwest",
   "metadata": {},
   "outputs": [
    {
     "data": {
      "text/plain": [
       "array([[8, 9, 1, 1],\n",
       "       [9, 6, 6, 9],\n",
       "       [4, 6, 1, 9]])"
      ]
     },
     "execution_count": 39,
     "metadata": {},
     "output_type": "execute_result"
    }
   ],
   "source": [
    "x6 = np.random.randint(0, 10, (3, 4))\n",
    "x6"
   ]
  },
  {
   "cell_type": "code",
   "execution_count": 40,
   "id": "growing-marsh",
   "metadata": {},
   "outputs": [
    {
     "data": {
      "text/plain": [
       "array([8, 9, 1, 1, 9, 6, 6, 9, 4, 6, 1, 9])"
      ]
     },
     "execution_count": 40,
     "metadata": {},
     "output_type": "execute_result"
    }
   ],
   "source": [
    "x9 = x6.flatten()\n",
    "x9  ## 副本"
   ]
  },
  {
   "cell_type": "code",
   "execution_count": 41,
   "id": "indie-cancer",
   "metadata": {},
   "outputs": [
    {
     "data": {
      "text/plain": [
       "array([8, 9, 1, 1, 9, 6, 6, 9, 4, 6, 1, 9])"
      ]
     },
     "execution_count": 41,
     "metadata": {},
     "output_type": "execute_result"
    }
   ],
   "source": [
    "x10 = x6.ravel()\n",
    "x10  ## 视图"
   ]
  },
  {
   "cell_type": "code",
   "execution_count": 43,
   "id": "higher-valentine",
   "metadata": {},
   "outputs": [
    {
     "data": {
      "text/plain": [
       "array([8, 9, 1, 1, 9, 6, 6, 9, 4, 6, 1, 9])"
      ]
     },
     "execution_count": 43,
     "metadata": {},
     "output_type": "execute_result"
    }
   ],
   "source": [
    "x11 = x6.reshape(-1)\n",
    "x11  ## 视图"
   ]
  },
  {
   "cell_type": "markdown",
   "id": "chief-stroke",
   "metadata": {},
   "source": [
    "### 拼接\n",
    "* 副本，非视图"
   ]
  },
  {
   "cell_type": "code",
   "execution_count": 44,
   "id": "awful-camera",
   "metadata": {},
   "outputs": [],
   "source": [
    "x1 = np.array([[1, 2, 3],\n",
    "              [4, 5, 6]])\n",
    "x2 = np.array([[7, 8, 9],\n",
    "              [0, 1, 2]])"
   ]
  },
  {
   "cell_type": "markdown",
   "id": "appointed-plasma",
   "metadata": {},
   "source": [
    "**水平拼接**\n",
    "* np.hstack()\n",
    "* np.c_()"
   ]
  },
  {
   "cell_type": "code",
   "execution_count": 45,
   "id": "complicated-twelve",
   "metadata": {},
   "outputs": [
    {
     "data": {
      "text/plain": [
       "array([[1, 2, 3, 7, 8, 9],\n",
       "       [4, 5, 6, 0, 1, 2]])"
      ]
     },
     "execution_count": 45,
     "metadata": {},
     "output_type": "execute_result"
    }
   ],
   "source": [
    "x3 = np.hstack([x1, x2])\n",
    "x3"
   ]
  },
  {
   "cell_type": "code",
   "execution_count": 46,
   "id": "handmade-mission",
   "metadata": {},
   "outputs": [
    {
     "data": {
      "text/plain": [
       "array([[1, 2, 3, 7, 8, 9],\n",
       "       [4, 5, 6, 0, 1, 2]])"
      ]
     },
     "execution_count": 46,
     "metadata": {},
     "output_type": "execute_result"
    }
   ],
   "source": [
    "x4 = np.c_[x1, x2]\n",
    "x4"
   ]
  },
  {
   "cell_type": "markdown",
   "id": "graduate-edwards",
   "metadata": {},
   "source": [
    "**垂直拼接**\n",
    "* np.vstack()\n",
    "* np.r_()"
   ]
  },
  {
   "cell_type": "code",
   "execution_count": 47,
   "id": "close-personal",
   "metadata": {},
   "outputs": [
    {
     "data": {
      "text/plain": [
       "array([[1, 2, 3],\n",
       "       [4, 5, 6],\n",
       "       [7, 8, 9],\n",
       "       [0, 1, 2]])"
      ]
     },
     "execution_count": 47,
     "metadata": {},
     "output_type": "execute_result"
    }
   ],
   "source": [
    "x5 = np.vstack([x1, x2])\n",
    "x5"
   ]
  },
  {
   "cell_type": "code",
   "execution_count": 48,
   "id": "absent-september",
   "metadata": {},
   "outputs": [
    {
     "data": {
      "text/plain": [
       "array([[1, 2, 3],\n",
       "       [4, 5, 6],\n",
       "       [7, 8, 9],\n",
       "       [0, 1, 2]])"
      ]
     },
     "execution_count": 48,
     "metadata": {},
     "output_type": "execute_result"
    }
   ],
   "source": [
    "x6 = np.r_[x1, x2]\n",
    "x6"
   ]
  },
  {
   "cell_type": "markdown",
   "id": "informational-oriental",
   "metadata": {},
   "source": [
    "### 分裂\n",
    "* np.split()\n",
    "* np.hsplit()\n",
    "* np.vsplit()"
   ]
  },
  {
   "cell_type": "code",
   "execution_count": 51,
   "id": "moving-interpretation",
   "metadata": {},
   "outputs": [
    {
     "data": {
      "text/plain": [
       "array([0, 1, 2, 3, 4, 5, 6, 7, 8, 9])"
      ]
     },
     "execution_count": 51,
     "metadata": {},
     "output_type": "execute_result"
    }
   ],
   "source": [
    "x6 = np.arange(10)\n",
    "x6"
   ]
  },
  {
   "cell_type": "code",
   "execution_count": 52,
   "id": "supposed-glossary",
   "metadata": {},
   "outputs": [
    {
     "name": "stdout",
     "output_type": "stream",
     "text": [
      "[0 1] [2 3 4 5 6] [7 8 9]\n"
     ]
    }
   ],
   "source": [
    "x1, x2, x3 = np.split(x6, [2, 7])\n",
    "print(x1, x2, x3)"
   ]
  },
  {
   "cell_type": "code",
   "execution_count": 53,
   "id": "objective-receiver",
   "metadata": {},
   "outputs": [
    {
     "data": {
      "text/plain": [
       "array([[ 1,  2,  3,  4,  5],\n",
       "       [ 6,  7,  8,  9, 10],\n",
       "       [11, 12, 13, 14, 15],\n",
       "       [16, 17, 18, 19, 20],\n",
       "       [21, 22, 23, 24, 25]])"
      ]
     },
     "execution_count": 53,
     "metadata": {},
     "output_type": "execute_result"
    }
   ],
   "source": [
    "x7 = np.arange(1, 26).reshape(5, 5)\n",
    "x7"
   ]
  },
  {
   "cell_type": "code",
   "execution_count": 54,
   "id": "modern-crystal",
   "metadata": {},
   "outputs": [
    {
     "name": "stdout",
     "output_type": "stream",
     "text": [
      "left:\n",
      " [[ 1  2]\n",
      " [ 6  7]\n",
      " [11 12]\n",
      " [16 17]\n",
      " [21 22]]\n",
      "middle:\n",
      " [[ 3  4]\n",
      " [ 8  9]\n",
      " [13 14]\n",
      " [18 19]\n",
      " [23 24]]\n",
      "right:\n",
      " [[ 5]\n",
      " [10]\n",
      " [15]\n",
      " [20]\n",
      " [25]]\n"
     ]
    }
   ],
   "source": [
    "left, middle, right = np.hsplit(x7, [2,4])\n",
    "print(\"left:\\n\", left)            # 第0~1列\n",
    "print(\"middle:\\n\", middle)        # 第2~3列\n",
    "print(\"right:\\n\", right)          # 第4列"
   ]
  },
  {
   "cell_type": "code",
   "execution_count": 55,
   "id": "uniform-academy",
   "metadata": {},
   "outputs": [
    {
     "name": "stdout",
     "output_type": "stream",
     "text": [
      "upper:\n",
      " [[ 1  2  3  4  5]\n",
      " [ 6  7  8  9 10]]\n",
      "middle:\n",
      " [[11 12 13 14 15]\n",
      " [16 17 18 19 20]]\n",
      "lower:\n",
      " [[21 22 23 24 25]]\n"
     ]
    }
   ],
   "source": [
    "upper, middle, lower = np.vsplit(x7, [2,4])\n",
    "print(\"upper:\\n\", upper)         # 第0~1行\n",
    "print(\"middle:\\n\", middle)       # 第2~3行\n",
    "print(\"lower:\\n\", lower)         # 第4行"
   ]
  },
  {
   "cell_type": "markdown",
   "id": "matched-baltimore",
   "metadata": {},
   "source": [
    "## 数组运算\n",
    "### 矩阵运算"
   ]
  },
  {
   "cell_type": "code",
   "execution_count": 57,
   "id": "funky-formation",
   "metadata": {},
   "outputs": [
    {
     "data": {
      "text/plain": [
       "array([[0, 1, 2],\n",
       "       [3, 4, 5],\n",
       "       [6, 7, 8]])"
      ]
     },
     "execution_count": 57,
     "metadata": {},
     "output_type": "execute_result"
    }
   ],
   "source": [
    "x = np.arange(9).reshape(3, 3)\n",
    "x"
   ]
  },
  {
   "cell_type": "code",
   "execution_count": 58,
   "id": "elect-picture",
   "metadata": {},
   "outputs": [
    {
     "data": {
      "text/plain": [
       "array([[0, 3, 6],\n",
       "       [1, 4, 7],\n",
       "       [2, 5, 8]])"
      ]
     },
     "execution_count": 58,
     "metadata": {},
     "output_type": "execute_result"
    }
   ],
   "source": [
    "y = x.T\n",
    "y"
   ]
  },
  {
   "cell_type": "code",
   "execution_count": 59,
   "id": "ancient-charleston",
   "metadata": {},
   "outputs": [],
   "source": [
    "x = np.array([[1, 0],\n",
    "             [1, 1]])\n",
    "y = np.array([[0, 1],\n",
    "             [1, 1]])"
   ]
  },
  {
   "cell_type": "code",
   "execution_count": 60,
   "id": "hydraulic-australian",
   "metadata": {},
   "outputs": [
    {
     "data": {
      "text/plain": [
       "array([[0, 1],\n",
       "       [1, 2]])"
      ]
     },
     "execution_count": 60,
     "metadata": {},
     "output_type": "execute_result"
    }
   ],
   "source": [
    "x.dot(y)"
   ]
  },
  {
   "cell_type": "code",
   "execution_count": 61,
   "id": "extensive-intranet",
   "metadata": {},
   "outputs": [
    {
     "data": {
      "text/plain": [
       "array([[0, 1],\n",
       "       [1, 2]])"
      ]
     },
     "execution_count": 61,
     "metadata": {},
     "output_type": "execute_result"
    }
   ],
   "source": [
    "np.dot(x, y)"
   ]
  },
  {
   "cell_type": "code",
   "execution_count": 62,
   "id": "level-technique",
   "metadata": {},
   "outputs": [
    {
     "data": {
      "text/plain": [
       "array([[1, 1],\n",
       "       [2, 1]])"
      ]
     },
     "execution_count": 62,
     "metadata": {},
     "output_type": "execute_result"
    }
   ],
   "source": [
    "y.dot(x)"
   ]
  },
  {
   "cell_type": "code",
   "execution_count": 63,
   "id": "greatest-germany",
   "metadata": {},
   "outputs": [
    {
     "data": {
      "text/plain": [
       "array([[1, 1],\n",
       "       [2, 1]])"
      ]
     },
     "execution_count": 63,
     "metadata": {},
     "output_type": "execute_result"
    }
   ],
   "source": [
    "np.dot(y, x)"
   ]
  },
  {
   "cell_type": "code",
   "execution_count": 64,
   "id": "streaming-peace",
   "metadata": {},
   "outputs": [
    {
     "data": {
      "text/plain": [
       "array([[0, 0],\n",
       "       [1, 1]])"
      ]
     },
     "execution_count": 64,
     "metadata": {},
     "output_type": "execute_result"
    }
   ],
   "source": [
    "x*y"
   ]
  },
  {
   "cell_type": "markdown",
   "id": "complete-pharmacology",
   "metadata": {},
   "source": [
    "### 广播运算\n",
    "* 如果两个数组的形状在维度上不匹配，那么数组的形式会沿着维度为1的维度进行扩展以匹配另一个数组的形状。"
   ]
  },
  {
   "cell_type": "markdown",
   "id": "looking-amplifier",
   "metadata": {},
   "source": [
    "## 其他通用函数\n",
    "### 数值排序\n",
    "* np.sort(x)  --> 产生新序列\n",
    "* x.sort()  --> 修改原序列"
   ]
  },
  {
   "cell_type": "code",
   "execution_count": 73,
   "id": "constitutional-macintosh",
   "metadata": {},
   "outputs": [
    {
     "data": {
      "text/plain": [
       "array([28, 47, 44, 23, 47, 49, 31, 47, 31, 43])"
      ]
     },
     "execution_count": 73,
     "metadata": {},
     "output_type": "execute_result"
    }
   ],
   "source": [
    "x = np.random.randint(20, 50, size=10)\n",
    "x"
   ]
  },
  {
   "cell_type": "code",
   "execution_count": 69,
   "id": "endless-custody",
   "metadata": {},
   "outputs": [
    {
     "name": "stdout",
     "output_type": "stream",
     "text": [
      "[23 25 26 31 36 37 38 41 42 44]\n",
      "[42 38 25 44 41 26 37 31 23 36]\n"
     ]
    }
   ],
   "source": [
    "print(np.sort(x))\n",
    "print(x)"
   ]
  },
  {
   "cell_type": "code",
   "execution_count": 71,
   "id": "romance-thursday",
   "metadata": {},
   "outputs": [
    {
     "name": "stdout",
     "output_type": "stream",
     "text": [
      "[23 25 26 31 36 37 38 41 42 44]\n"
     ]
    }
   ],
   "source": [
    "x.sort()\n",
    "print(x)"
   ]
  },
  {
   "cell_type": "markdown",
   "id": "recreational-bathroom",
   "metadata": {},
   "source": [
    "* 获取索引值"
   ]
  },
  {
   "cell_type": "code",
   "execution_count": 74,
   "id": "afraid-shelf",
   "metadata": {},
   "outputs": [
    {
     "data": {
      "text/plain": [
       "array([3, 0, 6, 8, 9, 2, 1, 4, 7, 5])"
      ]
     },
     "execution_count": 74,
     "metadata": {},
     "output_type": "execute_result"
    }
   ],
   "source": [
    "i = np.argsort(x)\n",
    "i"
   ]
  },
  {
   "cell_type": "markdown",
   "id": "satellite-economics",
   "metadata": {},
   "source": [
    "### 数值计算\n",
    "* np.sum(x(,[axis=])) or x.sum()\n",
    "* np.prod(x) or x.prod()\n",
    "* np.mean(x) or x.mean()\n",
    "* np.std(x) or x.std()\n",
    "* np.var(x) or x.var()"
   ]
  },
  {
   "cell_type": "markdown",
   "id": "lined-sheffield",
   "metadata": {},
   "source": [
    "# Matplotlib库\n",
    "详见附录"
   ]
  },
  {
   "cell_type": "code",
   "execution_count": null,
   "id": "voluntary-province",
   "metadata": {},
   "outputs": [],
   "source": []
  }
 ],
 "metadata": {
  "kernelspec": {
   "display_name": "Python 3",
   "language": "python",
   "name": "python3"
  },
  "language_info": {
   "codemirror_mode": {
    "name": "ipython",
    "version": 3
   },
   "file_extension": ".py",
   "mimetype": "text/x-python",
   "name": "python",
   "nbconvert_exporter": "python",
   "pygments_lexer": "ipython3",
   "version": "3.7.9"
  },
  "toc": {
   "base_numbering": 1,
   "nav_menu": {},
   "number_sections": true,
   "sideBar": true,
   "skip_h1_title": false,
   "title_cell": "Table of Contents",
   "title_sidebar": "Contents",
   "toc_cell": false,
   "toc_position": {},
   "toc_section_display": true,
   "toc_window_display": true
  }
 },
 "nbformat": 4,
 "nbformat_minor": 5
}
