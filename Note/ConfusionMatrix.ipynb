{
 "cells": [
  {
   "cell_type": "code",
   "execution_count": 1,
   "id": "tribal-collectible",
   "metadata": {},
   "outputs": [],
   "source": [
    "import numpy as np\n",
    "pred_label = np.array([0,1,1,2])\n",
    "gt_label = np.array([1,1,1,1])\n",
    "\n",
    "lb_max = np.max((pred_label, gt_label))"
   ]
  },
  {
   "cell_type": "code",
   "execution_count": 2,
   "id": "basic-seeking",
   "metadata": {},
   "outputs": [
    {
     "data": {
      "text/plain": [
       "2"
      ]
     },
     "execution_count": 2,
     "metadata": {},
     "output_type": "execute_result"
    }
   ],
   "source": [
    "lb_max"
   ]
  },
  {
   "cell_type": "code",
   "execution_count": 9,
   "id": "expressed-receipt",
   "metadata": {},
   "outputs": [
    {
     "data": {
      "text/plain": [
       "array([False,  True,  True,  True,  True,  True])"
      ]
     },
     "execution_count": 9,
     "metadata": {},
     "output_type": "execute_result"
    }
   ],
   "source": [
    "import math\n",
    "gt_label = np.array([-1,1,0,1,0,1])\n",
    "mask = gt_label >= 0\n",
    "mask"
   ]
  },
  {
   "cell_type": "code",
   "execution_count": 11,
   "id": "ethical-motorcycle",
   "metadata": {},
   "outputs": [
    {
     "data": {
      "text/plain": [
       "array([1, 0, 1, 0, 1])"
      ]
     },
     "execution_count": 11,
     "metadata": {},
     "output_type": "execute_result"
    }
   ],
   "source": [
    "gt_label[mask]"
   ]
  },
  {
   "cell_type": "code",
   "execution_count": 16,
   "id": "prime-blade",
   "metadata": {},
   "outputs": [
    {
     "name": "stdout",
     "output_type": "stream",
     "text": [
      "[1 3 3 4 5 4 7]\n",
      "[0 1 0 2 2 1 0 1]\n",
      "[0 1 0 2 2 1 0 1 0]\n",
      "[[0 1 0]\n",
      " [2 2 1]\n",
      " [0 1 0]]\n"
     ]
    }
   ],
   "source": [
    "x = np.array([1,3,3,4,5,4,7])\n",
    "x_True_False1 = np.array([True,True,True,True,True,True,True])\n",
    "x1 = x[x_True_False1]\t# [3 3 4 5 4 7]\n",
    "x_True_False2 = np.array([True,True,True,True,True,True,True])\n",
    "x = x[x_True_False2]\n",
    "print(x)                # [1 3 3 4 5 4 7]\n",
    "\n",
    "y = np.bincount(x)      # 返回从0到输入array中最大值 每个数出现的次数\n",
    "print(y)                # [0 1 0 2 2 1 0 1]\n",
    "z = np.bincount(x, minlength=9)     # minlength限制返回列表的最小长度，长度不够，0来凑\n",
    "print(z)                # [0 1 0 2 2 1 0 1 0]\n",
    "print(z.reshape(3,3))"
   ]
  },
  {
   "cell_type": "code",
   "execution_count": 13,
   "id": "asian-greene",
   "metadata": {},
   "outputs": [
    {
     "name": "stdout",
     "output_type": "stream",
     "text": [
      "[[0 0 0 0 0 0 0 0 0 0]\n",
      " [0 1 0 0 0 0 0 0 0 0]\n",
      " [0 0 0 0 0 0 0 0 0 0]\n",
      " [0 0 0 2 0 0 0 0 0 0]\n",
      " [0 0 0 0 1 1 0 0 0 0]\n",
      " [0 0 0 0 0 1 0 0 0 0]\n",
      " [0 0 0 0 0 0 0 0 0 0]\n",
      " [0 0 0 0 0 0 0 1 0 0]\n",
      " [0 0 0 0 0 0 0 0 0 0]\n",
      " [0 0 0 0 0 0 0 0 0 0]]\n"
     ]
    }
   ],
   "source": [
    "x = np.array([1,3,3,4,5,4,7])\n",
    "x_label = np.array([1,3,3,4,5,5,7])     # 假设有10类\n",
    "print(np.bincount(10*x.astype(int)+x_label, minlength=10**2).reshape(10,10))"
   ]
  },
  {
   "cell_type": "code",
   "execution_count": null,
   "id": "boolean-protocol",
   "metadata": {},
   "outputs": [],
   "source": []
  }
 ],
 "metadata": {
  "kernelspec": {
   "display_name": "Python 3",
   "language": "python",
   "name": "python3"
  },
  "language_info": {
   "codemirror_mode": {
    "name": "ipython",
    "version": 3
   },
   "file_extension": ".py",
   "mimetype": "text/x-python",
   "name": "python",
   "nbconvert_exporter": "python",
   "pygments_lexer": "ipython3",
   "version": "3.7.9"
  },
  "toc": {
   "base_numbering": 1,
   "nav_menu": {},
   "number_sections": true,
   "sideBar": true,
   "skip_h1_title": false,
   "title_cell": "Table of Contents",
   "title_sidebar": "Contents",
   "toc_cell": false,
   "toc_position": {},
   "toc_section_display": true,
   "toc_window_display": false
  }
 },
 "nbformat": 4,
 "nbformat_minor": 5
}
