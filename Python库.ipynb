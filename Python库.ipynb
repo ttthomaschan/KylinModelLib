{
 "cells": [
  {
   "cell_type": "markdown",
   "id": "mathematical-harassment",
   "metadata": {},
   "source": [
    "# 标准库"
   ]
  },
  {
   "cell_type": "markdown",
   "id": "manufactured-hello",
   "metadata": {},
   "source": [
    "## time库\n",
    "* Python处理时间的标准库\n",
    "\n",
    "### 获取现在时间\n",
    "* time.localtime()  本地时间\n",
    "* time.ctime()"
   ]
  },
  {
   "cell_type": "code",
   "execution_count": 4,
   "id": "answering-speaking",
   "metadata": {},
   "outputs": [
    {
     "data": {
      "text/plain": [
       "time.struct_time(tm_year=2021, tm_mon=7, tm_mday=6, tm_hour=16, tm_min=20, tm_sec=56, tm_wday=1, tm_yday=187, tm_isdst=0)"
      ]
     },
     "execution_count": 4,
     "metadata": {},
     "output_type": "execute_result"
    }
   ],
   "source": [
    "import time\n",
    "\n",
    "time.localtime()"
   ]
  },
  {
   "cell_type": "code",
   "execution_count": 3,
   "id": "perceived-insured",
   "metadata": {},
   "outputs": [
    {
     "data": {
      "text/plain": [
       "'Tue Jul  6 16:20:43 2021'"
      ]
     },
     "execution_count": 3,
     "metadata": {},
     "output_type": "execute_result"
    }
   ],
   "source": [
    "time.ctime()     "
   ]
  },
  {
   "cell_type": "markdown",
   "id": "asian-publication",
   "metadata": {},
   "source": [
    "### 格式化时间"
   ]
  },
  {
   "cell_type": "code",
   "execution_count": 5,
   "id": "warming-columbia",
   "metadata": {},
   "outputs": [
    {
     "data": {
      "text/plain": [
       "'2021-07-06 Tuesday 16:24:50'"
      ]
     },
     "execution_count": 5,
     "metadata": {},
     "output_type": "execute_result"
    }
   ],
   "source": [
    "loctime = time.localtime()\n",
    "time.strftime(\"%Y-%m-%d %A %H:%M:%S\", loctime)"
   ]
  },
  {
   "cell_type": "markdown",
   "id": "precious-colombia",
   "metadata": {},
   "source": [
    "### 睡眠\n",
    "* time.sleep()\n",
    "\n",
    "### 时间戳和计时器\n",
    "* time.time() "
   ]
  },
  {
   "cell_type": "markdown",
   "id": "fuzzy-actress",
   "metadata": {},
   "source": [
    "## random库\n",
    "* Python通过random库提供各种伪随机数\n",
    "\n",
    "### 随机种子\n",
    "* **seed(a=None)**\n",
    "* 相同种子会产生相同的随机数\n",
    "* 如果不设置随机种子，以系统当前时间为默认值"
   ]
  },
  {
   "cell_type": "code",
   "execution_count": 7,
   "id": "retired-aquatic",
   "metadata": {},
   "outputs": [
    {
     "name": "stdout",
     "output_type": "stream",
     "text": [
      "0.5714025946899135\n",
      "0.5714025946899135\n"
     ]
    }
   ],
   "source": [
    "from random import *\n",
    "\n",
    "seed(10)\n",
    "print(random())\n",
    "seed(10)\n",
    "print(random())"
   ]
  },
  {
   "cell_type": "code",
   "execution_count": 8,
   "id": "naked-evening",
   "metadata": {},
   "outputs": [
    {
     "name": "stdout",
     "output_type": "stream",
     "text": [
      "0.4288890546751146\n"
     ]
    }
   ],
   "source": [
    "print(random())"
   ]
  },
  {
   "cell_type": "markdown",
   "id": "configured-valuation",
   "metadata": {},
   "source": [
    "### 随机整数\n",
    "* **randint(a, b) ——产生[a, b]之间的随机整数**"
   ]
  },
  {
   "cell_type": "code",
   "execution_count": 10,
   "id": "civil-formula",
   "metadata": {},
   "outputs": [
    {
     "data": {
      "text/plain": [
       "[10, 1, 4, 8, 8, 5, 3, 1, 9, 8]"
      ]
     },
     "execution_count": 10,
     "metadata": {},
     "output_type": "execute_result"
    }
   ],
   "source": [
    "numbers = [randint(1,10) for i in range(10)]\n",
    "numbers"
   ]
  },
  {
   "cell_type": "markdown",
   "id": "later-triumph",
   "metadata": {},
   "source": [
    "### 随机浮点数\n",
    "* **（1）random() ——产生[0.0, 1.0)之间的随机浮点数**\n",
    "* **（2）uniform(a, b) ——产生[a, b]之间的随机浮点数**"
   ]
  },
  {
   "cell_type": "code",
   "execution_count": 11,
   "id": "black-holocaust",
   "metadata": {},
   "outputs": [
    {
     "data": {
      "text/plain": [
       "[0.32777281162209315,\n",
       " 0.24999667668640035,\n",
       " 0.9528169091459117,\n",
       " 0.9965569925394552,\n",
       " 0.04455638245043303,\n",
       " 0.860161037286291,\n",
       " 0.603190610968185,\n",
       " 0.3816059859191179,\n",
       " 0.28361821790671515,\n",
       " 0.674964847134956]"
      ]
     },
     "execution_count": 11,
     "metadata": {},
     "output_type": "execute_result"
    }
   ],
   "source": [
    "numbers = [random() for i in range(10)]\n",
    "numbers"
   ]
  },
  {
   "cell_type": "code",
   "execution_count": 12,
   "id": "naval-penny",
   "metadata": {},
   "outputs": [
    {
     "data": {
      "text/plain": [
       "[2.739563611481628,\n",
       " 3.0602060796644324,\n",
       " 3.0265848480732913,\n",
       " 2.286169402597098,\n",
       " 3.1749729395215867,\n",
       " 3.475378548615667,\n",
       " 3.4571434245668864,\n",
       " 2.9586575487653928,\n",
       " 2.161964886010469,\n",
       " 2.1056772018217704]"
      ]
     },
     "execution_count": 12,
     "metadata": {},
     "output_type": "execute_result"
    }
   ],
   "source": [
    "numbers = [uniform(2.1, 3.5) for i in range(10)]\n",
    "numbers"
   ]
  },
  {
   "cell_type": "markdown",
   "id": "normal-rotation",
   "metadata": {},
   "source": [
    "### 序列函数\n",
    "* **（1）choice(seq)——从序列类型中随机返回一个元素**\n",
    "* **（2）shuffle(seq)——将序列类型中元素随机排列，返回打乱后的序列**\n",
    "* **（3）sample(pop, k)——从pop类型中随机选取k个元素，以列表类型返回**"
   ]
  },
  {
   "cell_type": "code",
   "execution_count": 13,
   "id": "multiple-wisdom",
   "metadata": {},
   "outputs": [
    {
     "data": {
      "text/plain": [
       "'win'"
      ]
     },
     "execution_count": 13,
     "metadata": {},
     "output_type": "execute_result"
    }
   ],
   "source": [
    "choice(['win', 'lose', 'draw'])"
   ]
  },
  {
   "cell_type": "code",
   "execution_count": 14,
   "id": "accessible-burlington",
   "metadata": {},
   "outputs": [
    {
     "data": {
      "text/plain": [
       "['one', 'three', 'four', 'two']"
      ]
     },
     "execution_count": 14,
     "metadata": {},
     "output_type": "execute_result"
    }
   ],
   "source": [
    "numbers = [\"one\", \"two\", \"three\", \"four\"]\n",
    "shuffle(numbers)\n",
    "numbers"
   ]
  },
  {
   "cell_type": "code",
   "execution_count": 15,
   "id": "split-award",
   "metadata": {},
   "outputs": [
    {
     "data": {
      "text/plain": [
       "[20, 30, 40]"
      ]
     },
     "execution_count": 15,
     "metadata": {},
     "output_type": "execute_result"
    }
   ],
   "source": [
    "sample([10, 20, 30, 40, 50], k=3)"
   ]
  },
  {
   "cell_type": "markdown",
   "id": "champion-brown",
   "metadata": {},
   "source": [
    "### 概率分布\n",
    "* **（1）gauss(mean, std)——生产一个符合高斯分布的随机数**"
   ]
  },
  {
   "cell_type": "code",
   "execution_count": 19,
   "id": "flexible-rabbit",
   "metadata": {},
   "outputs": [
    {
     "data": {
      "text/plain": [
       "0.5263476904033779"
      ]
     },
     "execution_count": 19,
     "metadata": {},
     "output_type": "execute_result"
    }
   ],
   "source": [
    "number = gauss(0, 1)\n",
    "number"
   ]
  },
  {
   "cell_type": "code",
   "execution_count": 21,
   "id": "constitutional-creek",
   "metadata": {},
   "outputs": [
    {
     "data": {
      "image/png": "[encoded data removed]",
      "text/plain": [
       "<Figure size 432x288 with 1 Axes>"
      ]
     },
     "metadata": {
      "needs_background": "light"
     },
     "output_type": "display_data"
    }
   ],
   "source": [
    "import matplotlib.pyplot as plt\n",
    "\n",
    "res = [gauss(0, 1) for i in range(100000)]\n",
    "\n",
    "plt.hist(res, bins=1000)\n",
    "plt.show()"
   ]
  },
  {
   "cell_type": "markdown",
   "id": "collectible-consensus",
   "metadata": {},
   "source": [
    "## collections库\n",
    "* 容器数据类型\n",
    "\n",
    "### 具名元组\n",
    "* **namedtuple(typename, field_names, *, rename=False, defaults=None, module=None)**"
   ]
  },
  {
   "cell_type": "code",
   "execution_count": 22,
   "id": "resident-library",
   "metadata": {},
   "outputs": [
    {
     "data": {
      "text/plain": [
       "Point(x=1, y=2)"
      ]
     },
     "execution_count": 22,
     "metadata": {},
     "output_type": "execute_result"
    }
   ],
   "source": [
    "import collections\n",
    "\n",
    "'''\n",
    "点的坐标，仅看数据，很难知道表达的是一个点的坐标，构建一个新的元组子类，专门表示点。\n",
    "'''\n",
    "\n",
    "Point = collections.namedtuple(\"Point\", [\"x\", \"y\"])\n",
    "p = Point(1, y=2)\n",
    "p"
   ]
  },
  {
   "cell_type": "markdown",
   "id": "accepting-indianapolis",
   "metadata": {},
   "source": [
    "* 可以调用属性"
   ]
  },
  {
   "cell_type": "code",
   "execution_count": 23,
   "id": "heavy-liberia",
   "metadata": {},
   "outputs": [
    {
     "name": "stdout",
     "output_type": "stream",
     "text": [
      "1\n",
      "2\n"
     ]
    }
   ],
   "source": [
    "print(p.x)\n",
    "print(p.y)"
   ]
  },
  {
   "cell_type": "markdown",
   "id": "listed-three",
   "metadata": {},
   "source": [
    "* 是元组的子类"
   ]
  },
  {
   "cell_type": "code",
   "execution_count": 24,
   "id": "blond-siemens",
   "metadata": {},
   "outputs": [
    {
     "name": "stdout",
     "output_type": "stream",
     "text": [
      "True\n"
     ]
    }
   ],
   "source": [
    "print(isinstance(p, tuple))"
   ]
  },
  {
   "cell_type": "markdown",
   "id": "interior-engineer",
   "metadata": {},
   "source": [
    "### 计数器工具\n",
    "* Counter()"
   ]
  },
  {
   "cell_type": "code",
   "execution_count": 25,
   "id": "alleged-emphasis",
   "metadata": {},
   "outputs": [
    {
     "name": "stdout",
     "output_type": "stream",
     "text": [
      "Counter({'奶': 5, '牛': 2, '找': 1, '刘': 1, '买': 1})\n",
      "Counter({'blue': 3, 'red': 2, 'green': 1})\n"
     ]
    }
   ],
   "source": [
    "from collections import Counter\n",
    "\n",
    "s = \"牛奶奶找刘奶奶买牛奶\"\n",
    "cnt_str = Counter(s)\n",
    "print(cnt_str)\n",
    "\n",
    "colors = ['red', 'blue', 'red', 'green', 'blue', 'blue']\n",
    "cnt_color = Counter(colors)\n",
    "print(cnt_color)"
   ]
  },
  {
   "cell_type": "markdown",
   "id": "stopped-ottawa",
   "metadata": {},
   "source": [
    "* 是字典的一个子类"
   ]
  },
  {
   "cell_type": "code",
   "execution_count": 26,
   "id": "timely-cleveland",
   "metadata": {},
   "outputs": [
    {
     "name": "stdout",
     "output_type": "stream",
     "text": [
      "True\n"
     ]
    }
   ],
   "source": [
    "print(isinstance(Counter(), dict))"
   ]
  },
  {
   "cell_type": "markdown",
   "id": "unauthorized-mitchell",
   "metadata": {},
   "source": [
    "* most_commom(n) -- 提供 n 个频率最高的元素和计数"
   ]
  },
  {
   "cell_type": "code",
   "execution_count": 27,
   "id": "american-citation",
   "metadata": {},
   "outputs": [
    {
     "data": {
      "text/plain": [
       "[('blue', 3), ('red', 2)]"
      ]
     },
     "execution_count": 27,
     "metadata": {},
     "output_type": "execute_result"
    }
   ],
   "source": [
    "cnt_color.most_common(2)"
   ]
  },
  {
   "cell_type": "markdown",
   "id": "cardiovascular-thumbnail",
   "metadata": {},
   "source": [
    "## iteratools库"
   ]
  },
  {
   "cell_type": "markdown",
   "id": "korean-species",
   "metadata": {},
   "source": [
    "### 排列组合迭代器\n",
    "（1）笛卡尔积 -- product"
   ]
  },
  {
   "cell_type": "code",
   "execution_count": 30,
   "id": "judicial-settle",
   "metadata": {},
   "outputs": [
    {
     "name": "stdout",
     "output_type": "stream",
     "text": [
      "('A', '0')\n",
      "('A', '1')\n",
      "('B', '0')\n",
      "('B', '1')\n",
      "('C', '0')\n",
      "('C', '1')\n"
     ]
    }
   ],
   "source": [
    "import itertools\n",
    "\n",
    "for i in itertools.product('ABC', '01'):\n",
    "    print(i)"
   ]
  },
  {
   "cell_type": "markdown",
   "id": "authentic-pharmaceutical",
   "metadata": {},
   "source": [
    "（2）排列 -- permutations"
   ]
  },
  {
   "cell_type": "code",
   "execution_count": 32,
   "id": "supposed-terrorism",
   "metadata": {},
   "outputs": [
    {
     "name": "stdout",
     "output_type": "stream",
     "text": [
      "('A', 'B', 'C')\n",
      "('A', 'B', 'D')\n",
      "('A', 'C', 'B')\n",
      "('A', 'C', 'D')\n",
      "('A', 'D', 'B')\n",
      "('A', 'D', 'C')\n",
      "('B', 'A', 'C')\n",
      "('B', 'A', 'D')\n",
      "('B', 'C', 'A')\n",
      "('B', 'C', 'D')\n",
      "('B', 'D', 'A')\n",
      "('B', 'D', 'C')\n",
      "('C', 'A', 'B')\n",
      "('C', 'A', 'D')\n",
      "('C', 'B', 'A')\n",
      "('C', 'B', 'D')\n",
      "('C', 'D', 'A')\n",
      "('C', 'D', 'B')\n",
      "('D', 'A', 'B')\n",
      "('D', 'A', 'C')\n",
      "('D', 'B', 'A')\n",
      "('D', 'B', 'C')\n",
      "('D', 'C', 'A')\n",
      "('D', 'C', 'B')\n"
     ]
    }
   ],
   "source": [
    "for i in itertools.permutations('ABCD', 3):   # 3 是排列的长度\n",
    "    print(i)"
   ]
  },
  {
   "cell_type": "markdown",
   "id": "early-stocks",
   "metadata": {},
   "source": [
    "（3）组合 -- combinations"
   ]
  },
  {
   "cell_type": "code",
   "execution_count": 33,
   "id": "polyphonic-banana",
   "metadata": {},
   "outputs": [
    {
     "name": "stdout",
     "output_type": "stream",
     "text": [
      "('A', 'B')\n",
      "('A', 'C')\n",
      "('A', 'D')\n",
      "('B', 'C')\n",
      "('B', 'D')\n",
      "('C', 'D')\n"
     ]
    }
   ],
   "source": [
    "for i in itertools.combinations('ABCD', 2):  # 2是组合的长度\n",
    "    print(i)"
   ]
  },
  {
   "cell_type": "markdown",
   "id": "explicit-bachelor",
   "metadata": {},
   "source": [
    "### 拉链\n",
    "**（1）短拉链 -- zip**\n",
    "* 长度不一时，执行到最短的对象处，就停止"
   ]
  },
  {
   "cell_type": "code",
   "execution_count": 34,
   "id": "martial-connecticut",
   "metadata": {},
   "outputs": [
    {
     "name": "stdout",
     "output_type": "stream",
     "text": [
      "('A', '0', 'x')\n",
      "('B', '1', 'y')\n",
      "('C', '2', 'z')\n"
     ]
    }
   ],
   "source": [
    "for i in zip(\"ABC\", \"012\", \"xyz\"):\n",
    "    print(i)"
   ]
  },
  {
   "cell_type": "markdown",
   "id": "protected-steps",
   "metadata": {},
   "source": [
    "**(2) 长拉链 -- zip_longest**"
   ]
  },
  {
   "cell_type": "code",
   "execution_count": 35,
   "id": "alleged-convergence",
   "metadata": {},
   "outputs": [
    {
     "name": "stdout",
     "output_type": "stream",
     "text": [
      "('A', '0')\n",
      "('B', '1')\n",
      "('C', '2')\n",
      "(None, '3')\n",
      "(None, '4')\n",
      "(None, '5')\n"
     ]
    }
   ],
   "source": [
    "for i in itertools.zip_longest(\"ABC\", \"012345\"):\n",
    "    print(i)"
   ]
  },
  {
   "cell_type": "markdown",
   "id": "solid-syndicate",
   "metadata": {},
   "source": [
    "### 枚举\n",
    "enumerate(iterable, start=0) ——枚举（Python内置）\n",
    "  \n",
    "* 产出由两个元素组成的元组，结构是（index, item）， 其中index 从start开始，item从iterable中取"
   ]
  },
  {
   "cell_type": "code",
   "execution_count": 37,
   "id": "pregnant-transcription",
   "metadata": {},
   "outputs": [
    {
     "name": "stdout",
     "output_type": "stream",
     "text": [
      "(1, 'P')\n",
      "(2, 'y')\n",
      "(3, 't')\n",
      "(4, 'h')\n",
      "(5, 'o')\n",
      "(6, 'n')\n"
     ]
    }
   ],
   "source": [
    "for i in enumerate(\"Python\", start=1):\n",
    "    print(i)"
   ]
  },
  {
   "cell_type": "markdown",
   "id": "isolated-central",
   "metadata": {},
   "source": [
    "### 分组\n",
    "groupby(iterable, key=None)——分组\n",
    "\n",
    "* 创建一个迭代器，按照key指定的方式，返回 iterable 中连续的键和组\n",
    "* 一般来说，要预先对数据进行排序\n",
    "* key为None默认把连续重复元素分组"
   ]
  },
  {
   "cell_type": "code",
   "execution_count": null,
   "id": "chief-fellowship",
   "metadata": {},
   "outputs": [],
   "source": []
  }
 ],
 "metadata": {
  "kernelspec": {
   "display_name": "Python 3",
   "language": "python",
   "name": "python3"
  },
  "language_info": {
   "codemirror_mode": {
    "name": "ipython",
    "version": 3
   },
   "file_extension": ".py",
   "mimetype": "text/x-python",
   "name": "python",
   "nbconvert_exporter": "python",
   "pygments_lexer": "ipython3",
   "version": "3.7.9"
  },
  "toc": {
   "base_numbering": 1,
   "nav_menu": {},
   "number_sections": true,
   "sideBar": true,
   "skip_h1_title": false,
   "title_cell": "Table of Contents",
   "title_sidebar": "Contents",
   "toc_cell": false,
   "toc_position": {},
   "toc_section_display": true,
   "toc_window_display": true
  }
 },
 "nbformat": 4,
 "nbformat_minor": 5
}
