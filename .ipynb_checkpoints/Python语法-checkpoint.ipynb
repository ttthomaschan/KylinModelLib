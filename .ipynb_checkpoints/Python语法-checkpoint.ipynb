{
 "cells": [
  {
   "cell_type": "markdown",
   "id": "owned-elements",
   "metadata": {},
   "source": [
    "# 基本语法"
   ]
  },
  {
   "cell_type": "markdown",
   "id": "radical-length",
   "metadata": {},
   "source": [
    "## 数据类型\n",
    "\n",
    "## 变量"
   ]
  },
  {
   "cell_type": "markdown",
   "id": "registered-soundtrack",
   "metadata": {},
   "source": [
    "### 打包赋值"
   ]
  },
  {
   "cell_type": "code",
   "execution_count": 2,
   "id": "endangered-error",
   "metadata": {},
   "outputs": [
    {
     "name": "stdout",
     "output_type": "stream",
     "text": [
      "1 2\n",
      "2 1\n"
     ]
    }
   ],
   "source": [
    "x, y = 1, 2\n",
    "print(x, y)\n",
    "x, y = y, x\n",
    "print(x, y)"
   ]
  },
  {
   "cell_type": "markdown",
   "id": "respiratory-philosophy",
   "metadata": {},
   "source": [
    "## 控制流程\n",
    "## 输入输出"
   ]
  },
  {
   "cell_type": "markdown",
   "id": "furnished-repository",
   "metadata": {},
   "source": [
    "### 动态交互输入"
   ]
  },
  {
   "cell_type": "code",
   "execution_count": 5,
   "id": "tamil-atlas",
   "metadata": {},
   "outputs": [
    {
     "name": "stdout",
     "output_type": "stream",
     "text": [
      "请输入一个数字：9\n",
      "<class 'str'>\n"
     ]
    }
   ],
   "source": [
    "x = input(\"请输入一个数字：\")\n",
    "x\n",
    "print(type(x))"
   ]
  },
  {
   "cell_type": "markdown",
   "id": "opponent-baltimore",
   "metadata": {},
   "source": [
    "* eval() 去掉引号"
   ]
  },
  {
   "cell_type": "code",
   "execution_count": 6,
   "id": "hearing-mayor",
   "metadata": {},
   "outputs": [
    {
     "name": "stdout",
     "output_type": "stream",
     "text": [
      "请输入一个数字：9\n",
      "<class 'int'>\n"
     ]
    }
   ],
   "source": [
    "x = eval(input(\"请输入一个数字：\"))\n",
    "x\n",
    "print(type(x))"
   ]
  },
  {
   "cell_type": "markdown",
   "id": "confirmed-equity",
   "metadata": {},
   "source": [
    "### 格式化输出 -- format"
   ]
  },
  {
   "cell_type": "markdown",
   "id": "genetic-classification",
   "metadata": {},
   "source": [
    "* 再进一步 修饰性输出"
   ]
  },
  {
   "cell_type": "code",
   "execution_count": 9,
   "id": "large-lobby",
   "metadata": {},
   "outputs": [
    {
     "name": "stdout",
     "output_type": "stream",
     "text": [
      "____3.141592653_____\n",
      "3.141592653*******************\n"
     ]
    }
   ],
   "source": [
    "PI = 3.141592653\n",
    "print(\"{0:_^20}\".format(PI))\n",
    "print(\"{0:*<30}\".format(PI))"
   ]
  },
  {
   "cell_type": "code",
   "execution_count": 10,
   "id": "useful-strategy",
   "metadata": {},
   "outputs": [
    {
     "name": "stdout",
     "output_type": "stream",
     "text": [
      "10,000,000\n"
     ]
    }
   ],
   "source": [
    "print(\"{0:,}\".format(10000000))"
   ]
  },
  {
   "cell_type": "code",
   "execution_count": 11,
   "id": "published-inside",
   "metadata": {},
   "outputs": [
    {
     "name": "stdout",
     "output_type": "stream",
     "text": [
      "3.14\n"
     ]
    }
   ],
   "source": [
    "print(\"{0:.2f}\".format(PI))"
   ]
  },
  {
   "cell_type": "code",
   "execution_count": 12,
   "id": "blond-surface",
   "metadata": {},
   "outputs": [
    {
     "name": "stdout",
     "output_type": "stream",
     "text": [
      "81.9%\n"
     ]
    }
   ],
   "source": [
    "print(\"{0:.1%}\".format(0.818727))"
   ]
  },
  {
   "cell_type": "code",
   "execution_count": 13,
   "id": "outer-quilt",
   "metadata": {},
   "outputs": [
    {
     "name": "stdout",
     "output_type": "stream",
     "text": [
      "8.19e-01\n"
     ]
    }
   ],
   "source": [
    "print(\"{0:.2e}\".format(0.818727))"
   ]
  },
  {
   "cell_type": "code",
   "execution_count": 14,
   "id": "crucial-criticism",
   "metadata": {},
   "outputs": [
    {
     "data": {
      "text/plain": [
       "'二进制111000010,Unicode码ǂ,十进制450,八进制702,十六进制1c2'"
      ]
     },
     "execution_count": 14,
     "metadata": {},
     "output_type": "execute_result"
    }
   ],
   "source": [
    "\"二进制{0:b},Unicode码{0:c},十进制{0:d},八进制{0:o},十六进制{0:x}\".format(450)"
   ]
  },
  {
   "cell_type": "markdown",
   "id": "worthy-contest",
   "metadata": {},
   "source": [
    "归纳 <按顺序输入修饰性描述>：\n",
    "\n",
    "* <：> --  引导符号\n",
    "* <填充> -- 用于填充的字符，如*、#、_ 等\n",
    "* <对齐> -- < 左对齐；> 右对齐； ^ 居中\n",
    "* <宽度> -- 输出位数\n",
    "* <，>  -- 数字千分位分隔符\n",
    "* <.精度> -- 浮点数的小数位数\n",
    "* <类型> -- 整数类型，b,c,d,o,x; 浮点类型，e,E,f,%\n"
   ]
  },
  {
   "cell_type": "markdown",
   "id": "upset-leave",
   "metadata": {},
   "source": [
    "# 基本数据类型\n",
    "## 数字类型\n",
    "* 十进制与其他进制的转换"
   ]
  },
  {
   "cell_type": "code",
   "execution_count": 18,
   "id": "signed-annex",
   "metadata": {},
   "outputs": [
    {
     "name": "stdout",
     "output_type": "stream",
     "text": [
      "0b10000 0o20 0x10\n"
     ]
    }
   ],
   "source": [
    "a = bin(16)   # 转二进制\n",
    "b = oct(16)   # 转八进制\n",
    "c = hex(16)   # 转十六进制\n",
    "print(a, b, c)"
   ]
  },
  {
   "cell_type": "markdown",
   "id": "miniature-jonathan",
   "metadata": {},
   "source": [
    "**注意：转换后结果为字符串类型**"
   ]
  },
  {
   "cell_type": "code",
   "execution_count": 19,
   "id": "imposed-brand",
   "metadata": {},
   "outputs": [
    {
     "name": "stdout",
     "output_type": "stream",
     "text": [
      "True\n",
      "False\n"
     ]
    }
   ],
   "source": [
    "print(16 == 0b10000 == 0o20 == 0x10)\n",
    "print(a == b == c)"
   ]
  },
  {
   "cell_type": "markdown",
   "id": "reported-eclipse",
   "metadata": {},
   "source": [
    "* 其他进制转十进制"
   ]
  },
  {
   "cell_type": "code",
   "execution_count": 20,
   "id": "statewide-optimization",
   "metadata": {},
   "outputs": [
    {
     "name": "stdout",
     "output_type": "stream",
     "text": [
      "16 16 16\n"
     ]
    }
   ],
   "source": [
    "d = int(a, 2)      # 二进制转十进制\n",
    "e = int(b, 8)      # 八进制转十进制\n",
    "f = int(c, 16)     # 十六进制转十进制\n",
    "print(d, e, f)"
   ]
  },
  {
   "cell_type": "markdown",
   "id": "closing-sending",
   "metadata": {},
   "source": [
    "* 浮点数运算不确定性"
   ]
  },
  {
   "cell_type": "code",
   "execution_count": 21,
   "id": "reduced-steering",
   "metadata": {},
   "outputs": [
    {
     "data": {
      "text/plain": [
       "0.30000000000000004"
      ]
     },
     "execution_count": 21,
     "metadata": {},
     "output_type": "execute_result"
    }
   ],
   "source": [
    "0.1 + 0.2"
   ]
  },
  {
   "cell_type": "markdown",
   "id": "official-kernel",
   "metadata": {},
   "source": [
    "* 除法运算的结果是浮点数"
   ]
  },
  {
   "cell_type": "code",
   "execution_count": 23,
   "id": "historical-rental",
   "metadata": {},
   "outputs": [
    {
     "data": {
      "text/plain": [
       "2.0"
      ]
     },
     "execution_count": 23,
     "metadata": {},
     "output_type": "execute_result"
    }
   ],
   "source": [
    "8 / 4"
   ]
  },
  {
   "cell_type": "markdown",
   "id": "stupid-argentina",
   "metadata": {},
   "source": [
    "## 字符串类型\n",
    "### 字符编码\n",
    "**将中文字库，英文字母、数字、特殊字符等转化成计算机可识别的二进制数**"
   ]
  },
  {
   "cell_type": "markdown",
   "id": "signal-undergraduate",
   "metadata": {},
   "source": [
    "* 每个单一字符对应一个唯一的互不重复的二进制编码\n",
    "* Python 中使用的是Unicode编码"
   ]
  },
  {
   "cell_type": "markdown",
   "id": "covered-quilt",
   "metadata": {},
   "source": [
    "**将字符转化为Unicode码**——ord(字符)\n",
    "\n",
    "**将Unicode码转化为字符**——chr(Unicode码)"
   ]
  },
  {
   "cell_type": "code",
   "execution_count": 26,
   "id": "raising-exclusive",
   "metadata": {},
   "outputs": [
    {
     "name": "stdout",
     "output_type": "stream",
     "text": [
      "49\n",
      "97\n",
      "42\n",
      "20013\n",
      "22269\n"
     ]
    }
   ],
   "source": [
    "print(ord(\"1\"))\n",
    "print(ord(\"a\"))\n",
    "print(ord(\"*\"))\n",
    "print(ord(\"中\"))\n",
    "print(ord(\"国\"))"
   ]
  },
  {
   "cell_type": "code",
   "execution_count": 27,
   "id": "absent-donor",
   "metadata": {},
   "outputs": [
    {
     "name": "stdout",
     "output_type": "stream",
     "text": [
      "ϲ\n",
      "✐\n",
      "〹\n",
      "宠\n"
     ]
    }
   ],
   "source": [
    "print(chr(1010))\n",
    "print(chr(10000))\n",
    "print(chr(12345))\n",
    "print(chr(23456))"
   ]
  },
  {
   "cell_type": "markdown",
   "id": "finnish-registrar",
   "metadata": {},
   "source": [
    "* 字符串的聚合——“聚合字符”.join(可迭代数据类型)"
   ]
  },
  {
   "cell_type": "code",
   "execution_count": 28,
   "id": "norwegian-wealth",
   "metadata": {},
   "outputs": [
    {
     "data": {
      "text/plain": [
       "'1,2,3,4,5'"
      ]
     },
     "execution_count": 28,
     "metadata": {},
     "output_type": "execute_result"
    }
   ],
   "source": [
    "s = \"12345\"\n",
    "s_join = \",\".join(s)\n",
    "s_join"
   ]
  },
  {
   "cell_type": "markdown",
   "id": "guided-workplace",
   "metadata": {},
   "source": [
    "* 删除两端特定字符——字符串.strip(删除字符)"
   ]
  },
  {
   "cell_type": "code",
   "execution_count": 29,
   "id": "fossil-serum",
   "metadata": {},
   "outputs": [
    {
     "name": "stdout",
     "output_type": "stream",
     "text": [
      "I have many blanks\n",
      "I have many blanks     \n",
      "      I have many blanks\n",
      "      I have many blanks     \n"
     ]
    }
   ],
   "source": [
    "s = \"      I have many blanks     \"\n",
    "print(s.strip(\" \"))                        # 还有吗？hahaha\n",
    "print(s.lstrip(\" \"))\n",
    "print(s.rstrip(\" \"))\n",
    "print(s)"
   ]
  },
  {
   "cell_type": "markdown",
   "id": "opening-youth",
   "metadata": {},
   "source": [
    "* 字符串的替换——字符串.replace(\"被替换\"，\"替换成\")"
   ]
  },
  {
   "cell_type": "code",
   "execution_count": 30,
   "id": "talented-technical",
   "metadata": {},
   "outputs": [
    {
     "name": "stdout",
     "output_type": "stream",
     "text": [
      "Py is coming\n"
     ]
    }
   ],
   "source": [
    "s = \"Python is coming\"\n",
    "s1 = s.replace(\"Python\",\"Py\")\n",
    "print(s1)"
   ]
  },
  {
   "cell_type": "markdown",
   "id": "nervous-software",
   "metadata": {},
   "source": [
    "* 字符串统计——字符串.count(\"待统计字符串\")"
   ]
  },
  {
   "cell_type": "code",
   "execution_count": 32,
   "id": "separated-airport",
   "metadata": {},
   "outputs": [
    {
     "name": "stdout",
     "output_type": "stream",
     "text": [
      "an: 2\n",
      "e: 4\n"
     ]
    }
   ],
   "source": [
    "s = \"Python is an excellent language\"\n",
    "print(\"an:\", s.count(\"an\"))\n",
    "print(\"e:\", s.count(\"e\"))"
   ]
  },
  {
   "cell_type": "markdown",
   "id": "light-vegetation",
   "metadata": {},
   "source": [
    "* 字符串.upper() 字母全部大写\n",
    "* 字符串.lower() 字母全部小写\n",
    "* 字符串.title()首字母大写"
   ]
  },
  {
   "cell_type": "code",
   "execution_count": 34,
   "id": "spatial-prince",
   "metadata": {},
   "outputs": [
    {
     "name": "stdout",
     "output_type": "stream",
     "text": [
      "PYTHON\n",
      "python\n",
      "Python\n"
     ]
    }
   ],
   "source": [
    "s = \"PythOn\"\n",
    "print(s.upper())\n",
    "print(s.lower())\n",
    "print(s.title())"
   ]
  },
  {
   "cell_type": "markdown",
   "id": "complex-princess",
   "metadata": {},
   "source": [
    "## 类型判别 和 类型转换\n",
    "* isinstance(变量,预判类型)&ensp;**承认继承**\n",
    "* 变量类型是预判类型的子类型，则为真，否则为假"
   ]
  },
  {
   "cell_type": "code",
   "execution_count": 46,
   "id": "received-kennedy",
   "metadata": {},
   "outputs": [
    {
     "name": "stdout",
     "output_type": "stream",
     "text": [
      "True\n",
      "True\n",
      "True\n"
     ]
    }
   ],
   "source": [
    "age = 20\n",
    "name = \"Ada\"\n",
    "print(isinstance(age, int))  # 承认继承\n",
    "print(isinstance(age, object))\n",
    "print(isinstance(name, object))    # object 是老祖宗"
   ]
  },
  {
   "cell_type": "markdown",
   "id": "higher-wildlife",
   "metadata": {},
   "source": [
    "* str.isdigit()字符是否只有数字组成\n",
    "* str.isalpha()字符是否只有字母组成\n",
    "* str.isalnum()字符是否只有数字和字母组"
   ]
  },
  {
   "cell_type": "code",
   "execution_count": 47,
   "id": "stretch-development",
   "metadata": {},
   "outputs": [
    {
     "name": "stdout",
     "output_type": "stream",
     "text": [
      "True\n",
      "False\n"
     ]
    }
   ],
   "source": [
    "age_str = \"20\"\n",
    "print(age_str.isdigit())\n",
    "print(age_str.isalpha())"
   ]
  },
  {
   "cell_type": "markdown",
   "id": "intimate-ethics",
   "metadata": {},
   "source": [
    "* 数字类型转字符串&ensp; str(数字类型)\n",
    "* 仅有数字组成的字符串转数字&ensp; int()&ensp; float()&ensp; eval()"
   ]
  },
  {
   "cell_type": "code",
   "execution_count": 56,
   "id": "cloudy-subsection",
   "metadata": {},
   "outputs": [
    {
     "name": "stdout",
     "output_type": "stream",
     "text": [
      "My age is 20\n",
      "My age is  20\n"
     ]
    }
   ],
   "source": [
    "age = 20\n",
    "print(\"My age is \"+str(age))\n",
    "print(\"My age is \",20)"
   ]
  },
  {
   "cell_type": "markdown",
   "id": "technological-current",
   "metadata": {},
   "source": [
    "# 组合数据类型\n",
    "## 列表\n",
    "* 其他类型转列表 -- list(可迭代对象)\n",
    "* 可迭代对象包括： 字符串、元组、集合、range()等"
   ]
  },
  {
   "cell_type": "code",
   "execution_count": 60,
   "id": "possible-dating",
   "metadata": {},
   "outputs": [],
   "source": [
    "list_str = list(\"人工智能是未来的趋势\")  ## 字符串\n",
    "list_tuple = list((\"我\", \"们\", \"很\", \"像\"))  ## 元组\n",
    "list_union = list({\"李雷\", \"韩梅梅\", \"Jim\", \"Green\"})  ## 集合\n",
    "list_range = list(range(1, 11, 2))  ## range"
   ]
  },
  {
   "cell_type": "code",
   "execution_count": 62,
   "id": "heated-fleece",
   "metadata": {},
   "outputs": [
    {
     "name": "stdout",
     "output_type": "stream",
     "text": [
      "['人', '工', '智', '能', '是', '未', '来', '的', '趋', '势']\n",
      "['我', '们', '很', '像']\n",
      "['Jim', '李雷', '韩梅梅', 'Green']\n",
      "[1, 3, 5, 7, 9]\n"
     ]
    }
   ],
   "source": [
    "print(list_str)\n",
    "print(list_tuple)\n",
    "print(list_union)\n",
    "print(list_range)"
   ]
  },
  {
   "cell_type": "markdown",
   "id": "immediate-mountain",
   "metadata": {},
   "source": [
    "**列表的复制**"
   ]
  },
  {
   "cell_type": "markdown",
   "id": "sexual-spectacular",
   "metadata": {},
   "source": [
    "* 错误的复制方式 -- 只是引用"
   ]
  },
  {
   "cell_type": "code",
   "execution_count": 64,
   "id": "curious-monroe",
   "metadata": {},
   "outputs": [
    {
     "name": "stdout",
     "output_type": "stream",
     "text": [
      "['Python', 'C', 'R', 'Java']\n",
      "['Python', 'C', 'R']\n"
     ]
    }
   ],
   "source": [
    "languages = ['Python', 'C', 'R','Java']\n",
    "languages_2 = languages\n",
    "print(languages_2)\n",
    "languages.pop()\n",
    "print(languages_2)"
   ]
  },
  {
   "cell_type": "markdown",
   "id": "assigned-chemical",
   "metadata": {},
   "source": [
    "* 正确的方式——浅拷贝\n"
   ]
  },
  {
   "cell_type": "markdown",
   "id": "nasty-naples",
   "metadata": {},
   "source": [
    "* 方法1：列表.copy()"
   ]
  },
  {
   "cell_type": "code",
   "execution_count": 65,
   "id": "acute-atlantic",
   "metadata": {},
   "outputs": [
    {
     "name": "stdout",
     "output_type": "stream",
     "text": [
      "['Python', 'C', 'R']\n",
      "['Python', 'C', 'R', 'Java']\n"
     ]
    }
   ],
   "source": [
    "languages = ['Python', 'C', 'R','Java']\n",
    "languages_2 = languages.copy()\n",
    "languages.pop()\n",
    "print(languages)\n",
    "print(languages_2)"
   ]
  },
  {
   "cell_type": "markdown",
   "id": "beginning-organ",
   "metadata": {},
   "source": [
    "* 方法2：列表[&ensp;:&ensp;]"
   ]
  },
  {
   "cell_type": "code",
   "execution_count": 66,
   "id": "junior-bowling",
   "metadata": {},
   "outputs": [
    {
     "name": "stdout",
     "output_type": "stream",
     "text": [
      "['Python', 'C', 'R']\n",
      "['Python', 'C', 'R', 'Java']\n"
     ]
    }
   ],
   "source": [
    "languages = ['Python', 'C', 'R','Java']\n",
    "languages_3 = languages[:]\n",
    "languages.pop()\n",
    "print(languages)\n",
    "print(languages_3)"
   ]
  },
  {
   "cell_type": "markdown",
   "id": "tutorial-shame",
   "metadata": {},
   "source": [
    "## 元组\n",
    "## 字典"
   ]
  },
  {
   "cell_type": "markdown",
   "id": "varying-chile",
   "metadata": {},
   "source": [
    "* dict.keys()\n",
    "* dict.values()\n",
    "* dict.items()"
   ]
  },
  {
   "cell_type": "code",
   "execution_count": 69,
   "id": "similar-expert",
   "metadata": {},
   "outputs": [
    {
     "name": "stdout",
     "output_type": "stream",
     "text": [
      "[201901, 201902, 201903]\n",
      "['小明', '小红', '小强']\n",
      "[(201901, '小明'), (201902, '小红'), (201903, '小强')]\n"
     ]
    }
   ],
   "source": [
    "students = {201901: '小明', 201902: '小红', 201903: '小强'}\n",
    "print(list(students.keys()))\n",
    "print(list(students.values()))\n",
    "print(list(students.items()))"
   ]
  },
  {
   "cell_type": "code",
   "execution_count": 70,
   "id": "missing-country",
   "metadata": {},
   "outputs": [
    {
     "name": "stdout",
     "output_type": "stream",
     "text": [
      "201901 小明\n",
      "201902 小红\n",
      "201903 小强\n"
     ]
    }
   ],
   "source": [
    "for k, v in students.items():\n",
    "    print(k, v)"
   ]
  },
  {
   "cell_type": "markdown",
   "id": "detailed-providence",
   "metadata": {},
   "source": [
    "## 集合"
   ]
  },
  {
   "cell_type": "markdown",
   "id": "artistic-committee",
   "metadata": {},
   "source": [
    "**集合的运算**"
   ]
  },
  {
   "cell_type": "code",
   "execution_count": 72,
   "id": "affected-patent",
   "metadata": {},
   "outputs": [],
   "source": [
    "Chinese_A = {\"刘德华\", \"张学友\", \"张曼玉\", \"钟楚红\", \"古天乐\", \"林青霞\"}\n",
    "Math_A = {\"林青霞\", \"郭富城\", \"王祖贤\", \"刘德华\", \"张曼玉\", \"黎明\"}"
   ]
  },
  {
   "cell_type": "markdown",
   "id": "dietary-bandwidth",
   "metadata": {},
   "source": [
    "* 并集：S & T 返回一个新集合"
   ]
  },
  {
   "cell_type": "code",
   "execution_count": 73,
   "id": "incoming-brick",
   "metadata": {},
   "outputs": [
    {
     "data": {
      "text/plain": [
       "{'刘德华', '张曼玉', '林青霞'}"
      ]
     },
     "execution_count": 73,
     "metadata": {},
     "output_type": "execute_result"
    }
   ],
   "source": [
    "Chinese_A & Math_A"
   ]
  },
  {
   "cell_type": "markdown",
   "id": "arranged-newport",
   "metadata": {},
   "source": [
    "* 交集：S | T 返回一个新集合"
   ]
  },
  {
   "cell_type": "code",
   "execution_count": 75,
   "id": "inside-nature",
   "metadata": {},
   "outputs": [
    {
     "data": {
      "text/plain": [
       "{'刘德华', '古天乐', '张学友', '张曼玉', '林青霞', '王祖贤', '郭富城', '钟楚红', '黎明'}"
      ]
     },
     "execution_count": 75,
     "metadata": {},
     "output_type": "execute_result"
    }
   ],
   "source": [
    "Chinese_A | Math_A"
   ]
  },
  {
   "cell_type": "markdown",
   "id": "running-software",
   "metadata": {},
   "source": [
    "* 异或：S ^ T 返回一个新集合"
   ]
  },
  {
   "cell_type": "code",
   "execution_count": 77,
   "id": "signal-asian",
   "metadata": {},
   "outputs": [
    {
     "data": {
      "text/plain": [
       "{'古天乐', '张学友', '王祖贤', '郭富城', '钟楚红', '黎明'}"
      ]
     },
     "execution_count": 77,
     "metadata": {},
     "output_type": "execute_result"
    }
   ],
   "source": [
    "Chinese_A ^ Math_A"
   ]
  },
  {
   "cell_type": "markdown",
   "id": "applied-blend",
   "metadata": {},
   "source": [
    "* 非子集：S - T 返回一个新集合，包括在集合S但不在集合T中的元素"
   ]
  },
  {
   "cell_type": "code",
   "execution_count": 78,
   "id": "superb-hollywood",
   "metadata": {},
   "outputs": [
    {
     "data": {
      "text/plain": [
       "{'古天乐', '张学友', '钟楚红'}"
      ]
     },
     "execution_count": 78,
     "metadata": {},
     "output_type": "execute_result"
    }
   ],
   "source": [
    "Chinese_A - Math_A"
   ]
  },
  {
   "cell_type": "markdown",
   "id": "equivalent-acquisition",
   "metadata": {},
   "source": [
    "# 控制结构"
   ]
  },
  {
   "cell_type": "markdown",
   "id": "specialized-federal",
   "metadata": {},
   "source": [
    "**循环控制：break 和 continue**\n",
    "* break 结束整个循环\n",
    "* continue 结束本次循环"
   ]
  },
  {
   "cell_type": "code",
   "execution_count": 79,
   "id": "urban-round",
   "metadata": {},
   "outputs": [
    {
     "name": "stdout",
     "output_type": "stream",
     "text": [
      "产品抽检不合格\n"
     ]
    }
   ],
   "source": [
    "product_scores = [89, 90, 99, 70, 67, 78, 85, 92, 77, 82] # 1组10个产品的性能评分\n",
    " # 如果低于75分的超过1个，则该组产品不合格\n",
    "i = 0\n",
    "for score in product_scores:\n",
    "    if score < 75:\n",
    "        i += 1 \n",
    "    if i == 2:\n",
    "        print(\"产品抽检不合格\")\n",
    "        break"
   ]
  },
  {
   "cell_type": "code",
   "execution_count": 80,
   "id": "corrected-secretary",
   "metadata": {},
   "outputs": [
    {
     "name": "stdout",
     "output_type": "stream",
     "text": [
      "10\n",
      "第3个产品，分数为70，不合格\n",
      "第4个产品，分数为67，不合格\n"
     ]
    }
   ],
   "source": [
    "product_scores = [89, 90, 99, 70, 67, 78, 85, 92, 77, 82] # 1组10个产品的性能评分\n",
    " # 如果低于75分,输出警示\n",
    "print(len(product_scores))\n",
    "for i in range(len(product_scores)):\n",
    "    if product_scores[i] >= 75:\n",
    "        continue \n",
    "    print(\"第{0}个产品，分数为{1}，不合格\".format(i, product_scores[i]))"
   ]
  },
  {
   "cell_type": "markdown",
   "id": "focused-fisher",
   "metadata": {},
   "source": [
    "# 函数\n",
    "## 参数传递"
   ]
  },
  {
   "cell_type": "markdown",
   "id": "eligible-eugene",
   "metadata": {},
   "source": [
    "**可变长参数&emsp;*args**\n",
    "* 不知道会传过来多少参数  *args  "
   ]
  },
  {
   "cell_type": "code",
   "execution_count": 84,
   "id": "changing-publication",
   "metadata": {},
   "outputs": [
    {
     "name": "stdout",
     "output_type": "stream",
     "text": [
      "1 2 3\n",
      "(4, 5, 6)\n",
      "<class 'tuple'>\n"
     ]
    }
   ],
   "source": [
    "def foo(x, y, z, *args):\n",
    "    print(x, y ,z)\n",
    "    print(args)\n",
    "    print(type(args))\n",
    "    \n",
    "    \n",
    "foo(1, 2, 3, 4, 5, 6)    # 多余的参数，以元组的形式，打包传递给args"
   ]
  },
  {
   "cell_type": "code",
   "execution_count": 85,
   "id": "respiratory-junction",
   "metadata": {},
   "outputs": [
    {
     "name": "stdout",
     "output_type": "stream",
     "text": [
      "1 2 3\n",
      "([4, 5, 6],)\n",
      "<class 'tuple'>\n"
     ]
    }
   ],
   "source": [
    "foo(1, 2, 3, [4, 5, 6])   "
   ]
  },
  {
   "cell_type": "markdown",
   "id": "imposed-dress",
   "metadata": {},
   "source": [
    "* 实参打散 -- 打散的是列表、字符串、元组或集合"
   ]
  },
  {
   "cell_type": "code",
   "execution_count": 87,
   "id": "surprised-simon",
   "metadata": {},
   "outputs": [
    {
     "name": "stdout",
     "output_type": "stream",
     "text": [
      "1 2 3\n",
      "(4, 5, 6)\n",
      "<class 'tuple'>\n"
     ]
    }
   ],
   "source": [
    "foo(1, 2, 3, *[4, 5, 6])   # 把list打散，但仍然返回元组"
   ]
  },
  {
   "cell_type": "markdown",
   "id": "endangered-triumph",
   "metadata": {},
   "source": [
    "**可变长参数&emsp;****kwargs"
   ]
  },
  {
   "cell_type": "code",
   "execution_count": 89,
   "id": "pharmaceutical-deadline",
   "metadata": {},
   "outputs": [
    {
     "name": "stdout",
     "output_type": "stream",
     "text": [
      "1 2 3\n",
      "{'a': 4, 'b': 5, 'c': 6}\n",
      "<class 'dict'>\n"
     ]
    }
   ],
   "source": [
    "def foo(x, y, z, **kwargs):\n",
    "    print(x, y ,z)\n",
    "    print(kwargs)\n",
    "    print(type(kwargs))\n",
    "    \n",
    "    \n",
    "foo(1, 2, 3, a=4, b=5, c=6)    #  多余的参数，以字典的形式 打包传递给kwargs"
   ]
  },
  {
   "cell_type": "markdown",
   "id": "plastic-gibraltar",
   "metadata": {},
   "source": [
    "## 匿名函数"
   ]
  },
  {
   "cell_type": "markdown",
   "id": "antique-service",
   "metadata": {},
   "source": [
    "**基本形式** -- lambda 变量: 函数体\n",
    "* 在参数列表中最适合使用匿名函数，尤其是与key = 搭配"
   ]
  },
  {
   "cell_type": "code",
   "execution_count": 92,
   "id": "italic-problem",
   "metadata": {},
   "outputs": [
    {
     "data": {
      "text/plain": [
       "[(93, 88), (79, 100), (85, 85), (76, 94), (86, 71)]"
      ]
     },
     "execution_count": 92,
     "metadata": {},
     "output_type": "execute_result"
    }
   ],
   "source": [
    "ls = [(93, 88), (79, 100), (86, 71), (85, 85), (76, 94)]\n",
    "temp = sorted(ls, key = lambda x: x[0]+x[1], reverse=True)\n",
    "temp"
   ]
  },
  {
   "cell_type": "markdown",
   "id": "boring-peeing",
   "metadata": {},
   "source": [
    "# 类"
   ]
  },
  {
   "cell_type": "markdown",
   "id": "recreational-booth",
   "metadata": {},
   "source": [
    "# 文件读写"
   ]
  },
  {
   "cell_type": "markdown",
   "id": "characteristic-image",
   "metadata": {},
   "source": [
    "**文件的打开通用格式**\n",
    "\n",
    "with open(\"文件路径\", \"打开模式\", encoding = \"操作文件的字符编码\") as f:\n",
    "\n",
    "    \"对文件进行相应的读写操作\"\n",
    "    \n",
    "使用with 块的好处：执行完毕后，自动对文件进行close操作。"
   ]
  },
  {
   "cell_type": "markdown",
   "id": "swiss-auckland",
   "metadata": {},
   "source": [
    "**打开模式**\n",
    "\n",
    "* \"r\"&ensp;只读模式，如文件不存在，报错\n",
    "\n",
    "* \"w\"&ensp;覆盖写模式，如文件不存在，则创建；如文件存在，则完全覆盖原文件\n",
    "\n",
    "* \"x\"&ensp;创建写模式，如文件不存在，则创建；如文件存在，报错\n",
    "\n",
    "* \"a\"&ensp;追加写模式，如文件不存在，则创建；如文件存在，则在原文件后追加内容\n",
    "\n",
    "* \"b\"&ensp;二进制文件模式，不能单独使用，需要配合使用如\"rb\"，\"wb\"，\"ab\"，**该模式不需指定encoding**\n",
    "\n",
    "* \"t\"&ensp;文本文件模式，默认值，需配合使用 如\"rt\"，\"wt\"，\"at\"，一般省略，简写成如\"r\"，\"w\"，\"a\"\n",
    "\n",
    "* \"+\"&ensp;与\"r\",\"w\",\"x\",\"a\"配合使用，在原功能基础上，增加读写功能\n",
    "\n",
    "* **打开模式缺省，默认为只读模式**"
   ]
  },
  {
   "cell_type": "markdown",
   "id": "russian-authorization",
   "metadata": {},
   "source": [
    "**字符编码格式**\n",
    "\n",
    "* **万国码 utf-8**\n",
    "包含全世界所有国家需要用到的字符\n",
    "\n",
    "* **中文编码 gbk**\n",
    "专门解决中文编码问题\n",
    "\n",
    "* **windows系统下，如果缺省，则默认为gbk（所在区域的编码）**\n",
    "* 为清楚起见，除了处理二进制文件，**建议不要缺省encoding**"
   ]
  },
  {
   "cell_type": "markdown",
   "id": "substantial-station",
   "metadata": {},
   "source": [
    "# 异常处理\n",
    "## 常见的异常类型\n",
    "（1）**除0运算——ZeroDivisionError**"
   ]
  },
  {
   "cell_type": "code",
   "execution_count": 95,
   "id": "following-breathing",
   "metadata": {},
   "outputs": [
    {
     "ename": "ZeroDivisionError",
     "evalue": "division by zero",
     "output_type": "error",
     "traceback": [
      "\u001b[0;31m---------------------------------------------------------------------------\u001b[0m",
      "\u001b[0;31mZeroDivisionError\u001b[0m                         Traceback (most recent call last)",
      "\u001b[0;32m<ipython-input-95-9e1622b385b6>\u001b[0m in \u001b[0;36m<module>\u001b[0;34m()\u001b[0m\n\u001b[0;32m----> 1\u001b[0;31m \u001b[0;36m1\u001b[0m\u001b[0;34m/\u001b[0m\u001b[0;36m0\u001b[0m\u001b[0;34m\u001b[0m\u001b[0;34m\u001b[0m\u001b[0m\n\u001b[0m",
      "\u001b[0;31mZeroDivisionError\u001b[0m: division by zero"
     ]
    }
   ],
   "source": [
    "1/0"
   ]
  },
  {
   "cell_type": "markdown",
   "id": "broken-shakespeare",
   "metadata": {},
   "source": [
    "（2）**找不到可读文件——FileNotFoundError**"
   ]
  },
  {
   "cell_type": "code",
   "execution_count": 96,
   "id": "dense-editing",
   "metadata": {},
   "outputs": [
    {
     "ename": "FileNotFoundError",
     "evalue": "[Errno 2] No such file or directory: 'nobody.csv'",
     "output_type": "error",
     "traceback": [
      "\u001b[0;31m---------------------------------------------------------------------------\u001b[0m",
      "\u001b[0;31mFileNotFoundError\u001b[0m                         Traceback (most recent call last)",
      "\u001b[0;32m<ipython-input-96-f2e8c7d0ac60>\u001b[0m in \u001b[0;36m<module>\u001b[0;34m()\u001b[0m\n\u001b[0;32m----> 1\u001b[0;31m \u001b[0;32mwith\u001b[0m \u001b[0mopen\u001b[0m\u001b[0;34m(\u001b[0m\u001b[0;34m\"nobody.csv\"\u001b[0m\u001b[0;34m)\u001b[0m \u001b[0;32mas\u001b[0m \u001b[0mf\u001b[0m\u001b[0;34m:\u001b[0m\u001b[0;34m\u001b[0m\u001b[0;34m\u001b[0m\u001b[0m\n\u001b[0m\u001b[1;32m      2\u001b[0m     \u001b[0;32mpass\u001b[0m\u001b[0;34m\u001b[0m\u001b[0;34m\u001b[0m\u001b[0m\n",
      "\u001b[0;31mFileNotFoundError\u001b[0m: [Errno 2] No such file or directory: 'nobody.csv'"
     ]
    }
   ],
   "source": [
    "with open(\"nobody.csv\") as f:\n",
    "    pass"
   ]
  },
  {
   "cell_type": "markdown",
   "id": "random-activity",
   "metadata": {},
   "source": [
    "（3）**值错误——ValueError**"
   ]
  },
  {
   "cell_type": "code",
   "execution_count": 97,
   "id": "thick-glance",
   "metadata": {},
   "outputs": [
    {
     "ename": "ValueError",
     "evalue": "invalid literal for int() with base 10: '1.3'",
     "output_type": "error",
     "traceback": [
      "\u001b[0;31m---------------------------------------------------------------------------\u001b[0m",
      "\u001b[0;31mValueError\u001b[0m                                Traceback (most recent call last)",
      "\u001b[0;32m<ipython-input-97-69942d9db3c0>\u001b[0m in \u001b[0;36m<module>\u001b[0;34m()\u001b[0m\n\u001b[1;32m      1\u001b[0m \u001b[0ms\u001b[0m \u001b[0;34m=\u001b[0m \u001b[0;34m\"1.3\"\u001b[0m\u001b[0;34m\u001b[0m\u001b[0;34m\u001b[0m\u001b[0m\n\u001b[0;32m----> 2\u001b[0;31m \u001b[0mn\u001b[0m \u001b[0;34m=\u001b[0m \u001b[0mint\u001b[0m\u001b[0;34m(\u001b[0m\u001b[0ms\u001b[0m\u001b[0;34m)\u001b[0m\u001b[0;34m\u001b[0m\u001b[0;34m\u001b[0m\u001b[0m\n\u001b[0m",
      "\u001b[0;31mValueError\u001b[0m: invalid literal for int() with base 10: '1.3'"
     ]
    }
   ],
   "source": [
    "s = \"1.3\"\n",
    "n = int(s)"
   ]
  },
  {
   "cell_type": "markdown",
   "id": "coral-clearing",
   "metadata": {},
   "source": [
    "（4）**索引错误——IndexError**"
   ]
  },
  {
   "cell_type": "code",
   "execution_count": 98,
   "id": "right-eclipse",
   "metadata": {},
   "outputs": [
    {
     "ename": "IndexError",
     "evalue": "list index out of range",
     "output_type": "error",
     "traceback": [
      "\u001b[0;31m---------------------------------------------------------------------------\u001b[0m",
      "\u001b[0;31mIndexError\u001b[0m                                Traceback (most recent call last)",
      "\u001b[0;32m<ipython-input-98-acf459124b52>\u001b[0m in \u001b[0;36m<module>\u001b[0;34m()\u001b[0m\n\u001b[1;32m      1\u001b[0m \u001b[0mls\u001b[0m \u001b[0;34m=\u001b[0m \u001b[0;34m[\u001b[0m\u001b[0;36m1\u001b[0m\u001b[0;34m,\u001b[0m \u001b[0;36m2\u001b[0m\u001b[0;34m,\u001b[0m \u001b[0;36m3\u001b[0m\u001b[0;34m]\u001b[0m\u001b[0;34m\u001b[0m\u001b[0;34m\u001b[0m\u001b[0m\n\u001b[0;32m----> 2\u001b[0;31m \u001b[0mls\u001b[0m\u001b[0;34m[\u001b[0m\u001b[0;36m5\u001b[0m\u001b[0;34m]\u001b[0m\u001b[0;34m\u001b[0m\u001b[0;34m\u001b[0m\u001b[0m\n\u001b[0m",
      "\u001b[0;31mIndexError\u001b[0m: list index out of range"
     ]
    }
   ],
   "source": [
    "ls = [1, 2, 3]\n",
    "ls[5]"
   ]
  },
  {
   "cell_type": "markdown",
   "id": "eleven-mission",
   "metadata": {},
   "source": [
    "（5）**类型错误——TypeError**"
   ]
  },
  {
   "cell_type": "code",
   "execution_count": 99,
   "id": "realistic-healing",
   "metadata": {},
   "outputs": [
    {
     "ename": "TypeError",
     "evalue": "unsupported operand type(s) for +: 'int' and 'str'",
     "output_type": "error",
     "traceback": [
      "\u001b[0;31m---------------------------------------------------------------------------\u001b[0m",
      "\u001b[0;31mTypeError\u001b[0m                                 Traceback (most recent call last)",
      "\u001b[0;32m<ipython-input-99-ee505dc42f75>\u001b[0m in \u001b[0;36m<module>\u001b[0;34m()\u001b[0m\n\u001b[0;32m----> 1\u001b[0;31m \u001b[0;36m1\u001b[0m \u001b[0;34m+\u001b[0m \u001b[0;34m\"3\"\u001b[0m\u001b[0;34m\u001b[0m\u001b[0;34m\u001b[0m\u001b[0m\n\u001b[0m",
      "\u001b[0;31mTypeError\u001b[0m: unsupported operand type(s) for +: 'int' and 'str'"
     ]
    }
   ],
   "source": [
    "1 + \"3\""
   ]
  },
  {
   "cell_type": "markdown",
   "id": "tired-scottish",
   "metadata": {},
   "source": [
    "（6）**其他常见的异常类型**\n",
    "\n",
    "NameError 使用一个未被定义的变量  \n",
    "KeyError 试图访问字典里不存在的键 "
   ]
  },
  {
   "cell_type": "code",
   "execution_count": 101,
   "id": "defined-terrorism",
   "metadata": {},
   "outputs": [
    {
     "ename": "NameError",
     "evalue": "name 'notdefinevalue' is not defined",
     "output_type": "error",
     "traceback": [
      "\u001b[0;31m---------------------------------------------------------------------------\u001b[0m",
      "\u001b[0;31mNameError\u001b[0m                                 Traceback (most recent call last)",
      "\u001b[0;32m<ipython-input-101-851e3e112c8e>\u001b[0m in \u001b[0;36m<module>\u001b[0;34m()\u001b[0m\n\u001b[0;32m----> 1\u001b[0;31m \u001b[0mprint\u001b[0m\u001b[0;34m(\u001b[0m\u001b[0mnotdefinevalue\u001b[0m\u001b[0;34m)\u001b[0m\u001b[0;34m\u001b[0m\u001b[0;34m\u001b[0m\u001b[0m\n\u001b[0m",
      "\u001b[0;31mNameError\u001b[0m: name 'notdefinevalue' is not defined"
     ]
    }
   ],
   "source": [
    "print(notdefinevalue)"
   ]
  },
  {
   "cell_type": "code",
   "execution_count": 102,
   "id": "greenhouse-tanzania",
   "metadata": {},
   "outputs": [
    {
     "ename": "KeyError",
     "evalue": "'1'",
     "output_type": "error",
     "traceback": [
      "\u001b[0;31m---------------------------------------------------------------------------\u001b[0m",
      "\u001b[0;31mKeyError\u001b[0m                                  Traceback (most recent call last)",
      "\u001b[0;32m<ipython-input-102-e629d551aca0>\u001b[0m in \u001b[0;36m<module>\u001b[0;34m()\u001b[0m\n\u001b[1;32m      1\u001b[0m \u001b[0md\u001b[0m \u001b[0;34m=\u001b[0m \u001b[0;34m{\u001b[0m\u001b[0;34m}\u001b[0m\u001b[0;34m\u001b[0m\u001b[0;34m\u001b[0m\u001b[0m\n\u001b[0;32m----> 2\u001b[0;31m \u001b[0md\u001b[0m\u001b[0;34m[\u001b[0m\u001b[0;34m\"1\"\u001b[0m\u001b[0;34m]\u001b[0m\u001b[0;34m\u001b[0m\u001b[0;34m\u001b[0m\u001b[0m\n\u001b[0m",
      "\u001b[0;31mKeyError\u001b[0m: '1'"
     ]
    }
   ],
   "source": [
    "d = {}\n",
    "d[\"1\"]"
   ]
  },
  {
   "cell_type": "markdown",
   "id": "funded-netherlands",
   "metadata": {},
   "source": [
    "## 异常的处理"
   ]
  },
  {
   "cell_type": "markdown",
   "id": "emerging-murray",
   "metadata": {},
   "source": [
    "（1）**try_except**\n",
    "\n",
    "* 如果try内代码块顺利执行，except不被触发\n",
    "* 如果try内代码块发生错误，触发except,执行except内代码块"
   ]
  },
  {
   "cell_type": "code",
   "execution_count": 106,
   "id": "humanitarian-pharmacology",
   "metadata": {},
   "outputs": [
    {
     "name": "stdout",
     "output_type": "stream",
     "text": [
      "变量名不存在\n"
     ]
    }
   ],
   "source": [
    "ls = []\n",
    "d = {\"name\": \"大杰仔\"}\n",
    "try:\n",
    "    y = m\n",
    "    # ls[3]\n",
    "    # d[\"age\"]\n",
    "except NameError:\n",
    "    print(\"变量名不存在\")\n",
    "except IndexError:\n",
    "    print(\"索引超出界限\")\n",
    "except KeyError:\n",
    "    print(\"键不存在\")"
   ]
  },
  {
   "cell_type": "markdown",
   "id": "suited-watch",
   "metadata": {},
   "source": [
    "* 万能异常 Exception （所有错误的老祖宗）"
   ]
  },
  {
   "cell_type": "code",
   "execution_count": 107,
   "id": "soviet-uncertainty",
   "metadata": {},
   "outputs": [
    {
     "name": "stdout",
     "output_type": "stream",
     "text": [
      "出错啦\n"
     ]
    }
   ],
   "source": [
    "ls = []\n",
    "d = {\"name\": \"大杰仔\"}\n",
    "try:\n",
    "    # y = m\n",
    "    ls[3]\n",
    "    # d[\"age\"]\n",
    "except Exception:\n",
    "    print(\"出错啦\")"
   ]
  },
  {
   "cell_type": "markdown",
   "id": "motivated-submission",
   "metadata": {},
   "source": [
    "* 捕获异常的值 as"
   ]
  },
  {
   "cell_type": "code",
   "execution_count": 108,
   "id": "economic-atlas",
   "metadata": {},
   "outputs": [
    {
     "name": "stdout",
     "output_type": "stream",
     "text": [
      "name 'm' is not defined\n"
     ]
    }
   ],
   "source": [
    "ls = []\n",
    "d = {\"name\": \"大杰仔\"}\n",
    "# y = x\n",
    "try:\n",
    "    y = m\n",
    "    # ls[3]\n",
    "    # d[\"age\"]\n",
    "except Exception as e:    # 虽不能获得错误具体类型，但可以获得错误的值\n",
    "    print(e)"
   ]
  },
  {
   "cell_type": "markdown",
   "id": "integrated-casino",
   "metadata": {},
   "source": [
    "（2）**try_except_else**\n",
    "* 如果try 模块执行，则else模块也执行  "
   ]
  },
  {
   "cell_type": "markdown",
   "id": "functional-bridal",
   "metadata": {},
   "source": [
    "（3）**try_except_finally**\n",
    "* 不论try模块是否执行，finally最后都执行"
   ]
  },
  {
   "cell_type": "markdown",
   "id": "optical-lawsuit",
   "metadata": {},
   "source": [
    "**（4）assert()**\n",
    "\n",
    "不满足expression条件的话报错\n",
    "```python\n",
    "assert expression [, arguments]\n",
    "```\n",
    "\n",
    "等价于：\n",
    "\n",
    "```python\n",
    "if not expression:\n",
    "    raise AssertionError(arguments)\n",
    "```"
   ]
  },
  {
   "cell_type": "code",
   "execution_count": 11,
   "id": "imperial-venezuela",
   "metadata": {},
   "outputs": [
    {
     "name": "stdout",
     "output_type": "stream",
     "text": [
      "everything is good\n"
     ]
    }
   ],
   "source": [
    "assert 1==1\n",
    "print('everything is good')"
   ]
  },
  {
   "cell_type": "code",
   "execution_count": 12,
   "id": "later-converter",
   "metadata": {},
   "outputs": [
    {
     "ename": "AssertionError",
     "evalue": "not good",
     "output_type": "error",
     "traceback": [
      "\u001b[0;31m---------------------------------------------------------------------------\u001b[0m",
      "\u001b[0;31mAssertionError\u001b[0m                            Traceback (most recent call last)",
      "\u001b[0;32m<ipython-input-12-ef72dc0d4f87>\u001b[0m in \u001b[0;36m<module>\u001b[0;34m()\u001b[0m\n\u001b[0;32m----> 1\u001b[0;31m \u001b[0;32massert\u001b[0m \u001b[0;36m1\u001b[0m\u001b[0;34m==\u001b[0m\u001b[0;36m2\u001b[0m\u001b[0;34m,\u001b[0m \u001b[0;34m'not good'\u001b[0m\u001b[0;34m\u001b[0m\u001b[0;34m\u001b[0m\u001b[0m\n\u001b[0m\u001b[1;32m      2\u001b[0m \u001b[0mprint\u001b[0m\u001b[0;34m(\u001b[0m\u001b[0;34m'everything is good'\u001b[0m\u001b[0;34m)\u001b[0m\u001b[0;34m\u001b[0m\u001b[0;34m\u001b[0m\u001b[0m\n",
      "\u001b[0;31mAssertionError\u001b[0m: not good"
     ]
    }
   ],
   "source": [
    "assert 1==2, 'not good'\n",
    "print('everything is good')"
   ]
  },
  {
   "cell_type": "markdown",
   "id": "transparent-illinois",
   "metadata": {},
   "source": [
    "# 模块导入\n",
    "## 模块的查找路径\n",
    "\n",
    "**模块搜索查找顺序：**\n",
    "\n",
    "* （1）内存中已经加载的模块（已经存入内存中）\n",
    "\n",
    "* **注意：删除和修改原模块，不会影响已经存在于内存中的模块**"
   ]
  },
  {
   "cell_type": "markdown",
   "id": "hundred-mistake",
   "metadata": {},
   "source": [
    "* （2）内置模块\n",
    "\n",
    "* **Python 启动时，解释器会默认加载一些 modules 存放在 sys.modules 中**\n",
    "\n",
    "* **sys.modules 变量包含一个由当前载入(完整且成功导入)到解释器的模块组成的字典, 模块名作为键, 它们的位置作为值**"
   ]
  },
  {
   "cell_type": "code",
   "execution_count": 111,
   "id": "unable-november",
   "metadata": {},
   "outputs": [
    {
     "name": "stdout",
     "output_type": "stream",
     "text": [
      "591\n",
      "True\n",
      "False\n",
      "sys : <module 'sys' (built-in)>\n",
      "builtins : <module 'builtins' (built-in)>\n",
      "_frozen_importlib : <module 'importlib._bootstrap' (frozen)>\n",
      "_imp : <module '_imp' (built-in)>\n",
      "_thread : <module '_thread' (built-in)>\n",
      "_warnings : <module '_warnings' (built-in)>\n",
      "_weakref : <module '_weakref' (built-in)>\n",
      "zipimport : <module 'zipimport' (built-in)>\n",
      "_frozen_importlib_external : <module 'importlib._bootstrap_external' (frozen)>\n",
      "_io : <module 'io' (built-in)>\n",
      "marshal : <module 'marshal' (built-in)>\n",
      "posix : <module 'posix' (built-in)>\n",
      "encodings : <module 'encodings' from '/home/elimen/anaconda3/envs/pytorch/lib/python3.7/encodings/__init__.py'>\n",
      "codecs : <module 'codecs' from '/home/elimen/anaconda3/envs/pytorch/lib/python3.7/codecs.py'>\n",
      "_codecs : <module '_codecs' (built-in)>\n",
      "encodings.aliases : <module 'encodings.aliases' from '/home/elimen/anaconda3/envs/pytorch/lib/python3.7/encodings/aliases.py'>\n",
      "encodings.utf_8 : <module 'encodings.utf_8' from '/home/elimen/anaconda3/envs/pytorch/lib/python3.7/encodings/utf_8.py'>\n",
      "_signal : <module '_signal' (built-in)>\n",
      "__main__ : <module '__main__'>\n",
      "encodings.latin_1 : <module 'encodings.latin_1' from '/home/elimen/anaconda3/envs/pytorch/lib/python3.7/encodings/latin_1.py'>\n"
     ]
    }
   ],
   "source": [
    "import sys\n",
    "\n",
    "print(len(sys.modules))\n",
    "print(\"math\" in sys.modules)\n",
    "print(\"numpy\" in sys.modules)\n",
    "for k,v in list(sys.modules.items())[:20]:\n",
    "    print(k, \":\", v)"
   ]
  },
  {
   "cell_type": "markdown",
   "id": "ready-frank",
   "metadata": {},
   "source": [
    "* （3）sys.path路径中包含的模块"
   ]
  },
  {
   "cell_type": "code",
   "execution_count": 112,
   "id": "modular-petite",
   "metadata": {},
   "outputs": [
    {
     "data": {
      "text/plain": [
       "['',\n",
       " '/home/elimen/Data/deepshare/Python基础/Python基础代码/课程代码及数据',\n",
       " '/home/elimen/anaconda3/envs/pytorch/lib/python37.zip',\n",
       " '/home/elimen/anaconda3/envs/pytorch/lib/python3.7',\n",
       " '/home/elimen/anaconda3/envs/pytorch/lib/python3.7/lib-dynload',\n",
       " '/home/elimen/anaconda3/envs/pytorch/lib/python3.7/site-packages',\n",
       " '/home/elimen/anaconda3/envs/pytorch/lib/python3.7/site-packages/pycocotools-2.0-py3.7-linux-x86_64.egg',\n",
       " '/home/elimen/Data/text_renderer',\n",
       " '/home/elimen/anaconda3/envs/pytorch/lib/python3.7/site-packages/IPython/extensions',\n",
       " '/home/elimen/.ipython']"
      ]
     },
     "execution_count": 112,
     "metadata": {},
     "output_type": "execute_result"
    }
   ],
   "source": [
    "import sys\n",
    "sys.path"
   ]
  },
  {
   "cell_type": "markdown",
   "id": "trying-taxation",
   "metadata": {},
   "source": [
    "# 进阶语法\n",
    "## 数据类型的底层实现\n",
    "### 列表的浅拷贝和深拷贝\n",
    "**浅拷贝**"
   ]
  },
  {
   "cell_type": "code",
   "execution_count": 114,
   "id": "hundred-thesis",
   "metadata": {},
   "outputs": [],
   "source": [
    "list_1 = [1, [22, 33, 44], (5, 6, 7), {\"name\": \"Sarah\"}]\n",
    "list_2 = list_1.copy()     # 或者使用 1）list_1[:] ； 2） list(list_1) 均可实现浅拷贝"
   ]
  },
  {
   "cell_type": "markdown",
   "id": "short-farmer",
   "metadata": {},
   "source": [
    "list_1 中的元素类型包含：整型、列表、元组、字典。\n",
    "\n",
    "**引用数组的概念**  \n",
    "  \n",
    "* 列表内的元素可以分散的存储在内存中  \n",
    "  \n",
    "* 列表存储的，实际上是这些**元素的地址** \n",
    "\n",
    "* 当使用浅拷贝时，拷贝的是**元素的地址**"
   ]
  },
  {
   "cell_type": "code",
   "execution_count": 120,
   "id": "simplified-appearance",
   "metadata": {},
   "outputs": [
    {
     "name": "stdout",
     "output_type": "stream",
     "text": [
      "140055933150624\n",
      "140055975711280\n",
      "94765842006784\n",
      "94765842006784\n",
      "140055933026464\n",
      "140055933026464\n",
      "140055975736336\n",
      "140055975736336\n"
     ]
    }
   ],
   "source": [
    "print(id(list_1))\n",
    "print(id(list_2))\n",
    "print(id(list_1[0]))\n",
    "print(id(list_2[0]))\n",
    "print(id(list_1[1]))\n",
    "print(id(list_2[1]))\n",
    "print(id(list_1[2]))\n",
    "print(id(list_2[2]))"
   ]
  },
  {
   "cell_type": "markdown",
   "id": "difficult-young",
   "metadata": {},
   "source": [
    "(1) 新增元素\n",
    "\n",
    "* 新增元素后，该元素地址不相同；\n",
    "* list_1 和 list_2 互不影响。"
   ]
  },
  {
   "cell_type": "code",
   "execution_count": 121,
   "id": "overall-green",
   "metadata": {},
   "outputs": [
    {
     "name": "stdout",
     "output_type": "stream",
     "text": [
      "list_1:   [1, [22, 33, 44], (5, 6, 7), {'name': 'Sarah'}, 'm']\n",
      "list_2:   [1, [22, 33, 44], (5, 6, 7), {'name': 'Sarah'}, 'n']\n",
      "140056010473904\n",
      "140056009697776\n"
     ]
    }
   ],
   "source": [
    "list_1.append(\"m\")\n",
    "list_2.append(\"n\")\n",
    "\n",
    "print(\"list_1:  \", list_1)\n",
    "print(\"list_2:  \", list_2)\n",
    "print(id(list_1[4]))\n",
    "print(id(list_2[4]))"
   ]
  },
  {
   "cell_type": "markdown",
   "id": "linear-cooling",
   "metadata": {},
   "source": [
    "（2）修改元素\n",
    "\n",
    "**情况一：修改可变元素（数字、字符串、元组） -- 在原地址直接修改** -- list_1 和 list_2 互相影响。\n",
    "\n",
    "**情况二：修改不可变元素（列表、集合、字典） -- 在新地址赋值** -- list_1 和 list_2 互不影响。"
   ]
  },
  {
   "cell_type": "code",
   "execution_count": 123,
   "id": "lesser-romantic",
   "metadata": {},
   "outputs": [
    {
     "name": "stdout",
     "output_type": "stream",
     "text": [
      "list_1:   [10, [22, 33, 44], (5, 6, 7), {'name': 'Sarah'}, 'm']\n",
      "list_2:   [20, [22, 33, 44], (5, 6, 7), {'name': 'Sarah'}, 'n']\n",
      "94765842007072\n",
      "94765842007392\n"
     ]
    }
   ],
   "source": [
    "# 修改数字型数据，互不影响\n",
    "list_1[0] = 10\n",
    "list_2[0] = 20\n",
    "\n",
    "print(\"list_1:  \", list_1)\n",
    "print(\"list_2:  \", list_2)\n",
    "print(id(list_1[0]))\n",
    "print(id(list_2[0]))"
   ]
  },
  {
   "cell_type": "code",
   "execution_count": 124,
   "id": "crazy-attribute",
   "metadata": {},
   "outputs": [
    {
     "name": "stdout",
     "output_type": "stream",
     "text": [
      "list_1:   [10, [22, 33, 55, 66], (5, 6, 7), {'name': 'Sarah'}, 'm']\n",
      "list_2:   [20, [22, 33, 55, 66], (5, 6, 7), {'name': 'Sarah'}, 'n']\n",
      "140055933026464\n",
      "140055933026464\n"
     ]
    }
   ],
   "source": [
    "# 修改列表型数据，互相影响\n",
    "list_1[1].remove(44)\n",
    "list_2[1] += [55, 66]\n",
    "\n",
    "print(\"list_1:  \", list_1)\n",
    "print(\"list_2:  \", list_2)\n",
    "print(id(list_1[1]))\n",
    "print(id(list_2[1]))"
   ]
  },
  {
   "cell_type": "code",
   "execution_count": 125,
   "id": "prepared-product",
   "metadata": {},
   "outputs": [
    {
     "name": "stdout",
     "output_type": "stream",
     "text": [
      "list_1:   [10, [22, 33, 55, 66], (5, 6, 7), {'name': 'Sarah'}, 'm']\n",
      "list_2:   [20, [22, 33, 55, 66], (5, 6, 7, 8, 9), {'name': 'Sarah'}, 'n']\n",
      "140055975736336\n",
      "140055933031824\n"
     ]
    }
   ],
   "source": [
    "# 修改元组型数据，互不影响\n",
    "list_2[2] += (8,9)\n",
    "\n",
    "print(\"list_1:  \", list_1)\n",
    "print(\"list_2:  \", list_2)\n",
    "print(id(list_1[2]))\n",
    "print(id(list_2[2]))"
   ]
  },
  {
   "cell_type": "code",
   "execution_count": 126,
   "id": "excited-bleeding",
   "metadata": {},
   "outputs": [
    {
     "name": "stdout",
     "output_type": "stream",
     "text": [
      "list_1:   [10, [22, 33, 55, 66], (5, 6, 7), {'name': 'Sarah', 'age': 18}, 'm']\n",
      "list_2:   [20, [22, 33, 55, 66], (5, 6, 7, 8, 9), {'name': 'Sarah', 'age': 18}, 'n']\n",
      "140055932538624\n",
      "140055932538624\n"
     ]
    }
   ],
   "source": [
    "# 修改元组型数据，互相影响\n",
    "list_1[3][\"age\"] = 18\n",
    "\n",
    "print(\"list_1:  \", list_1)\n",
    "print(\"list_2:  \", list_2)\n",
    "print(id(list_1[3]))\n",
    "print(id(list_2[3]))"
   ]
  },
  {
   "cell_type": "markdown",
   "id": "amended-italian",
   "metadata": {},
   "source": [
    "**深拷贝**\n",
    "\n",
    "* 为解决上述问题，引入深拷贝。\n",
    "* **深拷贝将所有层级的相关元素全部复制，完全分开**"
   ]
  },
  {
   "cell_type": "code",
   "execution_count": 131,
   "id": "mechanical-geography",
   "metadata": {},
   "outputs": [
    {
     "name": "stdout",
     "output_type": "stream",
     "text": [
      "140055976072928\n",
      "140055975568400\n",
      "数字元素 地址：\n",
      "94765842006784\n",
      "94765842006784\n",
      "列表元素 地址：\n",
      "140055933036576\n",
      "140055975660672\n",
      "元组元素 地址：\n",
      "140055975712480\n",
      "140055975712480\n",
      "字典元素 地址：\n",
      "140055932538544\n",
      "140055932538064\n"
     ]
    }
   ],
   "source": [
    "import copy\n",
    "\n",
    "list_1 = [1, [22, 33, 44], (5, 6, 7), {\"name\": \"Sarah\"}]\n",
    "list_2 = copy.deepcopy(list_1)\n",
    "\n",
    "print(id(list_1))\n",
    "print(id(list_2))\n",
    "print(\"数字元素 地址：\")\n",
    "print(id(list_1[0]))\n",
    "print(id(list_2[0]))\n",
    "print(\"列表元素 地址：\")\n",
    "print(id(list_1[1]))\n",
    "print(id(list_2[1]))\n",
    "print(\"元组元素 地址：\")\n",
    "print(id(list_1[2]))\n",
    "print(id(list_2[2]))\n",
    "print(\"字典元素 地址：\")\n",
    "print(id(list_1[3]))\n",
    "print(id(list_2[3]))"
   ]
  },
  {
   "cell_type": "markdown",
   "id": "centered-comparative",
   "metadata": {},
   "source": [
    "**小结：**\n",
    "\n",
    "* **不可变类型：数字、字符串、元组，在生命周期中保持内容不变**\n",
    "\n",
    "* 换句话说，改变了就不是它自己了（id变了），实际上创建了一个新的对象"
   ]
  },
  {
   "cell_type": "markdown",
   "id": "canadian-import",
   "metadata": {},
   "source": [
    "## 生成器、迭代器、解释器\n",
    "### 生成器"
   ]
  },
  {
   "cell_type": "code",
   "execution_count": 134,
   "id": "tropical-candle",
   "metadata": {},
   "outputs": [
    {
     "name": "stdout",
     "output_type": "stream",
     "text": [
      "<class 'list'>\n",
      "<class 'generator'>\n"
     ]
    }
   ],
   "source": [
    "ls = [i**2 for i in range(1, 1000001)]\n",
    "print(type(ls))\n",
    "\n",
    "squares = (i**2 for i in range(1000000))\n",
    "print(type(squares))"
   ]
  },
  {
   "cell_type": "markdown",
   "id": "coordinate-chain",
   "metadata": {},
   "source": [
    "**列表**\n",
    "\n",
    "   缺点：占用大量内存\n",
    "\n",
    "**生成器**  \n",
    "  \n",
    "  （1）采用惰性计算的方式   \n",
    "     \n",
    "  （2）无需一次性存储海量数据  \n",
    "  \n",
    "  （3）一边执行一边计算，只计算每次需要的值\n",
    "  \n",
    "  （4）实际上一直在执行next()操作，直到无值可取"
   ]
  },
  {
   "cell_type": "markdown",
   "id": "green-retention",
   "metadata": {},
   "source": [
    "### 迭代器\n",
    "#### 可迭代对象 Iterable\n",
    "可直接作用于for循环的对象统称为可迭代对象Iterable\n",
    "* 可以使用isinstance()判断一个对象是否是Iterable对象\n",
    "\n",
    "**（1）字符串、列表、元组、字典、集合、文件**\n"
   ]
  },
  {
   "cell_type": "code",
   "execution_count": 140,
   "id": "threatened-broad",
   "metadata": {},
   "outputs": [
    {
     "name": "stdout",
     "output_type": "stream",
     "text": [
      "True\n",
      "True\n",
      "True\n",
      "True\n"
     ]
    }
   ],
   "source": [
    "from collections import Iterable\n",
    "\n",
    "print(isinstance('Python', Iterable))\n",
    "print(isinstance([1, 2, 3], Iterable))\n",
    "print(isinstance((4, 5, 6), Iterable))\n",
    "print(isinstance({\"name\": \"Sarah\"}, Iterable))"
   ]
  },
  {
   "cell_type": "markdown",
   "id": "engaged-hartford",
   "metadata": {},
   "source": [
    "**（2）生成器**\n",
    "* 生成器不但可以用于for循环，还可以被next()函数调用，直到抛出StopIteration"
   ]
  },
  {
   "cell_type": "code",
   "execution_count": 142,
   "id": "guided-lucas",
   "metadata": {},
   "outputs": [
    {
     "data": {
      "text/plain": [
       "True"
      ]
     },
     "execution_count": 142,
     "metadata": {},
     "output_type": "execute_result"
    }
   ],
   "source": [
    "squares = (i**2 for i in range(5))\n",
    "isinstance(squares, Iterable)"
   ]
  },
  {
   "cell_type": "code",
   "execution_count": 143,
   "id": "united-premiere",
   "metadata": {},
   "outputs": [
    {
     "name": "stdout",
     "output_type": "stream",
     "text": [
      "0\n",
      "1\n"
     ]
    }
   ],
   "source": [
    "print(next(squares))\n",
    "print(next(squares))"
   ]
  },
  {
   "cell_type": "markdown",
   "id": "changing-shelter",
   "metadata": {},
   "source": [
    "**（3）map()用法**\n",
    "\n",
    "map() 函数语法：\n",
    "```python\n",
    "map(function, iterable, ...)\n",
    "```\n",
    "map() 会根据提供的函数对指定序列做映射，返回值为`可迭代对象`"
   ]
  },
  {
   "cell_type": "code",
   "execution_count": 13,
   "id": "latter-pattern",
   "metadata": {},
   "outputs": [
    {
     "data": {
      "text/plain": [
       "[1, 4, 9, 16, 25]"
      ]
     },
     "execution_count": 13,
     "metadata": {},
     "output_type": "execute_result"
    }
   ],
   "source": [
    "def square(x) :            # 计算平方数\n",
    "     return x ** 2\n",
    "\n",
    "list(map(square, [1,2,3,4,5]))   # 计算列表各个元素的平方"
   ]
  },
  {
   "cell_type": "code",
   "execution_count": 14,
   "id": "convertible-japan",
   "metadata": {},
   "outputs": [
    {
     "data": {
      "text/plain": [
       "[1, 4, 9, 16, 25]"
      ]
     },
     "execution_count": 14,
     "metadata": {},
     "output_type": "execute_result"
    }
   ],
   "source": [
    "list(map(lambda x: x ** 2, [1, 2, 3, 4, 5]))  # 使用 lambda 匿名函数"
   ]
  },
  {
   "cell_type": "markdown",
   "id": "celtic-witness",
   "metadata": {},
   "source": [
    "#### 迭代器 Iterator\n",
    "* 可以使用isinstance()判断一个对象是否是 Iterator对象"
   ]
  },
  {
   "cell_type": "markdown",
   "id": "familiar-gates",
   "metadata": {},
   "source": [
    "**（1）生成器都是迭代器**"
   ]
  },
  {
   "cell_type": "code",
   "execution_count": 145,
   "id": "lonely-olympus",
   "metadata": {},
   "outputs": [
    {
     "name": "stderr",
     "output_type": "stream",
     "text": [
      "/home/elimen/anaconda3/envs/pytorch/lib/python3.7/site-packages/ipykernel_launcher.py:1: DeprecationWarning: Using or importing the ABCs from 'collections' instead of from 'collections.abc' is deprecated since Python 3.3,and in 3.9 it will stop working\n",
      "  \"\"\"Entry point for launching an IPython kernel.\n"
     ]
    },
    {
     "data": {
      "text/plain": [
       "True"
      ]
     },
     "execution_count": 145,
     "metadata": {},
     "output_type": "execute_result"
    }
   ],
   "source": [
    "from collections import Iterator\n",
    "\n",
    "squares = (i**2 for i in range(5))\n",
    "isinstance(squares, Iterator)"
   ]
  },
  {
   "cell_type": "markdown",
   "id": "documented-arizona",
   "metadata": {},
   "source": [
    "**（2）列表、元组、字符串、字典、集合 不是迭代器**"
   ]
  },
  {
   "cell_type": "code",
   "execution_count": 146,
   "id": "caroline-print",
   "metadata": {},
   "outputs": [
    {
     "data": {
      "text/plain": [
       "False"
      ]
     },
     "execution_count": 146,
     "metadata": {},
     "output_type": "execute_result"
    }
   ],
   "source": [
    "isinstance([1, 2, 3], Iterator)"
   ]
  },
  {
   "cell_type": "markdown",
   "id": "medium-marathon",
   "metadata": {},
   "source": [
    "**（3）可以通过iter(Iterable)创建迭代器**"
   ]
  },
  {
   "cell_type": "code",
   "execution_count": 148,
   "id": "fallen-closing",
   "metadata": {},
   "outputs": [
    {
     "data": {
      "text/plain": [
       "True"
      ]
     },
     "execution_count": 148,
     "metadata": {},
     "output_type": "execute_result"
    }
   ],
   "source": [
    "isinstance(iter([1, 2, 3]), Iterator)"
   ]
  },
  {
   "cell_type": "markdown",
   "id": "historical-chile",
   "metadata": {},
   "source": [
    "**（4）zip、enumerate 等itertools里的函数是迭代器**"
   ]
  },
  {
   "cell_type": "code",
   "execution_count": 149,
   "id": "comparable-xerox",
   "metadata": {},
   "outputs": [
    {
     "data": {
      "text/plain": [
       "True"
      ]
     },
     "execution_count": 149,
     "metadata": {},
     "output_type": "execute_result"
    }
   ],
   "source": [
    "x = [1, 2]\n",
    "y = [\"a\", \"b\"]\n",
    "zip(x, y)\n",
    "isinstance(zip(x, y), Iterator)"
   ]
  },
  {
   "cell_type": "code",
   "execution_count": 150,
   "id": "needed-caribbean",
   "metadata": {},
   "outputs": [
    {
     "data": {
      "text/plain": [
       "True"
      ]
     },
     "execution_count": 150,
     "metadata": {},
     "output_type": "execute_result"
    }
   ],
   "source": [
    "numbers = [1, 2, 3, 4, 5]\n",
    "enumerate(numbers)\n",
    "isinstance(enumerate(numbers), Iterator)"
   ]
  },
  {
   "cell_type": "markdown",
   "id": "noticed-burton",
   "metadata": {},
   "source": [
    "* zip()用法"
   ]
  },
  {
   "cell_type": "code",
   "execution_count": 8,
   "id": "flush-apparatus",
   "metadata": {},
   "outputs": [
    {
     "data": {
      "text/plain": [
       "<zip at 0x7f98e0ce79b0>"
      ]
     },
     "execution_count": 8,
     "metadata": {},
     "output_type": "execute_result"
    }
   ],
   "source": [
    "a = [1,2,3]\n",
    "b = [4,5,6]\n",
    "zipped = zip(a,b)     # 打包为元组的列表\n",
    "zipped"
   ]
  },
  {
   "cell_type": "code",
   "execution_count": 9,
   "id": "silver-notification",
   "metadata": {},
   "outputs": [
    {
     "data": {
      "text/plain": [
       "[(1, 4), (2, 5), (3, 6)]"
      ]
     },
     "execution_count": 9,
     "metadata": {},
     "output_type": "execute_result"
    }
   ],
   "source": [
    "list(zipped)"
   ]
  },
  {
   "cell_type": "code",
   "execution_count": 6,
   "id": "involved-hepatitis",
   "metadata": {},
   "outputs": [
    {
     "data": {
      "text/plain": [
       "[(1, 2, 3), (4, 5, 6)]"
      ]
     },
     "execution_count": 6,
     "metadata": {},
     "output_type": "execute_result"
    }
   ],
   "source": [
    "list(zip(*zipped))   # 与 zip 相反，*zipped 可理解为解压，返回二维矩阵式"
   ]
  },
  {
   "cell_type": "markdown",
   "id": "taken-jones",
   "metadata": {},
   "source": [
    " **(5) 文件是迭代器**"
   ]
  },
  {
   "cell_type": "markdown",
   "id": "difficult-opposition",
   "metadata": {},
   "source": [
    "### 装饰器"
   ]
  },
  {
   "cell_type": "markdown",
   "id": "prescribed-joshua",
   "metadata": {},
   "source": [
    "预备知识\n",
    "\n",
    "(1) 函数对象\n",
    "* 可以把函数赋值给变量  \n",
    "* 对该变量进行调用，可实现原函数的功能"
   ]
  },
  {
   "cell_type": "code",
   "execution_count": 151,
   "id": "norwegian-terrorism",
   "metadata": {},
   "outputs": [
    {
     "name": "stdout",
     "output_type": "stream",
     "text": [
      "<class 'function'>\n",
      "25\n"
     ]
    }
   ],
   "source": [
    "def square(x):\n",
    "    return x**2\n",
    "\n",
    "print(type(square)) \n",
    "\n",
    "pow_2 = square          # 可以理解成给这个函数起了个别名pow_2\n",
    "print(pow_2(5))"
   ]
  },
  {
   "cell_type": "markdown",
   "id": "alien-knock",
   "metadata": {},
   "source": [
    "(2) 高阶函数\n",
    "* 接收函数作为参数  \n",
    "* 或者返回一个函数  "
   ]
  },
  {
   "cell_type": "code",
   "execution_count": 152,
   "id": "paperback-forth",
   "metadata": {},
   "outputs": [
    {
     "data": {
      "text/plain": [
       "64"
      ]
     },
     "execution_count": 152,
     "metadata": {},
     "output_type": "execute_result"
    }
   ],
   "source": [
    "def square(x):\n",
    "    return x**2\n",
    "\n",
    "def pow_2(fun):\n",
    "    return fun\n",
    "\n",
    "f = pow_2(square)\n",
    "f(8)"
   ]
  },
  {
   "cell_type": "markdown",
   "id": "mental-ownership",
   "metadata": {},
   "source": [
    "(3) 嵌套函数\n"
   ]
  },
  {
   "cell_type": "code",
   "execution_count": 153,
   "id": "altered-kennedy",
   "metadata": {},
   "outputs": [
    {
     "name": "stdout",
     "output_type": "stream",
     "text": [
      "outer is running\n",
      "inner is running\n"
     ]
    }
   ],
   "source": [
    "def outer():\n",
    "    print(\"outer is running\")\n",
    "    def inner():\n",
    "        print(\"inner is running\")   \n",
    "    inner()\n",
    "\n",
    "outer()"
   ]
  },
  {
   "cell_type": "markdown",
   "id": "split-shopper",
   "metadata": {},
   "source": [
    "（4）闭包"
   ]
  },
  {
   "cell_type": "code",
   "execution_count": 177,
   "id": "exempt-spank",
   "metadata": {},
   "outputs": [
    {
     "name": "stdout",
     "output_type": "stream",
     "text": [
      "4\n",
      "105\n"
     ]
    },
    {
     "data": {
      "text/plain": [
       "(105, 10)"
      ]
     },
     "execution_count": 177,
     "metadata": {},
     "output_type": "execute_result"
    }
   ],
   "source": [
    "def outer(m):\n",
    "    x = 1\n",
    "    z = 10\n",
    "    print(m)\n",
    "    def inner():\n",
    "        y = x + 100 + m\n",
    "        print(y)\n",
    "        return y, z \n",
    "    return inner\n",
    "\n",
    "def op(n):\n",
    "    return n**2\n",
    "\n",
    "f = outer(op(2))                # 实际上，f包含了： inner函数本身 + outer函数的环境\n",
    "f()"
   ]
  },
  {
   "cell_type": "markdown",
   "id": "capital-thong",
   "metadata": {},
   "source": [
    "**装饰器实现**\n",
    "\n",
    "(1) 简单的装饰器"
   ]
  },
  {
   "cell_type": "code",
   "execution_count": 160,
   "id": "waiting-administration",
   "metadata": {},
   "outputs": [
    {
     "name": "stdout",
     "output_type": "stream",
     "text": [
      "inner run\n",
      "f1 run\n",
      "f1 函数运行用时1.00秒\n"
     ]
    }
   ],
   "source": [
    "import time\n",
    "\n",
    "def timer(func):\n",
    "    \n",
    "    def inner():\n",
    "        print(\"inner run\")\n",
    "        start = time.time()\n",
    "        func()\n",
    "        end = time.time()\n",
    "        print(\"{} 函数运行用时{:.2f}秒\".format(func.__name__, (end-start)))\n",
    "    return inner\n",
    "\n",
    "\n",
    "def f1():\n",
    "    print(\"f1 run\")\n",
    "    time.sleep(1)\n",
    "\n",
    "f1 = timer(f1)             # 包含inner()和timer()的环境，如传递过来的参数func\n",
    "f1()"
   ]
  },
  {
   "cell_type": "markdown",
   "id": "excellent-privilege",
   "metadata": {},
   "source": [
    "* 简单装饰器 + **语法糖**"
   ]
  },
  {
   "cell_type": "code",
   "execution_count": 159,
   "id": "handed-control",
   "metadata": {},
   "outputs": [
    {
     "name": "stdout",
     "output_type": "stream",
     "text": [
      "inner run\n",
      "f1 run\n",
      "f1 函数运行用时1.00秒\n"
     ]
    }
   ],
   "source": [
    "import time\n",
    "\n",
    "def timer(func):\n",
    "    \n",
    "    def inner():\n",
    "        print(\"inner run\")\n",
    "        start = time.time()\n",
    "        func()\n",
    "        end = time.time()\n",
    "        print(\"{} 函数运行用时{:.2f}秒\".format(func.__name__, (end-start)))\n",
    "    \n",
    "    return inner\n",
    "\n",
    "@timer                      # 相当于实现了 f1 = timer(f1)\n",
    "def f1():\n",
    "    print(\"f1 run\")\n",
    "    time.sleep(1)\n",
    "    \n",
    "    \n",
    "f1()"
   ]
  },
  {
   "cell_type": "markdown",
   "id": "induced-burst",
   "metadata": {},
   "source": [
    "(2) 装饰 有参函数"
   ]
  },
  {
   "cell_type": "code",
   "execution_count": 162,
   "id": "shared-input",
   "metadata": {},
   "outputs": [
    {
     "name": "stdout",
     "output_type": "stream",
     "text": [
      "inner run\n",
      "f1 run\n",
      "f1 函数运行用时2.00秒\n"
     ]
    }
   ],
   "source": [
    "import time\n",
    "\n",
    "def timer(func):\n",
    "    \n",
    "    def inner(*args, **kwargs):\n",
    "        print(\"inner run\")\n",
    "        start = time.time()\n",
    "        func(*args, **kwargs)\n",
    "        end = time.time()\n",
    "        print(\"{} 函数运行用时{:.2f}秒\".format(func.__name__, (end-start)))\n",
    "    \n",
    "    return inner\n",
    "\n",
    "\n",
    "@timer                # 相当于实现了f1 = timer(f1)\n",
    "def f1(n):\n",
    "    print(\"f1 run\")\n",
    "    time.sleep(n)\n",
    "\n",
    "    \n",
    "f1(2)"
   ]
  },
  {
   "cell_type": "markdown",
   "id": "underlying-miracle",
   "metadata": {},
   "source": [
    "(3) 带参数的装饰器\n",
    "* 装饰器本身要传递一些额外参数"
   ]
  },
  {
   "cell_type": "code",
   "execution_count": 163,
   "id": "willing-sweden",
   "metadata": {},
   "outputs": [
    {
     "name": "stdout",
     "output_type": "stream",
     "text": [
      "inner run\n",
      "origin_inner run\n",
      "f1 run\n",
      "f1 函数运行用时1.00秒\n",
      "\n",
      "inner run\n",
      "double_inner run\n",
      "f2 run\n",
      "f2 函数运行双倍用时2.00秒\n"
     ]
    }
   ],
   "source": [
    "def timer(method):\n",
    "    \n",
    "    def outer(func):\n",
    "    \n",
    "        def inner(*args, **kwargs):\n",
    "            print(\"inner run\")\n",
    "            if method == \"origin\":\n",
    "                print(\"origin_inner run\")\n",
    "                start = time.time()\n",
    "                res = func(*args, **kwargs)\n",
    "                end = time.time()\n",
    "                print(\"{} 函数运行用时{:.2f}秒\".format(func.__name__, (end-start)))\n",
    "            elif method == \"double\":\n",
    "                print(\"double_inner run\")\n",
    "                start = time.time()\n",
    "                res = func(*args, **kwargs)\n",
    "                end = time.time()\n",
    "                print(\"{} 函数运行双倍用时{:.2f}秒\".format(func.__name__, 2*(end-start)))\n",
    "            return res\n",
    "    \n",
    "        return inner\n",
    "    \n",
    "    return outer\n",
    "\n",
    "\n",
    "@timer(method=\"origin\")  # 相当于timer = timer(method = \"origin\")   f1 = timer(f1)\n",
    "def f1():\n",
    "    print(\"f1 run\")\n",
    "    time.sleep(1)\n",
    "    \n",
    "    \n",
    "@timer(method=\"double\")\n",
    "def f2():\n",
    "    print(\"f2 run\")\n",
    "    time.sleep(1)\n",
    "\n",
    "\n",
    "f1()\n",
    "print()\n",
    "f2()"
   ]
  },
  {
   "cell_type": "code",
   "execution_count": 180,
   "id": "threatened-cricket",
   "metadata": {},
   "outputs": [
    {
     "name": "stdout",
     "output_type": "stream",
     "text": [
      "timer run\n",
      "outer run\n",
      "timer run\n",
      "outer run\n",
      "##########\n",
      "inner run\n",
      "origin_inner run\n",
      "f1 run\n",
      "f1 函数运行用时1.00秒\n",
      "\n",
      "inner run\n",
      "double_inner run\n",
      "f2 run\n",
      "f2 函数运行双倍用时2.00秒\n"
     ]
    }
   ],
   "source": [
    "def timer(method):\n",
    "    print(\"timer run\")\n",
    "    def outer(func):\n",
    "        print(\"outer run\")\n",
    "        def inner(*args, **kwargs):\n",
    "            print(\"inner run\")\n",
    "            if method == \"origin\":\n",
    "                print(\"origin_inner run\")\n",
    "                start = time.time()\n",
    "                res = func(*args, **kwargs)\n",
    "                end = time.time()\n",
    "                print(\"{} 函数运行用时{:.2f}秒\".format(func.__name__, (end-start)))\n",
    "            elif method == \"double\":\n",
    "                print(\"double_inner run\")\n",
    "                start = time.time()\n",
    "                res = func(*args, **kwargs)\n",
    "                end = time.time()\n",
    "                print(\"{} 函数运行双倍用时{:.2f}秒\".format(func.__name__, 2*(end-start)))\n",
    "            return res\n",
    "    \n",
    "        return inner\n",
    "    \n",
    "    return outer\n",
    "\n",
    "\n",
    "@timer(method=\"origin\")  # 相当于timer = timer(method = \"origin\")   f1 = timer(f1)\n",
    "def f1():\n",
    "    print(\"f1 run\")\n",
    "    time.sleep(1)\n",
    "    \n",
    "    \n",
    "@timer(method=\"double\")\n",
    "def f2():\n",
    "    print(\"f2 run\")\n",
    "    time.sleep(1)\n",
    "\n",
    "print(\"##########\")\n",
    "f1()\n",
    "print()\n",
    "f2()"
   ]
  },
  {
   "cell_type": "markdown",
   "id": "undefined-sweet",
   "metadata": {},
   "source": [
    "* **注意！何时执行修饰器？**"
   ]
  },
  {
   "cell_type": "code",
   "execution_count": null,
   "id": "running-coverage",
   "metadata": {},
   "outputs": [],
   "source": []
  }
 ],
 "metadata": {
  "kernelspec": {
   "display_name": "Python 3",
   "language": "python",
   "name": "python3"
  },
  "language_info": {
   "codemirror_mode": {
    "name": "ipython",
    "version": 3
   },
   "file_extension": ".py",
   "mimetype": "text/x-python",
   "name": "python",
   "nbconvert_exporter": "python",
   "pygments_lexer": "ipython3",
   "version": "3.7.9"
  },
  "toc": {
   "base_numbering": 1,
   "nav_menu": {},
   "number_sections": true,
   "sideBar": true,
   "skip_h1_title": false,
   "title_cell": "Table of Contents",
   "title_sidebar": "Contents",
   "toc_cell": false,
   "toc_position": {
    "height": "calc(100% - 180px)",
    "left": "10px",
    "top": "150px",
    "width": "369.594px"
   },
   "toc_section_display": true,
   "toc_window_display": true
  }
 },
 "nbformat": 4,
 "nbformat_minor": 5
}
