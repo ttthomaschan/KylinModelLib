{
 "cells": [
  {
   "cell_type": "code",
   "execution_count": 4,
   "metadata": {},
   "outputs": [],
   "source": [
    "import torch\n",
    "import torch.nn as nn"
   ]
  },
  {
   "cell_type": "markdown",
   "metadata": {},
   "source": [
    "# 损失函数"
   ]
  },
  {
   "cell_type": "markdown",
   "metadata": {},
   "source": [
    "<img src=\"imgs/loss.png\" width=\"900\" height=\"400\" align=\"bottom\">"
   ]
  },
  {
   "cell_type": "code",
   "execution_count": 2,
   "metadata": {
    "code_folding": [
     0
    ]
   },
   "outputs": [],
   "source": [
    "class DefaultConfig():\n",
    "    # backbone\n",
    "    backbone = \"darknet19\"\n",
    "    pretrained = True\n",
    "\n",
    "    # fpn\n",
    "    fpn_out_channels = 256\n",
    "    use_p5 = True\n",
    "    \n",
    "    # head\n",
    "    class_num = 20\n",
    "    use_GN_head = False\n",
    "    prior = 0.01\n",
    "    add_centerness = True\n",
    "    cnt_on_reg = True\n",
    "\n",
    "    # training\n",
    "    strides = [8, 16, 32, 64, 128]\n",
    "    limit_range = [[-1, 64], [64, 128], [128, 256], [256, 512], [512, 999999]]\n",
    "\n",
    "    # inference\n",
    "    score_threshold = 0.3\n",
    "    nms_iou_threshold = 0.2\n",
    "    max_detection_boxes_num = 150"
   ]
  },
  {
   "cell_type": "code",
   "execution_count": 4,
   "metadata": {},
   "outputs": [],
   "source": [
    "class LOSS(nn.Module):\n",
    "    def __init__(self, config=None):\n",
    "        super().__init__()\n",
    "        if config is None:\n",
    "            self.config = DefaultConfig\n",
    "        else:\n",
    "            self.config = config\n",
    "\n",
    "    def forward(self, inputs):\n",
    "        \"\"\"\n",
    "        inputs list\n",
    "        [0]preds:  ....\n",
    "        [1]targets : list contains three elements [[batch_size,sum(_h*_w),1],[batch_size,sum(_h*_w),1],[batch_size,sum(_h*_w),4]]\n",
    "        \"\"\"\n",
    "        preds, targets = inputs\n",
    "        cls_logits, cnt_logits, reg_preds = preds\n",
    "        cls_targets, cnt_targets, reg_targets = targets\n",
    "        # mask用来区分正负样本，负样本不计算cnt和reg损失\n",
    "        mask_pos = (cnt_targets > -1).squeeze(dim=-1)  # [batch_size,sum(_h*_w)]\n",
    "        cls_loss = compute_cls_loss(cls_logits, cls_targets, mask_pos).mean()  # []\n",
    "        cnt_loss = compute_cnt_loss(cnt_logits, cnt_targets, mask_pos).mean()\n",
    "        reg_loss = compute_reg_loss(reg_preds, reg_targets, mask_pos).mean()\n",
    "        \n",
    "        if self.config.add_centerness:\n",
    "            total_loss = cls_loss + cnt_loss + reg_loss\n",
    "            return cls_loss, cnt_loss, reg_loss, total_loss\n",
    "        else:\n",
    "            total_loss = cls_loss + reg_loss + cnt_loss * 0.0\n",
    "            return cls_loss, cnt_loss, reg_loss, total_loss"
   ]
  },
  {
   "cell_type": "markdown",
   "metadata": {},
   "source": [
    "## 分类损失"
   ]
  },
  {
   "cell_type": "code",
   "execution_count": 7,
   "metadata": {},
   "outputs": [],
   "source": [
    "def focal_loss_from_logits(preds, targets, gamma=2.0, alpha=0.25):\n",
    "    '''\n",
    "    Args:\n",
    "    preds: [n,class_num] \n",
    "    targets: [n,class_num]\n",
    "    '''\n",
    "    # FocalLoss的定义分正负样本，但是这个函数仅使用一个公式便定义了两种情况\n",
    "    preds = preds.sigmoid()\n",
    "    pt =  preds * targets + (1.0 - preds) * (1.0 -targets)\n",
    "    # 这里的w其实就是focal loss里的alpha的两种情况写到了一个表达式里\n",
    "    w = alpha * targets + (1.0 - alpha) * (1.0 - targets)\n",
    "    loss = -w * torch.pow((1.0 - pt), gamma) * pt.log()\n",
    "    return loss.sum()"
   ]
  },
  {
   "cell_type": "code",
   "execution_count": 8,
   "metadata": {},
   "outputs": [],
   "source": [
    "def compute_cls_loss(preds, targets, mask):\n",
    "    '''\n",
    "    Args  \n",
    "    preds: list contains five level pred [batch_size,class_num,_h,_w]\n",
    "    targets: [batch_size,sum(_h*_w),1]\n",
    "    mask: [batch_size,sum(_h*_w)]\n",
    "    '''\n",
    "    batch_size = targets.shape[0]\n",
    "    \n",
    "    preds_reshape = []\n",
    "    class_num = preds[0].shape[1]\n",
    "    mask = mask.unsqueeze(dim=-1)  # unsqueeze() 添加列维度，变成[batch_size,sum(_h*_w),1]\n",
    "    \n",
    "    # 计算正样本个数，最后的损失需要除以这个数字\n",
    "    num_pos = torch.sum(mask, dim=[1, 2]).clamp_(min=1).float()  # [batch_size,]\n",
    "    \n",
    "    for pred in preds:\n",
    "        # 将pred从[batch_size, class_num,_h,_w]形状转换成[batch_size, -1, class_num]\n",
    "        pred = pred.permute(0, 2, 3, 1)\n",
    "        pred = torch.reshape(pred, [batch_size, -1, class_num])\n",
    "        preds_reshape.append(pred)\n",
    "    preds = torch.cat(preds_reshape, dim=1)  # [batch_size,sum(_h*_w),class_num]\n",
    "    \n",
    "    # 此时preds的形状是[batch_size,sum(_h*_w),class_num]，我们需要把target也转换成这个形状\n",
    "    # 才可以让它们计算损失\n",
    "    assert preds.shape[:2] == targets.shape[:2]\n",
    "    loss = []\n",
    "    for batch_index in range(batch_size):\n",
    "        pred_pos = preds[batch_index]  # [sum(_h*_w),class_num]\n",
    "        target_pos = targets[batch_index]  # [sum(_h*_w),1]\n",
    "        target_pos = (torch.arange(1, class_num + 1, device=target_pos.device)[None,:]\n",
    "                      .type(torch.float32) == target_pos).float()  # sparse-->onehot\n",
    "        loss.append(focal_loss_from_logits(pred_pos, target_pos).view(1))\n",
    "    return torch.cat(loss, dim=0) / num_pos  # [batch_size,]"
   ]
  },
  {
   "cell_type": "code",
   "execution_count": 9,
   "metadata": {},
   "outputs": [
    {
     "data": {
      "text/plain": [
       "tensor([2.1113, 2.1113])"
      ]
     },
     "execution_count": 9,
     "metadata": {},
     "output_type": "execute_result"
    }
   ],
   "source": [
    "preds = [torch.ones([2, 5, 4, 4])] * 5  \n",
    "targets = torch.ones([2, 80, 1])\n",
    "mask = torch.ones([2, 80], dtype=torch.uint8)\n",
    "compute_cls_loss(preds, targets, mask)"
   ]
  },
  {
   "cell_type": "code",
   "execution_count": 10,
   "metadata": {},
   "outputs": [],
   "source": [
    "batch_size = targets.shape[0]\n",
    "class_num = preds[0].shape[1]  # = 2 "
   ]
  },
  {
   "cell_type": "code",
   "execution_count": 11,
   "metadata": {},
   "outputs": [
    {
     "data": {
      "text/plain": [
       "tensor([[1, 1, 1, 1, 1, 1, 1, 1, 1, 1, 1, 1, 1, 1, 1, 1, 1, 1, 1, 1, 1, 1, 1, 1,\n",
       "         1, 1, 1, 1, 1, 1, 1, 1, 1, 1, 1, 1, 1, 1, 1, 1, 1, 1, 1, 1, 1, 1, 1, 1,\n",
       "         1, 1, 1, 1, 1, 1, 1, 1, 1, 1, 1, 1, 1, 1, 1, 1, 1, 1, 1, 1, 1, 1, 1, 1,\n",
       "         1, 1, 1, 1, 1, 1, 1, 1],\n",
       "        [1, 1, 1, 1, 1, 1, 1, 1, 1, 1, 1, 1, 1, 1, 1, 1, 1, 1, 1, 1, 1, 1, 1, 1,\n",
       "         1, 1, 1, 1, 1, 1, 1, 1, 1, 1, 1, 1, 1, 1, 1, 1, 1, 1, 1, 1, 1, 1, 1, 1,\n",
       "         1, 1, 1, 1, 1, 1, 1, 1, 1, 1, 1, 1, 1, 1, 1, 1, 1, 1, 1, 1, 1, 1, 1, 1,\n",
       "         1, 1, 1, 1, 1, 1, 1, 1]], dtype=torch.uint8)"
      ]
     },
     "execution_count": 11,
     "metadata": {},
     "output_type": "execute_result"
    }
   ],
   "source": [
    "mask = torch.ones([2, 80], dtype=torch.uint8)\n",
    "mask"
   ]
  },
  {
   "cell_type": "code",
   "execution_count": 12,
   "metadata": {},
   "outputs": [
    {
     "data": {
      "text/plain": [
       "torch.Size([2, 80, 1])"
      ]
     },
     "execution_count": 12,
     "metadata": {},
     "output_type": "execute_result"
    }
   ],
   "source": [
    "mask = mask.unsqueeze(dim=-1)\n",
    "mask.shape"
   ]
  },
  {
   "cell_type": "code",
   "execution_count": 13,
   "metadata": {},
   "outputs": [
    {
     "data": {
      "text/plain": [
       "tensor([80., 80.])"
      ]
     },
     "execution_count": 13,
     "metadata": {},
     "output_type": "execute_result"
    }
   ],
   "source": [
    "num_pos = torch.sum(mask, dim=[1, 2]).clamp_(min=1).float()  # [batch_size,]  # _ 表示 inplace操作\n",
    "num_pos"
   ]
  },
  {
   "cell_type": "code",
   "execution_count": 14,
   "metadata": {},
   "outputs": [
    {
     "name": "stdout",
     "output_type": "stream",
     "text": [
      "torch.Size([2, 4, 4, 5])\n",
      "torch.Size([2, 16, 5])\n",
      "torch.Size([2, 4, 4, 5])\n",
      "torch.Size([2, 16, 5])\n",
      "torch.Size([2, 4, 4, 5])\n",
      "torch.Size([2, 16, 5])\n",
      "torch.Size([2, 4, 4, 5])\n",
      "torch.Size([2, 16, 5])\n",
      "torch.Size([2, 4, 4, 5])\n",
      "torch.Size([2, 16, 5])\n"
     ]
    },
    {
     "data": {
      "text/plain": [
       "torch.Size([2, 80, 5])"
      ]
     },
     "execution_count": 14,
     "metadata": {},
     "output_type": "execute_result"
    }
   ],
   "source": [
    "preds_reshape = []\n",
    "for pred in preds:\n",
    "    pred = pred.permute(0, 2, 3, 1)\n",
    "    print(pred.shape)\n",
    "    pred = torch.reshape(pred, [batch_size, -1, class_num])\n",
    "    print(pred.shape)\n",
    "    preds_reshape.append(pred)\n",
    "        \n",
    "preds = torch.cat(preds_reshape, dim=1)  # [batch_size,sum(_h*_w),class_num]\n",
    "preds.shape"
   ]
  },
  {
   "cell_type": "code",
   "execution_count": 15,
   "metadata": {},
   "outputs": [],
   "source": [
    "assert preds.shape[:2] == targets.shape[:2]"
   ]
  },
  {
   "cell_type": "code",
   "execution_count": 16,
   "metadata": {},
   "outputs": [
    {
     "name": "stdout",
     "output_type": "stream",
     "text": [
      "cpu torch.float32\n"
     ]
    }
   ],
   "source": [
    "pred_pos = preds[0]  # [sum(_h*_w),class_num]\n",
    "target_pos = targets[0]  # [sum(_h*_w),1]\n",
    "print(target_pos.device, target_pos.dtype)"
   ]
  },
  {
   "cell_type": "code",
   "execution_count": 17,
   "metadata": {},
   "outputs": [
    {
     "data": {
      "text/plain": [
       "tensor([1, 2, 3, 4, 5])"
      ]
     },
     "execution_count": 17,
     "metadata": {},
     "output_type": "execute_result"
    }
   ],
   "source": [
    "tensor = torch.arange(1, class_num + 1, device=target_pos.device)\n",
    "tensor"
   ]
  },
  {
   "cell_type": "code",
   "execution_count": 18,
   "metadata": {},
   "outputs": [
    {
     "data": {
      "text/plain": [
       "tensor([[1, 2, 3, 4, 5]])"
      ]
     },
     "execution_count": 18,
     "metadata": {},
     "output_type": "execute_result"
    }
   ],
   "source": [
    "tensor[None,:]"
   ]
  },
  {
   "cell_type": "code",
   "execution_count": 19,
   "metadata": {},
   "outputs": [
    {
     "name": "stdout",
     "output_type": "stream",
     "text": [
      "torch.int64\n"
     ]
    }
   ],
   "source": [
    "print(tensor[None,:].dtype)"
   ]
  },
  {
   "cell_type": "code",
   "execution_count": 20,
   "metadata": {},
   "outputs": [
    {
     "data": {
      "text/plain": [
       "torch.Size([80, 5])"
      ]
     },
     "execution_count": 20,
     "metadata": {},
     "output_type": "execute_result"
    }
   ],
   "source": [
    "target_pos = (tensor[None,:].type(torch.float32) == target_pos).float()  # sparse-->onehot\n",
    "target_pos.shape"
   ]
  },
  {
   "cell_type": "code",
   "execution_count": 21,
   "metadata": {},
   "outputs": [],
   "source": [
    "def focal_loss_from_logits(preds, targets, gamma=2.0, alpha=0.25):\n",
    "    '''\n",
    "    Args:\n",
    "    preds: [n,class_num] \n",
    "    targets: [n,class_num]\n",
    "    '''\n",
    "    preds = preds.sigmoid()\n",
    "    pt = preds * targets + (1.0 - preds) * (1.0 - targets)\n",
    "    w = alpha * targets + (1.0 - alpha) * (1.0 - targets)\n",
    "    loss = -w * torch.pow((1.0 - pt), gamma) * pt.log()\n",
    "    return loss.sum()"
   ]
  },
  {
   "cell_type": "code",
   "execution_count": 22,
   "metadata": {},
   "outputs": [
    {
     "data": {
      "text/plain": [
       "tensor([168.9016])"
      ]
     },
     "execution_count": 22,
     "metadata": {},
     "output_type": "execute_result"
    }
   ],
   "source": [
    "focal_loss_from_logits(pred_pos, target_pos).view(1)"
   ]
  },
  {
   "cell_type": "code",
   "execution_count": 23,
   "metadata": {},
   "outputs": [
    {
     "ename": "NameError",
     "evalue": "name 'loss' is not defined",
     "output_type": "error",
     "traceback": [
      "\u001b[0;31m---------------------------------------------------------------------------\u001b[0m",
      "\u001b[0;31mNameError\u001b[0m                                 Traceback (most recent call last)",
      "\u001b[0;32m<ipython-input-23-884626ecdab6>\u001b[0m in \u001b[0;36m<module>\u001b[0;34m\u001b[0m\n\u001b[0;32m----> 1\u001b[0;31m \u001b[0mtorch\u001b[0m\u001b[0;34m.\u001b[0m\u001b[0mcat\u001b[0m\u001b[0;34m(\u001b[0m\u001b[0mloss\u001b[0m\u001b[0;34m,\u001b[0m \u001b[0mdim\u001b[0m\u001b[0;34m=\u001b[0m\u001b[0;36m0\u001b[0m\u001b[0;34m)\u001b[0m \u001b[0;34m/\u001b[0m \u001b[0mnum_pos\u001b[0m\u001b[0;34m\u001b[0m\u001b[0;34m\u001b[0m\u001b[0m\n\u001b[0m",
      "\u001b[0;31mNameError\u001b[0m: name 'loss' is not defined"
     ]
    }
   ],
   "source": [
    "torch.cat(loss, dim=0) / num_pos"
   ]
  },
  {
   "cell_type": "markdown",
   "metadata": {},
   "source": [
    "## 中心度损失\n",
    "* 与分类损失基本相同，区别：分类损失--多分类；中心度损失--二分类。"
   ]
  },
  {
   "cell_type": "code",
   "execution_count": 21,
   "metadata": {},
   "outputs": [],
   "source": [
    "def compute_cnt_loss(preds, targets, mask):\n",
    "    '''\n",
    "    Args  \n",
    "    preds: list contains five level pred [batch_size,1,_h,_w]\n",
    "    targets: [batch_size,sum(_h*_w),1]\n",
    "    mask: [batch_size,sum(_h*_w)]\n",
    "    '''\n",
    "    batch_size = targets.shape[0]\n",
    "    c = targets.shape[-1]\n",
    "    preds_reshape = []\n",
    "    mask = mask.unsqueeze(dim=-1) #[batch_size,sum(_h*_w),1]\n",
    "    \n",
    "    # 同样计算正样本个数，最后损失除以这个数字\n",
    "    num_pos = torch.sum(mask, dim=[1, 2]).clamp_(min=1).float()  # [batch_size,]\n",
    "    for pred in preds:\n",
    "        pred = pred.permute(0, 2, 3, 1)\n",
    "        pred = torch.reshape(pred, [batch_size, -1, c])\n",
    "        preds_reshape.append(pred)\n",
    "    preds = torch.cat(preds_reshape, dim=1)\n",
    "    assert preds.shape == targets.shape  # [batch_size,sum(_h*_w),1]\n",
    "    loss = []\n",
    "    for batch_index in range(batch_size):\n",
    "        pred_pos = preds[batch_index][mask[batch_index]]  # [num_pos_b,]\n",
    "        target_pos = targets[batch_index][mask[batch_index]]  # [num_pos_b,]\n",
    "        assert len(pred_pos.shape) == 1\n",
    "        loss.append(\n",
    "            nn.functional.binary_cross_entropy_with_logits(input=pred_pos, target=target_pos, reduction='sum').view(1))\n",
    "    return torch.cat(loss, dim=0) / num_pos  # [batch_size,]"
   ]
  },
  {
   "cell_type": "code",
   "execution_count": 22,
   "metadata": {},
   "outputs": [
    {
     "name": "stdout",
     "output_type": "stream",
     "text": [
      "tensor([0.3133, 0.3133])\n"
     ]
    },
    {
     "name": "stderr",
     "output_type": "stream",
     "text": [
      "/home/elimen/anaconda3/envs/pytorch/lib/python3.7/site-packages/ipykernel_launcher.py:23: UserWarning: indexing with dtype torch.uint8 is now deprecated, please use a dtype torch.bool instead. (Triggered internally at  /opt/conda/conda-bld/pytorch_1607370156314/work/aten/src/ATen/native/IndexingUtils.h:25.)\n",
      "/home/elimen/anaconda3/envs/pytorch/lib/python3.7/site-packages/ipykernel_launcher.py:24: UserWarning: indexing with dtype torch.uint8 is now deprecated, please use a dtype torch.bool instead. (Triggered internally at  /opt/conda/conda-bld/pytorch_1607370156314/work/aten/src/ATen/native/IndexingUtils.h:25.)\n"
     ]
    }
   ],
   "source": [
    "loss = compute_cnt_loss([torch.ones([2, 1, 4, 4])] * 5, torch.ones([2, 80, 1]),\n",
    "                        torch.ones([2, 80], dtype=torch.uint8))\n",
    "print(loss)"
   ]
  },
  {
   "cell_type": "markdown",
   "metadata": {},
   "source": [
    "## 定位损失"
   ]
  },
  {
   "cell_type": "code",
   "execution_count": 24,
   "metadata": {},
   "outputs": [],
   "source": [
    "def iou_loss(preds, targets):\n",
    "    '''\n",
    "    Args:\n",
    "    preds: [n,4] ltrb\n",
    "    targets: [n,4]\n",
    "    '''\n",
    "    lt = torch.min(preds[:, :2], targets[:, :2])\n",
    "    rb = torch.min(preds[:, 2:], targets[:, 2:])\n",
    "    wh = (rb + lt).clamp(min=0)\n",
    "    \n",
    "    overlap = wh[:, 0] * wh[:, 1]  # [n]\n",
    "    area1 = (preds[:, 2] + preds[:, 0]) * (preds[:, 3] + preds[:, 1])\n",
    "    area2 = (targets[:, 2] + targets[:, 0]) * (targets[:, 3] + targets[:, 1])\n",
    "    iou = overlap / (area1 + area2 - overlap)\n",
    "    \n",
    "    loss = -iou.clamp(min=1e-6).log()\n",
    "    return loss.sum()"
   ]
  },
  {
   "cell_type": "code",
   "execution_count": 27,
   "metadata": {},
   "outputs": [],
   "source": [
    "def compute_reg_loss(preds, targets, mask, mode='iou'):\n",
    "    '''\n",
    "    Args  \n",
    "    preds: list contains five level pred [batch_size,4,_h,_w]\n",
    "    targets: [batch_size,sum(_h*_w),4]\n",
    "    mask: [batch_size,sum(_h*_w)]\n",
    "    '''\n",
    "    batch_size = targets.shape[0]\n",
    "    c = targets.shape[-1]\n",
    "    preds_reshape = []\n",
    "    # mask=targets>-1#[batch_size,sum(_h*_w),4]\n",
    "    num_pos = torch.sum(mask, dim=1).clamp_(min=1).float()  # [batch_size,]\n",
    "    for pred in preds:\n",
    "        pred = pred.permute(0, 2, 3, 1)\n",
    "        pred = torch.reshape(pred, [batch_size, -1, c])\n",
    "        preds_reshape.append(pred)\n",
    "    preds = torch.cat(preds_reshape, dim=1)\n",
    "    assert preds.shape == targets.shape  # [batch_size,sum(_h*_w),4]\n",
    "    loss = []\n",
    "    for batch_index in range(batch_size):\n",
    "        pred_pos = preds[batch_index][mask[batch_index]]  # [num_pos_b,4]\n",
    "        target_pos = targets[batch_index][mask[batch_index]]  # [num_pos_b,4]\n",
    "        assert len(pred_pos.shape) == 2\n",
    "        if mode == 'iou':\n",
    "            loss.append(iou_loss(pred_pos, target_pos).view(1))\n",
    "        elif mode == 'giou':\n",
    "            loss.append(giou_loss(pred_pos, target_pos).view(1))\n",
    "        else:\n",
    "            raise NotImplementedError(\"reg loss only implemented ['iou','giou']\")\n",
    "    return torch.cat(loss, dim=0) / num_pos  # [batch_size,]"
   ]
  },
  {
   "cell_type": "code",
   "execution_count": 28,
   "metadata": {},
   "outputs": [
    {
     "name": "stdout",
     "output_type": "stream",
     "text": [
      "tensor([0., 0.])\n"
     ]
    },
    {
     "name": "stderr",
     "output_type": "stream",
     "text": [
      "/home/elimen/anaconda3/envs/pytorch/lib/python3.7/site-packages/ipykernel_launcher.py:21: UserWarning: indexing with dtype torch.uint8 is now deprecated, please use a dtype torch.bool instead. (Triggered internally at  /opt/conda/conda-bld/pytorch_1607370156314/work/aten/src/ATen/native/IndexingUtils.h:25.)\n",
      "/home/elimen/anaconda3/envs/pytorch/lib/python3.7/site-packages/ipykernel_launcher.py:22: UserWarning: indexing with dtype torch.uint8 is now deprecated, please use a dtype torch.bool instead. (Triggered internally at  /opt/conda/conda-bld/pytorch_1607370156314/work/aten/src/ATen/native/IndexingUtils.h:25.)\n"
     ]
    }
   ],
   "source": [
    "loss = compute_reg_loss([torch.ones([2, 4, 4, 4])] * 5, torch.ones([2, 80, 4]),\n",
    "                        torch.ones([2, 80], dtype=torch.uint8))\n",
    "print(loss)"
   ]
  },
  {
   "cell_type": "code",
   "execution_count": null,
   "metadata": {},
   "outputs": [],
   "source": []
  }
 ],
 "metadata": {
  "hide_input": false,
  "kernelspec": {
   "display_name": "Python 3",
   "language": "python",
   "name": "python3"
  },
  "language_info": {
   "codemirror_mode": {
    "name": "ipython",
    "version": 3
   },
   "file_extension": ".py",
   "mimetype": "text/x-python",
   "name": "python",
   "nbconvert_exporter": "python",
   "pygments_lexer": "ipython3",
   "version": "3.7.9"
  },
  "toc": {
   "base_numbering": 1,
   "nav_menu": {},
   "number_sections": true,
   "sideBar": true,
   "skip_h1_title": true,
   "title_cell": "Table of Contents",
   "title_sidebar": "Contents",
   "toc_cell": false,
   "toc_position": {},
   "toc_section_display": true,
   "toc_window_display": true
  },
  "varInspector": {
   "cols": {
    "lenName": 16,
    "lenType": 16,
    "lenVar": 40
   },
   "kernels_config": {
    "python": {
     "delete_cmd_postfix": "",
     "delete_cmd_prefix": "del ",
     "library": "var_list.py",
     "varRefreshCmd": "print(var_dic_list())"
    },
    "r": {
     "delete_cmd_postfix": ") ",
     "delete_cmd_prefix": "rm(",
     "library": "var_list.r",
     "varRefreshCmd": "cat(var_dic_list()) "
    }
   },
   "types_to_exclude": [
    "module",
    "function",
    "builtin_function_or_method",
    "instance",
    "_Feature"
   ],
   "window_display": false
  }
 },
 "nbformat": 4,
 "nbformat_minor": 4
}
