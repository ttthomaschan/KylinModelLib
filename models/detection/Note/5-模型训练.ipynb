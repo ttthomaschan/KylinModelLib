{
 "cells": [
  {
   "cell_type": "code",
   "execution_count": 2,
   "metadata": {},
   "outputs": [],
   "source": [
    "import argparse\n",
    "import os\n",
    "import random\n",
    "import time\n",
    "import numpy as np\n",
    "import torch\n",
    "import torch.backends.cudnn as cudnn\n",
    "os.chdir('../')  # 更改notebook的工作路径到上一级目录"
   ]
  },
  {
   "cell_type": "code",
   "execution_count": 3,
   "metadata": {},
   "outputs": [
    {
     "ename": "ModuleNotFoundError",
     "evalue": "No module named 'dataset'",
     "output_type": "error",
     "traceback": [
      "\u001b[0;31m---------------------------------------------------------------------------\u001b[0m",
      "\u001b[0;31mModuleNotFoundError\u001b[0m                       Traceback (most recent call last)",
      "\u001b[0;32m<ipython-input-3-0b9c8be91351>\u001b[0m in \u001b[0;36m<module>\u001b[0;34m()\u001b[0m\n\u001b[0;32m----> 1\u001b[0;31m \u001b[0;32mfrom\u001b[0m \u001b[0mdataset\u001b[0m\u001b[0;34m.\u001b[0m\u001b[0mVOC_dataset\u001b[0m \u001b[0;32mimport\u001b[0m \u001b[0mVOCDataset\u001b[0m\u001b[0;34m\u001b[0m\u001b[0;34m\u001b[0m\u001b[0m\n\u001b[0m\u001b[1;32m      2\u001b[0m \u001b[0;32mfrom\u001b[0m \u001b[0mdataset\u001b[0m\u001b[0;34m.\u001b[0m\u001b[0maugment\u001b[0m \u001b[0;32mimport\u001b[0m \u001b[0mTransforms\u001b[0m\u001b[0;34m\u001b[0m\u001b[0;34m\u001b[0m\u001b[0m\n\u001b[1;32m      3\u001b[0m \u001b[0;32mfrom\u001b[0m \u001b[0mmodel\u001b[0m\u001b[0;34m.\u001b[0m\u001b[0mfcos\u001b[0m \u001b[0;32mimport\u001b[0m \u001b[0mFCOSDetector\u001b[0m\u001b[0;34m\u001b[0m\u001b[0;34m\u001b[0m\u001b[0m\n",
      "\u001b[0;31mModuleNotFoundError\u001b[0m: No module named 'dataset'"
     ]
    }
   ],
   "source": [
    "from dataset.VOC_dataset import VOCDataset\n",
    "from dataset.augment import Transforms\n",
    "from model.fcos import FCOSDetector"
   ]
  },
  {
   "cell_type": "markdown",
   "metadata": {},
   "source": [
    "## 参数设定"
   ]
  },
  {
   "cell_type": "code",
   "execution_count": 3,
   "metadata": {},
   "outputs": [],
   "source": [
    "parser = argparse.ArgumentParser()\n",
    "parser.add_argument(\"--epochs\", type=int, default=24, help=\"number of epochs\")\n",
    "parser.add_argument(\"--batch_size\", type=int, default=4, help=\"size of each image batch\")\n",
    "parser.add_argument(\"--n_cpu\", type=int, default=4, help=\"number of cpu threads to use during batch generation\")\n",
    "parser.add_argument(\"--n_gpu\", type=str, default='0', help=\"number of cpu threads to use during batch generation\")\n",
    "opt = parser.parse_args([])  # notebook 中运行的时候要加 parser.parse_args() 的参数要加[]"
   ]
  },
  {
   "cell_type": "markdown",
   "metadata": {},
   "source": [
    "## GPU环境设定"
   ]
  },
  {
   "cell_type": "code",
   "execution_count": 4,
   "metadata": {},
   "outputs": [],
   "source": [
    "os.environ[\"CUDA_VISIBLE_DEVICES\"] = opt.n_gpu\n",
    "torch.manual_seed(0)\n",
    "torch.cuda.manual_seed(0)\n",
    "torch.cuda.manual_seed_all(0)\n",
    "np.random.seed(0)\n",
    "cudnn.benchmark = False\n",
    "cudnn.deterministic = True\n",
    "random.seed(0)"
   ]
  },
  {
   "cell_type": "markdown",
   "metadata": {},
   "source": [
    "## 数据集设置"
   ]
  },
  {
   "cell_type": "code",
   "execution_count": 5,
   "metadata": {},
   "outputs": [
    {
     "name": "stdout",
     "output_type": "stream",
     "text": [
      "INFO=====>voc dataset init finished  ! !\n",
      "total_images : 5011\n"
     ]
    }
   ],
   "source": [
    "BATCH_SIZE = opt.batch_size\n",
    "\n",
    "transform = Transforms()\n",
    "train_dataset = VOCDataset(root_dir='../datasets/VOCdevkit/VOC2012', resize_size=[640, 800],\n",
    "                           split='trainval', use_difficult=False, is_train=True, augment=transform)\n",
    "\n",
    "train_loader = torch.utils.data.DataLoader(train_dataset, batch_size=BATCH_SIZE, shuffle=True,\n",
    "                                           collate_fn=train_dataset.collate_fn,\n",
    "                                           num_workers=opt.n_cpu, worker_init_fn=np.random.seed(0))\n",
    "\n",
    "print(\"total_images : {}\".format(len(train_dataset)))"
   ]
  },
  {
   "cell_type": "markdown",
   "metadata": {},
   "source": [
    "## 模型设置"
   ]
  },
  {
   "cell_type": "code",
   "execution_count": 1,
   "metadata": {},
   "outputs": [
    {
     "ename": "NameError",
     "evalue": "name 'FCOSDetector' is not defined",
     "output_type": "error",
     "traceback": [
      "\u001b[0;31m---------------------------------------------------------------------------\u001b[0m",
      "\u001b[0;31mNameError\u001b[0m                                 Traceback (most recent call last)",
      "\u001b[0;32m<ipython-input-1-c643e2874c72>\u001b[0m in \u001b[0;36m<module>\u001b[0;34m()\u001b[0m\n\u001b[0;32m----> 1\u001b[0;31m \u001b[0mmodel\u001b[0m \u001b[0;34m=\u001b[0m \u001b[0mFCOSDetector\u001b[0m\u001b[0;34m(\u001b[0m\u001b[0mmode\u001b[0m\u001b[0;34m=\u001b[0m\u001b[0;34m\"training\"\u001b[0m\u001b[0;34m)\u001b[0m\u001b[0;34m.\u001b[0m\u001b[0mcuda\u001b[0m\u001b[0;34m(\u001b[0m\u001b[0;34m)\u001b[0m\u001b[0;34m\u001b[0m\u001b[0;34m\u001b[0m\u001b[0m\n\u001b[0m\u001b[1;32m      2\u001b[0m \u001b[0;31m# model = torch.nn.DataParallel(model)  # 多gpu时使用\u001b[0m\u001b[0;34m\u001b[0m\u001b[0;34m\u001b[0m\u001b[0;34m\u001b[0m\u001b[0m\n\u001b[1;32m      3\u001b[0m \u001b[0mmodel\u001b[0m\u001b[0;34m.\u001b[0m\u001b[0mtrain\u001b[0m\u001b[0;34m(\u001b[0m\u001b[0;34m)\u001b[0m\u001b[0;34m\u001b[0m\u001b[0;34m\u001b[0m\u001b[0m\n",
      "\u001b[0;31mNameError\u001b[0m: name 'FCOSDetector' is not defined"
     ]
    }
   ],
   "source": [
    "model = FCOSDetector(mode=\"training\").cuda()\n",
    "# model = torch.nn.DataParallel(model)  # 多gpu时使用\n",
    "model.train()"
   ]
  },
  {
   "cell_type": "markdown",
   "metadata": {},
   "source": [
    "## 训练参数设置"
   ]
  },
  {
   "cell_type": "code",
   "execution_count": null,
   "metadata": {},
   "outputs": [],
   "source": [
    "EPOCHS = opt.epochs # 总迭代数\n",
    "steps_per_epoch = len(train_dataset) // BATCH_SIZE # 每轮迭代的steps数\n",
    "TOTAL_STEPS = steps_per_epoch * EPOCHS # 总steps数量\n",
    "WARMPUP_STEPS = 501 # warm up的steps数量\n",
    "output_dir = 'training_dir' # 设置保存训练模型的路径\n",
    "if not os.path.exists(output_dir): # 如果该路径不存在，则创建一个\n",
    "    os.mkdir(output_dir)\n",
    "\n",
    "GLOBAL_STEPS = 1 # 计数器初始化\n",
    "LR_INIT = 1e-3  # 初始学习率"
   ]
  },
  {
   "cell_type": "markdown",
   "metadata": {},
   "source": [
    "## 优化器设置"
   ]
  },
  {
   "cell_type": "code",
   "execution_count": 7,
   "metadata": {},
   "outputs": [],
   "source": [
    "optimizer = torch.optim.SGD(model.parameters(), lr=LR_INIT, momentum=0.9, weight_decay=0.0001)"
   ]
  },
  {
   "cell_type": "markdown",
   "metadata": {},
   "source": [
    "## 开始训练"
   ]
  },
  {
   "cell_type": "code",
   "execution_count": null,
   "metadata": {},
   "outputs": [
    {
     "name": "stdout",
     "output_type": "stream",
     "text": [
      "global_steps:1 epoch:1 steps:1/5011 cls_loss:1.2560 cnt_loss:0.7801 reg_loss:0.9997 cost_time:1514ms lr=3.9920e-06 total_loss:3.0358\n",
      "global_steps:2 epoch:1 steps:2/5011 cls_loss:1.1750 cnt_loss:0.7514 reg_loss:0.9999 cost_time:438ms lr=7.9840e-06 total_loss:2.9263\n",
      "global_steps:3 epoch:1 steps:3/5011 cls_loss:1.2949 cnt_loss:0.7793 reg_loss:0.9997 cost_time:418ms lr=1.1976e-05 total_loss:3.0740\n",
      "global_steps:4 epoch:1 steps:4/5011 cls_loss:1.3756 cnt_loss:0.9157 reg_loss:1.0000 cost_time:400ms lr=1.5968e-05 total_loss:3.2913\n",
      "global_steps:5 epoch:1 steps:5/5011 cls_loss:1.0905 cnt_loss:0.7375 reg_loss:0.9995 cost_time:400ms lr=1.9960e-05 total_loss:2.8276\n",
      "global_steps:6 epoch:1 steps:6/5011 cls_loss:1.1989 cnt_loss:0.8049 reg_loss:1.0000 cost_time:456ms lr=2.3952e-05 total_loss:3.0039\n",
      "global_steps:7 epoch:1 steps:7/5011 cls_loss:1.0979 cnt_loss:0.7145 reg_loss:1.0000 cost_time:392ms lr=2.7944e-05 total_loss:2.8123\n",
      "global_steps:8 epoch:1 steps:8/5011 cls_loss:2.7303 cnt_loss:0.0000 reg_loss:0.0000 cost_time:416ms lr=3.1936e-05 total_loss:2.7303\n",
      "global_steps:9 epoch:1 steps:9/5011 cls_loss:1.2188 cnt_loss:0.7174 reg_loss:1.0000 cost_time:396ms lr=3.5928e-05 total_loss:2.9362\n",
      "global_steps:10 epoch:1 steps:10/5011 cls_loss:1.2737 cnt_loss:0.7154 reg_loss:0.9998 cost_time:418ms lr=3.9920e-05 total_loss:2.9889\n",
      "global_steps:11 epoch:1 steps:11/5011 cls_loss:1.4557 cnt_loss:0.6942 reg_loss:1.0000 cost_time:343ms lr=4.3912e-05 total_loss:3.1498\n",
      "global_steps:12 epoch:1 steps:12/5011 cls_loss:1.1692 cnt_loss:0.6975 reg_loss:0.9999 cost_time:434ms lr=4.7904e-05 total_loss:2.8666\n",
      "global_steps:13 epoch:1 steps:13/5011 cls_loss:1.2077 cnt_loss:0.6686 reg_loss:0.9998 cost_time:400ms lr=5.1896e-05 total_loss:2.8761\n",
      "global_steps:14 epoch:1 steps:14/5011 cls_loss:1.1993 cnt_loss:0.6738 reg_loss:1.0000 cost_time:385ms lr=5.5888e-05 total_loss:2.8732\n",
      "global_steps:15 epoch:1 steps:15/5011 cls_loss:1.1539 cnt_loss:0.6075 reg_loss:0.9999 cost_time:391ms lr=5.9880e-05 total_loss:2.7614\n",
      "global_steps:16 epoch:1 steps:16/5011 cls_loss:1.1663 cnt_loss:0.6281 reg_loss:0.9999 cost_time:389ms lr=6.3872e-05 total_loss:2.7943\n",
      "global_steps:17 epoch:1 steps:17/5011 cls_loss:1.1126 cnt_loss:0.6198 reg_loss:1.0000 cost_time:425ms lr=6.7864e-05 total_loss:2.7325\n",
      "global_steps:18 epoch:1 steps:18/5011 cls_loss:1.2072 cnt_loss:0.6251 reg_loss:1.0000 cost_time:345ms lr=7.1856e-05 total_loss:2.8322\n",
      "global_steps:19 epoch:1 steps:19/5011 cls_loss:1.1957 cnt_loss:0.6740 reg_loss:0.9999 cost_time:360ms lr=7.5848e-05 total_loss:2.8696\n",
      "global_steps:20 epoch:1 steps:20/5011 cls_loss:1.2434 cnt_loss:0.7126 reg_loss:1.0000 cost_time:335ms lr=7.9840e-05 total_loss:2.9559\n",
      "global_steps:21 epoch:1 steps:21/5011 cls_loss:1.1556 cnt_loss:0.6525 reg_loss:1.0000 cost_time:454ms lr=8.3832e-05 total_loss:2.8081\n",
      "global_steps:22 epoch:1 steps:22/5011 cls_loss:1.0314 cnt_loss:1.3007 reg_loss:0.9975 cost_time:392ms lr=8.7824e-05 total_loss:3.3296\n",
      "global_steps:23 epoch:1 steps:23/5011 cls_loss:1.1538 cnt_loss:0.5994 reg_loss:1.0000 cost_time:398ms lr=9.1816e-05 total_loss:2.7532\n",
      "global_steps:24 epoch:1 steps:24/5011 cls_loss:0.9769 cnt_loss:0.6365 reg_loss:1.0000 cost_time:377ms lr=9.5808e-05 total_loss:2.6134\n",
      "global_steps:25 epoch:1 steps:25/5011 cls_loss:2.1150 cnt_loss:0.0000 reg_loss:0.0000 cost_time:400ms lr=9.9800e-05 total_loss:2.1150\n",
      "global_steps:26 epoch:1 steps:26/5011 cls_loss:1.0423 cnt_loss:0.6545 reg_loss:0.9991 cost_time:405ms lr=1.0379e-04 total_loss:2.6960\n",
      "global_steps:27 epoch:1 steps:27/5011 cls_loss:1.1274 cnt_loss:0.6251 reg_loss:1.0000 cost_time:433ms lr=1.0778e-04 total_loss:2.7525\n",
      "global_steps:28 epoch:1 steps:28/5011 cls_loss:1.1401 cnt_loss:0.6326 reg_loss:1.0000 cost_time:352ms lr=1.1178e-04 total_loss:2.7727\n",
      "global_steps:29 epoch:1 steps:29/5011 cls_loss:1.2135 cnt_loss:0.6609 reg_loss:0.9999 cost_time:455ms lr=1.1577e-04 total_loss:2.8743\n",
      "global_steps:30 epoch:1 steps:30/5011 cls_loss:1.2178 cnt_loss:0.0000 reg_loss:0.0000 cost_time:366ms lr=1.1976e-04 total_loss:1.2178\n",
      "global_steps:31 epoch:1 steps:31/5011 cls_loss:1.4475 cnt_loss:0.6670 reg_loss:1.0000 cost_time:379ms lr=1.2375e-04 total_loss:3.1144\n",
      "global_steps:32 epoch:1 steps:32/5011 cls_loss:1.1996 cnt_loss:0.6518 reg_loss:1.0000 cost_time:365ms lr=1.2774e-04 total_loss:2.8514\n",
      "global_steps:33 epoch:1 steps:33/5011 cls_loss:1.1264 cnt_loss:0.6493 reg_loss:1.0000 cost_time:359ms lr=1.3174e-04 total_loss:2.7756\n",
      "global_steps:34 epoch:1 steps:34/5011 cls_loss:1.2872 cnt_loss:0.6268 reg_loss:0.9999 cost_time:399ms lr=1.3573e-04 total_loss:2.9139\n",
      "global_steps:35 epoch:1 steps:35/5011 cls_loss:1.5321 cnt_loss:0.6934 reg_loss:1.0000 cost_time:419ms lr=1.3972e-04 total_loss:3.2255\n",
      "global_steps:36 epoch:1 steps:36/5011 cls_loss:1.2483 cnt_loss:0.6374 reg_loss:1.0000 cost_time:341ms lr=1.4371e-04 total_loss:2.8857\n",
      "global_steps:37 epoch:1 steps:37/5011 cls_loss:1.1977 cnt_loss:0.6667 reg_loss:0.9998 cost_time:400ms lr=1.4770e-04 total_loss:2.8642\n",
      "global_steps:38 epoch:1 steps:38/5011 cls_loss:1.2123 cnt_loss:0.6796 reg_loss:1.0000 cost_time:436ms lr=1.5170e-04 total_loss:2.8919\n",
      "global_steps:39 epoch:1 steps:39/5011 cls_loss:1.1701 cnt_loss:0.7047 reg_loss:1.0000 cost_time:392ms lr=1.5569e-04 total_loss:2.8747\n",
      "global_steps:40 epoch:1 steps:40/5011 cls_loss:1.2380 cnt_loss:0.7142 reg_loss:0.9998 cost_time:399ms lr=1.5968e-04 total_loss:2.9520\n",
      "global_steps:41 epoch:1 steps:41/5011 cls_loss:1.1773 cnt_loss:0.6678 reg_loss:1.0000 cost_time:452ms lr=1.6367e-04 total_loss:2.8451\n",
      "global_steps:42 epoch:1 steps:42/5011 cls_loss:1.9511 cnt_loss:0.6751 reg_loss:0.9995 cost_time:380ms lr=1.6766e-04 total_loss:3.6257\n",
      "global_steps:43 epoch:1 steps:43/5011 cls_loss:1.3772 cnt_loss:0.6501 reg_loss:0.9997 cost_time:396ms lr=1.7166e-04 total_loss:3.0270\n",
      "global_steps:44 epoch:1 steps:44/5011 cls_loss:1.4159 cnt_loss:0.6918 reg_loss:0.9999 cost_time:410ms lr=1.7565e-04 total_loss:3.1075\n",
      "global_steps:45 epoch:1 steps:45/5011 cls_loss:1.0910 cnt_loss:0.6536 reg_loss:1.0000 cost_time:384ms lr=1.7964e-04 total_loss:2.7446\n",
      "global_steps:46 epoch:1 steps:46/5011 cls_loss:1.2870 cnt_loss:0.6606 reg_loss:0.9999 cost_time:384ms lr=1.8363e-04 total_loss:2.9476\n",
      "global_steps:47 epoch:1 steps:47/5011 cls_loss:1.0911 cnt_loss:0.6756 reg_loss:1.0000 cost_time:387ms lr=1.8762e-04 total_loss:2.7666\n",
      "global_steps:48 epoch:1 steps:48/5011 cls_loss:1.3299 cnt_loss:0.6999 reg_loss:0.9999 cost_time:460ms lr=1.9162e-04 total_loss:3.0296\n",
      "global_steps:49 epoch:1 steps:49/5011 cls_loss:0.9962 cnt_loss:0.6315 reg_loss:1.0000 cost_time:358ms lr=1.9561e-04 total_loss:2.6276\n",
      "global_steps:50 epoch:1 steps:50/5011 cls_loss:1.1433 cnt_loss:0.7259 reg_loss:0.9991 cost_time:449ms lr=1.9960e-04 total_loss:2.8683\n",
      "global_steps:51 epoch:1 steps:51/5011 cls_loss:0.9733 cnt_loss:0.6674 reg_loss:0.9999 cost_time:432ms lr=2.0359e-04 total_loss:2.6406\n",
      "global_steps:52 epoch:1 steps:52/5011 cls_loss:0.9808 cnt_loss:0.7168 reg_loss:0.9996 cost_time:402ms lr=2.0758e-04 total_loss:2.6972\n",
      "global_steps:53 epoch:1 steps:53/5011 cls_loss:1.1473 cnt_loss:0.6425 reg_loss:1.0000 cost_time:376ms lr=2.1158e-04 total_loss:2.7898\n",
      "global_steps:54 epoch:1 steps:54/5011 cls_loss:0.8109 cnt_loss:0.6301 reg_loss:1.0000 cost_time:340ms lr=2.1557e-04 total_loss:2.4410\n",
      "global_steps:55 epoch:1 steps:55/5011 cls_loss:1.2153 cnt_loss:0.6145 reg_loss:1.0000 cost_time:427ms lr=2.1956e-04 total_loss:2.8298\n",
      "global_steps:56 epoch:1 steps:56/5011 cls_loss:1.0521 cnt_loss:0.6312 reg_loss:1.0000 cost_time:437ms lr=2.2355e-04 total_loss:2.6833\n",
      "global_steps:57 epoch:1 steps:57/5011 cls_loss:1.0705 cnt_loss:0.5877 reg_loss:1.0000 cost_time:429ms lr=2.2754e-04 total_loss:2.6582\n",
      "global_steps:58 epoch:1 steps:58/5011 cls_loss:0.9707 cnt_loss:0.7092 reg_loss:0.9999 cost_time:412ms lr=2.3154e-04 total_loss:2.6798\n",
      "global_steps:59 epoch:1 steps:59/5011 cls_loss:0.8336 cnt_loss:0.6977 reg_loss:0.9999 cost_time:400ms lr=2.3553e-04 total_loss:2.5312\n",
      "global_steps:60 epoch:1 steps:60/5011 cls_loss:0.8256 cnt_loss:0.6187 reg_loss:0.9999 cost_time:398ms lr=2.3952e-04 total_loss:2.4442\n",
      "global_steps:61 epoch:1 steps:61/5011 cls_loss:0.8106 cnt_loss:0.7362 reg_loss:1.0000 cost_time:339ms lr=2.4351e-04 total_loss:2.5467\n",
      "global_steps:62 epoch:1 steps:62/5011 cls_loss:1.1971 cnt_loss:0.6992 reg_loss:0.9999 cost_time:454ms lr=2.4750e-04 total_loss:2.8961\n"
     ]
    }
   ],
   "source": [
    "for epoch in range(EPOCHS):  # 分轮次，，，\n",
    "    for epoch_step, data in enumerate(train_loader):  # ，，，分批次 开始训练\n",
    "        \n",
    "        # ============================== 拿到批次数据 =========================\n",
    "        batch_imgs, batch_boxes, batch_classes = data\n",
    "        batch_imgs = batch_imgs.cuda()\n",
    "        batch_boxes = batch_boxes.cuda()\n",
    "        batch_classes = batch_classes.cuda()\n",
    "        # =====================================================================\n",
    "        \n",
    "        \n",
    "        # ================================ 学习率调整 =========================\n",
    "        # 在warm up阶段线性增加学习率\n",
    "        if GLOBAL_STEPS < WARMPUP_STEPS:\n",
    "            lr = float(GLOBAL_STEPS / WARMPUP_STEPS * LR_INIT)\n",
    "            for param in optimizer.param_groups:\n",
    "                param['lr'] = lr\n",
    "        # 训练进展到百分之70%的时候降一次学习率\n",
    "        if GLOBAL_STEPS == int(TOTAL_STEPS*0.7):\n",
    "            lr = LR_INIT * 0.1\n",
    "            for param in optimizer.param_groups:\n",
    "                param['lr'] = lr\n",
    "        # 训练进展到百分之90%的时候降一次学习率\n",
    "        if GLOBAL_STEPS == int(TOTAL_STEPS*0.9):\n",
    "            lr = LR_INIT * 0.01\n",
    "            for param in optimizer.param_groups:\n",
    "                param['lr'] = lr       \n",
    "        # ===================================================================   \n",
    "        \n",
    "        # ============================ 网络参数更新 =========================\n",
    "        start_time = time.time()\n",
    "        # 1 梯度清理\n",
    "        optimizer.zero_grad()\n",
    "        # 2 损失计算\n",
    "        losses = model([batch_imgs, batch_boxes, batch_classes])\n",
    "        loss = losses[-1]\n",
    "        # 损失先在batch内进行平均，再回传\n",
    "        loss.mean().backward()\n",
    "        # 3 梯度回传更新网络参数\n",
    "        optimizer.step()\n",
    "        # =================================================================\n",
    "        \n",
    "        \n",
    "        # ============================ 显示训练信息 =========================\n",
    "        end_time = time.time()\n",
    "        cost_time = int((end_time - start_time) * 1000)\n",
    "        if GLOBAL_STEPS%50 == 0:\n",
    "            print(\n",
    "                \"global_steps:%d epoch:%d steps:%d/%d cls_loss:%.4f cnt_loss:%.4f reg_loss:%.4f cost_time:%dms lr=%.4e total_loss:%.4f\" % \\\n",
    "                (GLOBAL_STEPS, epoch + 1, epoch_step + 1, steps_per_epoch, losses[0].mean(), losses[1].mean(),\n",
    "                 losses[2].mean(), cost_time, lr, loss.mean()))\n",
    "\n",
    "        GLOBAL_STEPS += 1\n",
    "        # ==================================================================\n",
    "    torch.save(model.state_dict(),\n",
    "        os.path.join(output_dir, \"model_{}.pth\".format(epoch + 1)))"
   ]
  },
  {
   "cell_type": "code",
   "execution_count": null,
   "metadata": {},
   "outputs": [],
   "source": []
  }
 ],
 "metadata": {
  "hide_input": false,
  "kernelspec": {
   "display_name": "Python 3",
   "language": "python",
   "name": "python3"
  },
  "language_info": {
   "codemirror_mode": {
    "name": "ipython",
    "version": 3
   },
   "file_extension": ".py",
   "mimetype": "text/x-python",
   "name": "python",
   "nbconvert_exporter": "python",
   "pygments_lexer": "ipython3",
   "version": "3.7.9"
  },
  "toc": {
   "base_numbering": 1,
   "nav_menu": {},
   "number_sections": true,
   "sideBar": true,
   "skip_h1_title": true,
   "title_cell": "Table of Contents",
   "title_sidebar": "Contents",
   "toc_cell": false,
   "toc_position": {
    "height": "calc(100% - 180px)",
    "left": "10px",
    "top": "150px",
    "width": "165px"
   },
   "toc_section_display": true,
   "toc_window_display": true
  },
  "varInspector": {
   "cols": {
    "lenName": 16,
    "lenType": 16,
    "lenVar": 40
   },
   "kernels_config": {
    "python": {
     "delete_cmd_postfix": "",
     "delete_cmd_prefix": "del ",
     "library": "var_list.py",
     "varRefreshCmd": "print(var_dic_list())"
    },
    "r": {
     "delete_cmd_postfix": ") ",
     "delete_cmd_prefix": "rm(",
     "library": "var_list.r",
     "varRefreshCmd": "cat(var_dic_list()) "
    }
   },
   "types_to_exclude": [
    "module",
    "function",
    "builtin_function_or_method",
    "instance",
    "_Feature"
   ],
   "window_display": false
  }
 },
 "nbformat": 4,
 "nbformat_minor": 4
}
