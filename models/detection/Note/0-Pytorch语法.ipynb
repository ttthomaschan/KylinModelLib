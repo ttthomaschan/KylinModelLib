{
 "cells": [
  {
   "cell_type": "markdown",
   "metadata": {},
   "source": [
    "# Pytorch语法"
   ]
  },
  {
   "cell_type": "code",
   "execution_count": 1,
   "metadata": {},
   "outputs": [],
   "source": [
    "import torch\n",
    "import torch.nn as nn\n",
    "import torch.nn.functional as F\n",
    "import math\n",
    "import matplotlib.pyplot as plt"
   ]
  },
  {
   "cell_type": "markdown",
   "metadata": {},
   "source": [
    "## TENSOR"
   ]
  },
  {
   "cell_type": "markdown",
   "metadata": {},
   "source": [
    "### torch.tensor.type()\n",
    "**查看张量类型：**tensor.dtype\n",
    "\n",
    "**张量类型转换：**tensor.type()"
   ]
  },
  {
   "cell_type": "code",
   "execution_count": 2,
   "metadata": {},
   "outputs": [
    {
     "name": "stdout",
     "output_type": "stream",
     "text": [
      "tensor([[0.8731, 0.0413, 0.3893, 0.2937],\n",
      "        [0.6656, 0.4881, 0.0244, 0.1615]])\n",
      "torch.float32\n"
     ]
    }
   ],
   "source": [
    "tensor = torch.rand((2,4))\n",
    "print(tensor)\n",
    "print(tensor.dtype)"
   ]
  },
  {
   "cell_type": "code",
   "execution_count": 3,
   "metadata": {},
   "outputs": [
    {
     "name": "stdout",
     "output_type": "stream",
     "text": [
      "tensor([[0.8731, 0.0413, 0.3893, 0.2937],\n",
      "        [0.6656, 0.4881, 0.0244, 0.1615]], dtype=torch.float64)\n",
      "torch.float64\n"
     ]
    }
   ],
   "source": [
    "tensor = tensor.type(torch.float64)\n",
    "print(tensor)\n",
    "print(tensor.dtype)"
   ]
  },
  {
   "cell_type": "markdown",
   "metadata": {},
   "source": [
    "### torch.from_numpy()\n",
    "将numpy格式数据转换成torch.tensor\n",
    ">torch.numpy() ：将tensor转换成numpy数据"
   ]
  },
  {
   "cell_type": "code",
   "execution_count": 5,
   "metadata": {},
   "outputs": [
    {
     "data": {
      "text/plain": [
       "array([[0, 1, 2],\n",
       "       [3, 4, 5]])"
      ]
     },
     "execution_count": 5,
     "metadata": {},
     "output_type": "execute_result"
    }
   ],
   "source": [
    "import numpy as np\n",
    "# numpy的array与torch的tensor的转换\n",
    "np_data = np.arange(6).reshape((2, 3))\n",
    "np_data"
   ]
  },
  {
   "cell_type": "code",
   "execution_count": 16,
   "metadata": {},
   "outputs": [
    {
     "name": "stdout",
     "output_type": "stream",
     "text": [
      "torch.Size([2, 3])\n",
      "torch.Size([2, 3])\n"
     ]
    },
    {
     "data": {
      "text/plain": [
       "tensor([[0, 1, 2],\n",
       "        [3, 4, 5]])"
      ]
     },
     "execution_count": 16,
     "metadata": {},
     "output_type": "execute_result"
    }
   ],
   "source": [
    "torch_data = torch.from_numpy(np_data)\n",
    "print(torch_data.shape)\n",
    "print(torch_data.size())\n",
    "torch_data"
   ]
  },
  {
   "cell_type": "code",
   "execution_count": 11,
   "metadata": {},
   "outputs": [
    {
     "name": "stdout",
     "output_type": "stream",
     "text": [
      "<class 'numpy.ndarray'>\n",
      "6\n",
      "(2, 3)\n"
     ]
    },
    {
     "data": {
      "text/plain": [
       "array([[0, 1, 2],\n",
       "       [3, 4, 5]])"
      ]
     },
     "execution_count": 11,
     "metadata": {},
     "output_type": "execute_result"
    }
   ],
   "source": [
    "tensor2array = torch_data.numpy() \n",
    "print(type(tensor2array))\n",
    "print(tensor2array.size)\n",
    "print(tensor2array.shape)\n",
    "tensor2array"
   ]
  },
  {
   "cell_type": "code",
   "execution_count": null,
   "metadata": {},
   "outputs": [],
   "source": []
  },
  {
   "cell_type": "markdown",
   "metadata": {},
   "source": [
    "### torch.permute()\n",
    "改变张量轴的顺序"
   ]
  },
  {
   "cell_type": "code",
   "execution_count": 17,
   "metadata": {},
   "outputs": [
    {
     "name": "stdout",
     "output_type": "stream",
     "text": [
      "<class 'torch.Tensor'>\n",
      "torch.Size([2, 3, 5])\n",
      "torch.Size([5, 2, 3])\n"
     ]
    }
   ],
   "source": [
    "x = torch.randn(2, 3, 5)\n",
    "print(type(x))\n",
    "print(x.size())\n",
    "print(x.permute(2, 0, 1).size())"
   ]
  },
  {
   "cell_type": "markdown",
   "metadata": {},
   "source": [
    "### torch.reshape()\n",
    "调整张量形状"
   ]
  },
  {
   "cell_type": "code",
   "execution_count": 11,
   "metadata": {},
   "outputs": [
    {
     "data": {
      "text/plain": [
       "tensor([[[-1.5623,  1.5738, -0.0117, -0.4112,  0.6413],\n",
       "         [ 0.7338, -0.8092, -0.7477, -0.0963,  0.7245]],\n",
       "\n",
       "        [[-0.2340, -1.5358,  0.4822,  0.7625,  0.6357],\n",
       "         [ 0.4128, -0.5038, -0.4117, -0.8000,  0.0706]],\n",
       "\n",
       "        [[-0.8159,  0.6847,  0.1068, -1.2137,  0.3526],\n",
       "         [-0.9043,  0.3554,  0.6052, -0.8652,  1.0381]]])"
      ]
     },
     "execution_count": 11,
     "metadata": {},
     "output_type": "execute_result"
    }
   ],
   "source": [
    "x = torch.randn(2, 3, 5)\n",
    "x.reshape(3,2,5)"
   ]
  },
  {
   "cell_type": "code",
   "execution_count": 20,
   "metadata": {},
   "outputs": [
    {
     "data": {
      "text/plain": [
       "torch.Size([30])"
      ]
     },
     "execution_count": 20,
     "metadata": {},
     "output_type": "execute_result"
    }
   ],
   "source": [
    "x.size()"
   ]
  },
  {
   "cell_type": "code",
   "execution_count": 21,
   "metadata": {},
   "outputs": [
    {
     "data": {
      "text/plain": [
       "torch.Size([30])"
      ]
     },
     "execution_count": 21,
     "metadata": {},
     "output_type": "execute_result"
    }
   ],
   "source": [
    "x = x.reshape(-1)  # 将x拉成一列\n",
    "x.size()"
   ]
  },
  {
   "cell_type": "markdown",
   "metadata": {},
   "source": [
    "### [torch.arange()](https://pytorch.org/docs/stable/generated/torch.arange.html)\n",
    "生成张量序列"
   ]
  },
  {
   "cell_type": "code",
   "execution_count": 22,
   "metadata": {},
   "outputs": [
    {
     "data": {
      "text/plain": [
       "tensor([0, 1, 2, 3, 4])"
      ]
     },
     "execution_count": 22,
     "metadata": {},
     "output_type": "execute_result"
    }
   ],
   "source": [
    "torch.arange(5)"
   ]
  },
  {
   "cell_type": "code",
   "execution_count": 23,
   "metadata": {},
   "outputs": [
    {
     "data": {
      "text/plain": [
       "tensor([0., 2., 4., 6., 8.])"
      ]
     },
     "execution_count": 23,
     "metadata": {},
     "output_type": "execute_result"
    }
   ],
   "source": [
    "torch.arange(0, 5 * 2, 2, dtype=torch.float32)"
   ]
  },
  {
   "cell_type": "markdown",
   "metadata": {},
   "source": [
    "### [torch.stack()](https://blog.csdn.net/xinjieyuan/article/details/105205326)\n",
    ">torch.stack(tensors, dim=0, out=None) → Tensor\n",
    "\n",
    "Concatenates sequence of tensors along a new dimension.  All tensors need to be of the same size."
   ]
  },
  {
   "cell_type": "code",
   "execution_count": 25,
   "metadata": {},
   "outputs": [],
   "source": [
    "# 假设是时间步T1\n",
    "T1 = torch.tensor([[1, 2, 3],\n",
    "                [4, 5, 6],\n",
    "                [7, 8, 9]])\n",
    "# 假设是时间步T2\n",
    "T2 = torch.tensor([[10, 20, 30],\n",
    "                [40, 50, 60],\n",
    "                [70, 80, 90]])"
   ]
  },
  {
   "cell_type": "code",
   "execution_count": 26,
   "metadata": {},
   "outputs": [
    {
     "data": {
      "text/plain": [
       "tensor([[[ 1,  2,  3],\n",
       "         [ 4,  5,  6],\n",
       "         [ 7,  8,  9]],\n",
       "\n",
       "        [[10, 20, 30],\n",
       "         [40, 50, 60],\n",
       "         [70, 80, 90]]])"
      ]
     },
     "execution_count": 26,
     "metadata": {},
     "output_type": "execute_result"
    }
   ],
   "source": [
    "torch.stack((T1,T2),dim=0)"
   ]
  },
  {
   "cell_type": "code",
   "execution_count": 27,
   "metadata": {},
   "outputs": [
    {
     "name": "stdout",
     "output_type": "stream",
     "text": [
      "torch.Size([2, 3, 3])\n"
     ]
    }
   ],
   "source": [
    "print(torch.stack((T1,T2),dim=0).shape)"
   ]
  },
  {
   "cell_type": "code",
   "execution_count": 28,
   "metadata": {},
   "outputs": [
    {
     "data": {
      "text/plain": [
       "tensor([[[ 1, 10],\n",
       "         [ 2, 20],\n",
       "         [ 3, 30]],\n",
       "\n",
       "        [[ 4, 40],\n",
       "         [ 5, 50],\n",
       "         [ 6, 60]],\n",
       "\n",
       "        [[ 7, 70],\n",
       "         [ 8, 80],\n",
       "         [ 9, 90]]])"
      ]
     },
     "execution_count": 28,
     "metadata": {},
     "output_type": "execute_result"
    }
   ],
   "source": [
    "torch.stack((T1,T2),dim=-1)"
   ]
  },
  {
   "cell_type": "code",
   "execution_count": 29,
   "metadata": {},
   "outputs": [
    {
     "name": "stdout",
     "output_type": "stream",
     "text": [
      "torch.Size([3, 3, 2])\n"
     ]
    }
   ],
   "source": [
    "print(torch.stack((T1,T2),dim=-1).shape)"
   ]
  },
  {
   "cell_type": "markdown",
   "metadata": {},
   "source": [
    "### [torch.cat()](https://pytorch.org/docs/stable/generated/torch.cat.html)\n",
    ">torch.cat(tensors, dim=0, out=None) → Tensor\n",
    "\n",
    "Concatenates the given sequence of seq tensors in the given dimension. All tensors must either have the same shape (except in the concatenating dimension) or be empty."
   ]
  },
  {
   "cell_type": "code",
   "execution_count": 30,
   "metadata": {},
   "outputs": [
    {
     "data": {
      "text/plain": [
       "tensor([[ 1,  2,  3, 10, 20, 30],\n",
       "        [ 4,  5,  6, 40, 50, 60],\n",
       "        [ 7,  8,  9, 70, 80, 90]])"
      ]
     },
     "execution_count": 30,
     "metadata": {},
     "output_type": "execute_result"
    }
   ],
   "source": [
    "torch.cat((T1,T2),dim=1)"
   ]
  },
  {
   "cell_type": "code",
   "execution_count": 31,
   "metadata": {},
   "outputs": [
    {
     "data": {
      "text/plain": [
       "tensor([[ 1,  2,  3],\n",
       "        [ 4,  5,  6],\n",
       "        [ 7,  8,  9],\n",
       "        [10, 20, 30],\n",
       "        [40, 50, 60],\n",
       "        [70, 80, 90]])"
      ]
     },
     "execution_count": 31,
     "metadata": {},
     "output_type": "execute_result"
    }
   ],
   "source": [
    "torch.cat((T1,T2),dim=0)"
   ]
  },
  {
   "cell_type": "markdown",
   "metadata": {},
   "source": [
    "### torch.meshgrid()\n",
    "生成网格，可以用于生成坐标。"
   ]
  },
  {
   "cell_type": "code",
   "execution_count": 32,
   "metadata": {},
   "outputs": [
    {
     "name": "stdout",
     "output_type": "stream",
     "text": [
      "tensor([1, 2, 3, 4])\n",
      "tensor([4, 5, 6])\n"
     ]
    }
   ],
   "source": [
    "a = torch.tensor([1, 2, 3, 4])\n",
    "print(a)\n",
    "b = torch.tensor([4, 5, 6])\n",
    "print(b)"
   ]
  },
  {
   "cell_type": "code",
   "execution_count": 39,
   "metadata": {},
   "outputs": [
    {
     "name": "stdout",
     "output_type": "stream",
     "text": [
      "tensor([[1, 1, 1],\n",
      "        [2, 2, 2],\n",
      "        [3, 3, 3],\n",
      "        [4, 4, 4]])\n",
      "tensor([[4, 5, 6],\n",
      "        [4, 5, 6],\n",
      "        [4, 5, 6],\n",
      "        [4, 5, 6]])\n"
     ]
    }
   ],
   "source": [
    "x, y = torch.meshgrid(a, b) # 相当于排列组合，生成坐标点\n",
    "print(x)\n",
    "print(y)"
   ]
  },
  {
   "cell_type": "code",
   "execution_count": 40,
   "metadata": {},
   "outputs": [
    {
     "data": {
      "text/plain": [
       "<matplotlib.collections.PathCollection at 0x7f455c400110>"
      ]
     },
     "execution_count": 40,
     "metadata": {},
     "output_type": "execute_result"
    },
    {
     "data": {
      "image/png": "[encoded data removed]",
      "text/plain": [
       "<Figure size 288x288 with 1 Axes>"
      ]
     },
     "metadata": {
      "needs_background": "light"
     },
     "output_type": "display_data"
    }
   ],
   "source": [
    "plt.figure(figsize=(4,4))\n",
    "plt.scatter(x, y)"
   ]
  },
  {
   "cell_type": "code",
   "execution_count": 35,
   "metadata": {},
   "outputs": [],
   "source": [
    "def coords_fmap2orig(feature, stride=16):  # 特征图上的grid对应于原图的位置\n",
    "    h, w = feature.shape[1:3]  \n",
    "    # h, w = 8, 8 # 为演示方便，我们使用尺寸为（4，4）的特征图\n",
    "    shifts_x = torch.arange(0, w * stride, stride, dtype=torch.float32)\n",
    "    shifts_y = torch.arange(0, h * stride, stride, dtype=torch.float32)\n",
    "    shift_y, shift_x = torch.meshgrid(shifts_y, shifts_x)\n",
    "    shift_x = torch.reshape(shift_x, [-1])\n",
    "    shift_y = torch.reshape(shift_y, [-1])\n",
    "    coords = torch.stack([shift_x, shift_y], -1) + (stride // 2)  # 中心点偏置\n",
    "    # 可视化一下，看看\n",
    "    plt.figure(figsize=(6,6))\n",
    "    plt.scatter(coords[:,0], coords[:,1])\n",
    "    # plt.savefig('grid.png')\n",
    "    return coords"
   ]
  },
  {
   "cell_type": "code",
   "execution_count": 36,
   "metadata": {},
   "outputs": [
    {
     "data": {
      "text/plain": [
       "tensor([[ 8.,  8.],\n",
       "        [24.,  8.],\n",
       "        [40.,  8.],\n",
       "        [56.,  8.],\n",
       "        [ 8., 24.],\n",
       "        [24., 24.],\n",
       "        [40., 24.],\n",
       "        [56., 24.],\n",
       "        [ 8., 40.],\n",
       "        [24., 40.],\n",
       "        [40., 40.],\n",
       "        [56., 40.],\n",
       "        [ 8., 56.],\n",
       "        [24., 56.],\n",
       "        [40., 56.],\n",
       "        [56., 56.]])"
      ]
     },
     "execution_count": 36,
     "metadata": {},
     "output_type": "execute_result"
    },
    {
     "data": {
      "image/png": "[encoded data removed]",
      "text/plain": [
       "<Figure size 432x432 with 1 Axes>"
      ]
     },
     "metadata": {
      "needs_background": "light"
     },
     "output_type": "display_data"
    }
   ],
   "source": [
    "feature = torch.rand((2,4,4))\n",
    "coords = coords_fmap2orig(feature)\n",
    "coords"
   ]
  },
  {
   "cell_type": "markdown",
   "metadata": {},
   "source": [
    "### [None] for Dimension\n",
    "用于增加张量维度"
   ]
  },
  {
   "cell_type": "code",
   "execution_count": 37,
   "metadata": {
    "hide_input": false,
    "scrolled": true
   },
   "outputs": [
    {
     "data": {
      "text/plain": [
       "tensor([0, 1, 2, 3, 4, 5, 6, 7, 8, 9], dtype=torch.int32)"
      ]
     },
     "execution_count": 37,
     "metadata": {},
     "output_type": "execute_result"
    }
   ],
   "source": [
    "x = torch.arange(10,dtype=torch.int32)\n",
    "x"
   ]
  },
  {
   "cell_type": "code",
   "execution_count": 38,
   "metadata": {
    "hide_input": false,
    "scrolled": true
   },
   "outputs": [
    {
     "name": "stdout",
     "output_type": "stream",
     "text": [
      "torch.Size([1, 10, 1])\n"
     ]
    },
    {
     "data": {
      "text/plain": [
       "tensor([[[0],\n",
       "         [1],\n",
       "         [2],\n",
       "         [3],\n",
       "         [4],\n",
       "         [5],\n",
       "         [6],\n",
       "         [7],\n",
       "         [8],\n",
       "         [9]]], dtype=torch.int32)"
      ]
     },
     "execution_count": 38,
     "metadata": {},
     "output_type": "execute_result"
    }
   ],
   "source": [
    "print(x[None, :, None].shape)\n",
    "x[None, :, None]  # None 用于增加维度 相当于把数据都放到行维度上 "
   ]
  },
  {
   "cell_type": "code",
   "execution_count": 44,
   "metadata": {
    "hide_input": false,
    "scrolled": true
   },
   "outputs": [
    {
     "name": "stdout",
     "output_type": "stream",
     "text": [
      "torch.Size([1, 2])\n",
      "torch.int64\n"
     ]
    },
    {
     "data": {
      "text/plain": [
       "tensor([[10, 20]])"
      ]
     },
     "execution_count": 44,
     "metadata": {},
     "output_type": "execute_result"
    }
   ],
   "source": [
    "y = torch.from_numpy(\n",
    "    np.array([[[10, 12, 48, 60],\n",
    "               [20, 20, 40, 50]]])\n",
    "    )\n",
    "\n",
    "print(y[..., 0].shape)\n",
    "print(y.dtype)\n",
    "y[..., 0]  # 取第一列  所有gt框的xmin"
   ]
  },
  {
   "cell_type": "code",
   "execution_count": 45,
   "metadata": {
    "hide_input": false
   },
   "outputs": [
    {
     "name": "stdout",
     "output_type": "stream",
     "text": [
      "torch.Size([1, 1, 2])\n"
     ]
    },
    {
     "data": {
      "text/plain": [
       "tensor([[[10, 20]]])"
      ]
     },
     "execution_count": 45,
     "metadata": {},
     "output_type": "execute_result"
    }
   ],
   "source": [
    "print(y[..., 0][:, None, :].shape)\n",
    "y[..., 0][:, None, :]  #  增加维度"
   ]
  },
  {
   "cell_type": "code",
   "execution_count": 46,
   "metadata": {
    "hide_input": true
   },
   "outputs": [
    {
     "ename": "RuntimeError",
     "evalue": "The size of tensor a (3) must match the size of tensor b (2) at non-singleton dimension 3",
     "output_type": "error",
     "traceback": [
      "\u001b[0;31m---------------------------------------------------------------------------\u001b[0m",
      "\u001b[0;31mRuntimeError\u001b[0m                              Traceback (most recent call last)",
      "\u001b[0;32m<ipython-input-46-8ca8e24365b0>\u001b[0m in \u001b[0;36m<module>\u001b[0;34m()\u001b[0m\n\u001b[1;32m      1\u001b[0m \u001b[0;31m# [1,10,1]-[1,1,2]-->[1, 10, 2]\u001b[0m\u001b[0;34m\u001b[0m\u001b[0;34m\u001b[0m\u001b[0;34m\u001b[0m\u001b[0m\n\u001b[0;32m----> 2\u001b[0;31m \u001b[0moff\u001b[0m \u001b[0;34m=\u001b[0m \u001b[0mx\u001b[0m\u001b[0;34m[\u001b[0m\u001b[0;32mNone\u001b[0m\u001b[0;34m,\u001b[0m \u001b[0;34m:\u001b[0m\u001b[0;34m,\u001b[0m \u001b[0;32mNone\u001b[0m\u001b[0;34m]\u001b[0m \u001b[0;34m-\u001b[0m \u001b[0my\u001b[0m\u001b[0;34m[\u001b[0m\u001b[0;34m...\u001b[0m\u001b[0;34m,\u001b[0m \u001b[0;36m0\u001b[0m\u001b[0;34m]\u001b[0m\u001b[0;34m[\u001b[0m\u001b[0;34m:\u001b[0m\u001b[0;34m,\u001b[0m \u001b[0;32mNone\u001b[0m\u001b[0;34m,\u001b[0m \u001b[0;34m:\u001b[0m\u001b[0;34m]\u001b[0m   \u001b[0;31m# None 增加维度用的\u001b[0m\u001b[0;34m\u001b[0m\u001b[0;34m\u001b[0m\u001b[0m\n\u001b[0m\u001b[1;32m      3\u001b[0m \u001b[0moff\u001b[0m\u001b[0;34m\u001b[0m\u001b[0;34m\u001b[0m\u001b[0m\n",
      "\u001b[0;31mRuntimeError\u001b[0m: The size of tensor a (3) must match the size of tensor b (2) at non-singleton dimension 3"
     ]
    }
   ],
   "source": [
    "# [1,10,1]-[1,1,2]-->[1, 10, 2]\n",
    "off = x[None, :, None] - y[..., 0][:, None, :]   # None 增加维度用的\n",
    "off"
   ]
  },
  {
   "cell_type": "markdown",
   "metadata": {},
   "source": [
    "### [torch.sum（）](https://blog.csdn.net/weixin_45281949/article/details/103282148?utm_medium=distribute.pc_relevant.none-task-blog-BlogCommendFromMachineLearnPai2-1.channel_param&depth_1-utm_source=distribute.pc_relevant.none-task-blog-BlogCommendFromMachineLearnPai2-1.channel_param)\n",
    "\n",
    "张量求和函数"
   ]
  },
  {
   "cell_type": "code",
   "execution_count": 47,
   "metadata": {},
   "outputs": [
    {
     "name": "stdout",
     "output_type": "stream",
     "text": [
      "torch.Size([3, 2, 5])\n"
     ]
    }
   ],
   "source": [
    "a = torch.tensor([[[1,2,3,1,2],\n",
    "                   [4,5,6,3,4]],\n",
    "                  \n",
    "                  [[7,8,9,2,3],\n",
    "                   [1,1,2,1,2]],\n",
    "                  \n",
    "                  [[7,8,9,2,3],\n",
    "                   [1,1,2,1,2]]])\n",
    "print(a.size())"
   ]
  },
  {
   "cell_type": "markdown",
   "metadata": {},
   "source": [
    "<img src=\"imgs/3-axis_front.png\" width=\"300\" height=\"400\" align=\"bottom\">"
   ]
  },
  {
   "cell_type": "code",
   "execution_count": 48,
   "metadata": {},
   "outputs": [
    {
     "name": "stdout",
     "output_type": "stream",
     "text": [
      "tensor([[15, 18, 21,  5,  8],\n",
      "        [ 6,  7, 10,  5,  8]]) torch.Size([2, 5])\n"
     ]
    }
   ],
   "source": [
    "b = torch.sum(a,dim=0)\n",
    "print(b, b.size())"
   ]
  },
  {
   "cell_type": "code",
   "execution_count": 49,
   "metadata": {},
   "outputs": [
    {
     "name": "stdout",
     "output_type": "stream",
     "text": [
      "tensor([[ 5,  7,  9,  4,  6],\n",
      "        [ 8,  9, 11,  3,  5],\n",
      "        [ 8,  9, 11,  3,  5]]) torch.Size([3, 5])\n"
     ]
    }
   ],
   "source": [
    "c = torch.sum(a,dim=1)\n",
    "print(c,c.size())"
   ]
  },
  {
   "cell_type": "code",
   "execution_count": 51,
   "metadata": {},
   "outputs": [
    {
     "name": "stdout",
     "output_type": "stream",
     "text": [
      "tensor([[ 9, 22],\n",
      "        [29,  7],\n",
      "        [29,  7]]) torch.Size([3, 2])\n"
     ]
    }
   ],
   "source": [
    "b = torch.sum(a,dim=2)\n",
    "print(b,b.size())"
   ]
  },
  {
   "cell_type": "code",
   "execution_count": 52,
   "metadata": {},
   "outputs": [
    {
     "name": "stdout",
     "output_type": "stream",
     "text": [
      "tensor([31, 36, 36]) torch.Size([3])\n"
     ]
    }
   ],
   "source": [
    "b = torch.sum(a,dim=(1,2))\n",
    "print(b,b.size())"
   ]
  },
  {
   "cell_type": "code",
   "execution_count": 53,
   "metadata": {},
   "outputs": [
    {
     "name": "stdout",
     "output_type": "stream",
     "text": [
      "tensor([31, 36, 36]) torch.Size([3])\n"
     ]
    }
   ],
   "source": [
    "b = torch.sum(a,dim=(2,1))\n",
    "print(b,b.size())"
   ]
  },
  {
   "cell_type": "markdown",
   "metadata": {},
   "source": [
    "### [torch.clamp()](https://blog.csdn.net/u013230189/article/details/82627375)\n",
    "截断函数，超出范围的值用指定值代替"
   ]
  },
  {
   "cell_type": "code",
   "execution_count": 54,
   "metadata": {},
   "outputs": [
    {
     "name": "stdout",
     "output_type": "stream",
     "text": [
      "tensor([[1],\n",
      "        [9],\n",
      "        [4],\n",
      "        [7],\n",
      "        [6],\n",
      "        [7],\n",
      "        [1],\n",
      "        [0],\n",
      "        [5],\n",
      "        [4]])\n",
      "tensor([[3],\n",
      "        [6],\n",
      "        [4],\n",
      "        [6],\n",
      "        [6],\n",
      "        [6],\n",
      "        [3],\n",
      "        [3],\n",
      "        [5],\n",
      "        [4]])\n"
     ]
    }
   ],
   "source": [
    "a=torch.randint(low=0,high=10,size=(10,1))\n",
    "print(a)\n",
    "a=torch.clamp(a,3,6)\n",
    "print(a)"
   ]
  },
  {
   "cell_type": "markdown",
   "metadata": {},
   "source": [
    "### torch.min()/max()\n",
    "按维度选取张量中的最值，返回值和索引"
   ]
  },
  {
   "cell_type": "code",
   "execution_count": 55,
   "metadata": {},
   "outputs": [
    {
     "data": {
      "text/plain": [
       "tensor([[[ 0,  1,  2,  3],\n",
       "         [ 4,  5,  6,  7],\n",
       "         [ 8,  9, 10, 11]],\n",
       "\n",
       "        [[12, 13, 14, 15],\n",
       "         [16, 17, 18, 19],\n",
       "         [20, 21, 22, 23]]])"
      ]
     },
     "execution_count": 55,
     "metadata": {},
     "output_type": "execute_result"
    }
   ],
   "source": [
    "x = torch.arange(24).reshape(2,3,4)\n",
    "x"
   ]
  },
  {
   "cell_type": "code",
   "execution_count": 56,
   "metadata": {},
   "outputs": [
    {
     "data": {
      "text/plain": [
       "torch.return_types.min(\n",
       "values=tensor([[ 0,  4,  8],\n",
       "        [12, 16, 20]]),\n",
       "indices=tensor([[0, 0, 0],\n",
       "        [0, 0, 0]]))"
      ]
     },
     "execution_count": 56,
     "metadata": {},
     "output_type": "execute_result"
    }
   ],
   "source": [
    "x.min(dim=-1)"
   ]
  },
  {
   "cell_type": "code",
   "execution_count": 57,
   "metadata": {},
   "outputs": [
    {
     "data": {
      "text/plain": [
       "torch.return_types.min(\n",
       "values=tensor([[ 0,  4,  8],\n",
       "        [12, 16, 20]]),\n",
       "indices=tensor([[0, 0, 0],\n",
       "        [0, 0, 0]]))"
      ]
     },
     "execution_count": 57,
     "metadata": {},
     "output_type": "execute_result"
    }
   ],
   "source": [
    "torch.min(x, dim=-1)  # dim=-1 在行上看各列的大小"
   ]
  },
  {
   "cell_type": "code",
   "execution_count": 58,
   "metadata": {},
   "outputs": [
    {
     "data": {
      "text/plain": [
       "tensor([[0.7771, 0.9971, 0.2777, 0.7096],\n",
       "        [0.9758, 0.4358, 0.1960, 0.0868],\n",
       "        [0.7660, 0.9169, 0.9004, 0.0221]])"
      ]
     },
     "execution_count": 58,
     "metadata": {},
     "output_type": "execute_result"
    }
   ],
   "source": [
    "y = torch.rand((3,4))\n",
    "y"
   ]
  },
  {
   "cell_type": "code",
   "execution_count": 59,
   "metadata": {},
   "outputs": [
    {
     "data": {
      "text/plain": [
       "torch.return_types.max(\n",
       "values=tensor([0.9971, 0.9758, 0.9169]),\n",
       "indices=tensor([1, 0, 1]))"
      ]
     },
     "execution_count": 59,
     "metadata": {},
     "output_type": "execute_result"
    }
   ],
   "source": [
    "torch.max(y, dim=-1)"
   ]
  },
  {
   "cell_type": "code",
   "execution_count": 60,
   "metadata": {},
   "outputs": [
    {
     "data": {
      "text/plain": [
       "tensor([[ True,  True, False,  True],\n",
       "        [ True, False, False, False],\n",
       "        [ True,  True,  True, False]])"
      ]
     },
     "execution_count": 60,
     "metadata": {},
     "output_type": "execute_result"
    }
   ],
   "source": [
    "y > 0.5"
   ]
  },
  {
   "cell_type": "markdown",
   "metadata": {},
   "source": [
    "### torch.scatter_()\n",
    ">output = torch.Tensor.scatter_(dim, index, src)\n",
    "\n",
    "[.scatter_()](https://blog.csdn.net/weixin_45798469/article/details/108311046)本身的用法有些繁琐，但是这里可以用来生成[独热编码](https://blog.csdn.net/u010630669/article/details/105425572)\n",
    "\n",
    "\n",
    "[Reference](https://medium.com/@yang6367/understand-torch-scatter-b0fd6275331c)(有空可以看看)"
   ]
  },
  {
   "cell_type": "code",
   "execution_count": 62,
   "metadata": {},
   "outputs": [
    {
     "data": {
      "text/plain": [
       "tensor([[0, 1, 0],\n",
       "        [0, 0, 1],\n",
       "        [0, 1, 0],\n",
       "        [0, 0, 1],\n",
       "        [1, 0, 0]], dtype=torch.uint8)"
      ]
     },
     "execution_count": 62,
     "metadata": {},
     "output_type": "execute_result"
    }
   ],
   "source": [
    "index = torch.tensor([1,2,1,2,0])  # [1,2,1,2,0] 5个元素对应5行，0，1，2 对应3列\n",
    "x = torch.zeros(5,3).scatter_(-1, index.unsqueeze(1), 1) \n",
    "x = x.type(torch.uint8)\n",
    "x"
   ]
  },
  {
   "cell_type": "code",
   "execution_count": 61,
   "metadata": {},
   "outputs": [
    {
     "data": {
      "text/plain": [
       "tensor([[[ 0],\n",
       "         [ 1],\n",
       "         [ 2]],\n",
       "\n",
       "        [[ 3],\n",
       "         [ 4],\n",
       "         [ 5]],\n",
       "\n",
       "        [[ 6],\n",
       "         [ 7],\n",
       "         [ 8]],\n",
       "\n",
       "        [[ 9],\n",
       "         [10],\n",
       "         [11]],\n",
       "\n",
       "        [[12],\n",
       "         [13],\n",
       "         [14]]])"
      ]
     },
     "execution_count": 61,
     "metadata": {},
     "output_type": "execute_result"
    }
   ],
   "source": [
    "y = torch.arange(15).reshape(5,3,1)\n",
    "y"
   ]
  },
  {
   "cell_type": "code",
   "execution_count": 63,
   "metadata": {},
   "outputs": [
    {
     "name": "stderr",
     "output_type": "stream",
     "text": [
      "/home/elimen/anaconda3/envs/pytorch/lib/python3.7/site-packages/ipykernel_launcher.py:1: UserWarning: indexing with dtype torch.uint8 is now deprecated, please use a dtype torch.bool instead. (Triggered internally at  /opt/conda/conda-bld/pytorch_1607370156314/work/aten/src/ATen/native/IndexingUtils.h:25.)\n",
      "  \"\"\"Entry point for launching an IPython kernel.\n"
     ]
    },
    {
     "data": {
      "text/plain": [
       "tensor([[ 1],\n",
       "        [ 5],\n",
       "        [ 7],\n",
       "        [11],\n",
       "        [12]])"
      ]
     },
     "execution_count": 63,
     "metadata": {},
     "output_type": "execute_result"
    }
   ],
   "source": [
    "y[x]"
   ]
  },
  {
   "cell_type": "markdown",
   "metadata": {},
   "source": [
    "### torch.broadcast_tensors\n",
    ">torch.broadcast_tensors(*tensors) → List of Tensors\n",
    "\n",
    "Broadcasts the given tensors according to Broadcasting semantics."
   ]
  },
  {
   "cell_type": "code",
   "execution_count": 69,
   "metadata": {},
   "outputs": [
    {
     "name": "stdout",
     "output_type": "stream",
     "text": [
      "tensor([[0, 1, 2]])\n",
      "tensor([[0],\n",
      "        [1]])\n"
     ]
    }
   ],
   "source": [
    "x = torch.arange(3).view(1, 3)\n",
    "y = torch.arange(2).view(2, 1)\n",
    "print(x)\n",
    "print(y)"
   ]
  },
  {
   "cell_type": "code",
   "execution_count": 70,
   "metadata": {},
   "outputs": [],
   "source": [
    "m = torch.tensor([[4,8,9]])\n",
    "n = torch.tensor([[2],[0]])"
   ]
  },
  {
   "cell_type": "code",
   "execution_count": 71,
   "metadata": {},
   "outputs": [
    {
     "name": "stdout",
     "output_type": "stream",
     "text": [
      "torch.Size([2, 3]) \n",
      " tensor([[4, 8, 9],\n",
      "        [4, 8, 9]])\n",
      "torch.Size([2, 3]) \n",
      " tensor([[2, 2, 2],\n",
      "        [0, 0, 0]])\n"
     ]
    }
   ],
   "source": [
    "a, b = torch.broadcast_tensors(m, n)  ## 按照广播机制，返回两个形状相同的tensor\n",
    "\n",
    "print(a.shape,'\\n',a)\n",
    "print(b.shape,'\\n',b)"
   ]
  },
  {
   "cell_type": "markdown",
   "metadata": {},
   "source": [
    "## MODEL"
   ]
  },
  {
   "cell_type": "markdown",
   "metadata": {},
   "source": [
    "### [nn.parameter](https://www.jianshu.com/p/d8b77cc02410)\n",
    "可以把这个函数理解为类型转换函数，将一个不可训练的数据类型Tensor转换成可以训练的数据类型parameter，并将这个parameter绑定到这个module里面\n",
    "\n",
    "(net.parameter()中就有这个绑定的parameter，所以在参数优化的时候可以进行优化)."
   ]
  },
  {
   "cell_type": "code",
   "execution_count": 72,
   "metadata": {
    "code_folding": []
   },
   "outputs": [],
   "source": [
    "class ScaleExp(nn.Module):\n",
    "    def __init__(self, init_value=1.0):\n",
    "        super(ScaleExp, self).__init__()\n",
    "        self.scale = nn.Parameter(torch.tensor([init_value], dtype=torch.float32))\n",
    "\n",
    "    def forward(self, x):\n",
    "        return torch.exp(x * self.scale)  # 乘一个 可以训练的 缩放因子 scale"
   ]
  },
  {
   "cell_type": "code",
   "execution_count": 73,
   "metadata": {},
   "outputs": [
    {
     "data": {
      "text/plain": [
       "{'training': True, '_parameters': OrderedDict([('scale', Parameter containing:\n",
       "               tensor([2.], requires_grad=True))]), '_buffers': OrderedDict(), '_non_persistent_buffers_set': set(), '_backward_hooks': OrderedDict(), '_forward_hooks': OrderedDict(), '_forward_pre_hooks': OrderedDict(), '_state_dict_hooks': OrderedDict(), '_load_state_dict_pre_hooks': OrderedDict(), '_modules': OrderedDict()}"
      ]
     },
     "execution_count": 73,
     "metadata": {},
     "output_type": "execute_result"
    }
   ],
   "source": [
    "scale_model = ScaleExp(2)\n",
    "scale_model.__dict__"
   ]
  },
  {
   "cell_type": "code",
   "execution_count": 74,
   "metadata": {},
   "outputs": [
    {
     "data": {
      "text/plain": [
       "OrderedDict([('scale', Parameter containing:\n",
       "              tensor([2.], requires_grad=True))])"
      ]
     },
     "execution_count": 74,
     "metadata": {},
     "output_type": "execute_result"
    }
   ],
   "source": [
    "scale_model._parameters"
   ]
  },
  {
   "cell_type": "code",
   "execution_count": 75,
   "metadata": {},
   "outputs": [
    {
     "data": {
      "text/plain": [
       "tensor([[1., 1., 1.],\n",
       "        [1., 1., 1.]])"
      ]
     },
     "execution_count": 75,
     "metadata": {},
     "output_type": "execute_result"
    }
   ],
   "source": [
    "x = torch.ones((2,3))\n",
    "x"
   ]
  },
  {
   "cell_type": "code",
   "execution_count": 76,
   "metadata": {},
   "outputs": [
    {
     "data": {
      "text/plain": [
       "tensor([[7.3891, 7.3891, 7.3891],\n",
       "        [7.3891, 7.3891, 7.3891]], grad_fn=<ExpBackward>)"
      ]
     },
     "execution_count": 76,
     "metadata": {},
     "output_type": "execute_result"
    }
   ],
   "source": [
    "y = scale_model(x)\n",
    "y"
   ]
  },
  {
   "cell_type": "code",
   "execution_count": 77,
   "metadata": {},
   "outputs": [
    {
     "data": {
      "text/plain": [
       "7.38905609893065"
      ]
     },
     "execution_count": 77,
     "metadata": {},
     "output_type": "execute_result"
    }
   ],
   "source": [
    "math.exp(2)  # e**2"
   ]
  },
  {
   "cell_type": "markdown",
   "metadata": {},
   "source": [
    "### [nn.ModuleList()](https://zhuanlan.zhihu.com/p/64990232)\n",
    "它是一个储存不同 module，并自动将每个 module 的 parameters 添加到网络之中的容器。但，我们需要注意的是，nn.ModuleList 并没有定义一个网络，它只是将不同的模块储存在一起，这些模块在网络之中的先后顺序`由forward函数定义`，与它们在ModuleList中的顺序没有关系"
   ]
  },
  {
   "cell_type": "code",
   "execution_count": 78,
   "metadata": {},
   "outputs": [
    {
     "data": {
      "text/plain": [
       "ModuleList(\n",
       "  (0): ScaleExp()\n",
       "  (1): ScaleExp()\n",
       "  (2): ScaleExp()\n",
       "  (3): ScaleExp()\n",
       "  (4): ScaleExp()\n",
       ")"
      ]
     },
     "execution_count": 78,
     "metadata": {},
     "output_type": "execute_result"
    }
   ],
   "source": [
    "self_scale_exp = nn.ModuleList([ScaleExp(1.0) for _ in range(5)])\n",
    "self_scale_exp"
   ]
  },
  {
   "cell_type": "markdown",
   "metadata": {},
   "source": [
    "### [nn.GroupNorm()](https://pytorch.org/docs/stable/generated/torch.nn.GroupNorm.html)\n",
    ">torch.nn.GroupNorm(num_groups: int, num_channels: int, eps: float = 1e-05, affine: bool = True)\n",
    "\n"
   ]
  },
  {
   "cell_type": "code",
   "execution_count": 81,
   "metadata": {},
   "outputs": [
    {
     "data": {
      "text/plain": [
       "torch.Size([2, 6, 10, 10])"
      ]
     },
     "execution_count": 81,
     "metadata": {},
     "output_type": "execute_result"
    }
   ],
   "source": [
    "input = torch.randn(2, 6, 10, 10)\n",
    "# Separate 6 channels into 3 groups\n",
    "GN = nn.GroupNorm(3, 6) ## 类GroupNorm的实例GN\n",
    "# Separate 6 channels into 6 groups (equivalent with InstanceNorm)\n",
    "# m = nn.GroupNorm(6, 6)\n",
    "# Put all 6 channels into a single group (equivalent with LayerNorm)\n",
    "# m = nn.GroupNorm(1, 6)\n",
    "# Activating the module\n",
    "output = GN(input)\n",
    "output.shape"
   ]
  },
  {
   "cell_type": "markdown",
   "metadata": {},
   "source": [
    "* **Normalization总结（BN/LN/IN/GN/SN）**\n",
    "\n",
    "https://blog.csdn.net/liuxiao214/article/details/81037416?utm_medium=distribute.pc_relevant.none-task-blog-2%7Edefault%7EBlogCommendFromMachineLearnPai2%7Edefault-3.control&depth_1-utm_source=distribute.pc_relevant.none-task-blog-2%7Edefault%7EBlogCommendFromMachineLearnPai2%7Edefault-3.control"
   ]
  },
  {
   "cell_type": "code",
   "execution_count": 109,
   "metadata": {},
   "outputs": [
    {
     "name": "stdout",
     "output_type": "stream",
     "text": [
      "[[[[  0   1   2]\n",
      "   [  3   4   5]\n",
      "   [  6   7   8]]\n",
      "\n",
      "  [[  9  10  11]\n",
      "   [ 12  13  14]\n",
      "   [ 15  16  17]]\n",
      "\n",
      "  [[ 18  19  20]\n",
      "   [ 21  22  23]\n",
      "   [ 24  25  26]]\n",
      "\n",
      "  [[ 27  28  29]\n",
      "   [ 30  31  32]\n",
      "   [ 33  34  35]]\n",
      "\n",
      "  [[ 36  37  38]\n",
      "   [ 39  40  41]\n",
      "   [ 42  43  44]]\n",
      "\n",
      "  [[ 45  46  47]\n",
      "   [ 48  49  50]\n",
      "   [ 51  52  53]]\n",
      "\n",
      "  [[ 54  55  56]\n",
      "   [ 57  58  59]\n",
      "   [ 60  61  62]]\n",
      "\n",
      "  [[ 63  64  65]\n",
      "   [ 66  67  68]\n",
      "   [ 69  70  71]]\n",
      "\n",
      "  [[ 72  73  74]\n",
      "   [ 75  76  77]\n",
      "   [ 78  79  80]]\n",
      "\n",
      "  [[ 81  82  83]\n",
      "   [ 84  85  86]\n",
      "   [ 87  88  89]]]\n",
      "\n",
      "\n",
      " [[[ 90  91  92]\n",
      "   [ 93  94  95]\n",
      "   [ 96  97  98]]\n",
      "\n",
      "  [[ 99 100 101]\n",
      "   [102 103 104]\n",
      "   [105 106 107]]\n",
      "\n",
      "  [[108 109 110]\n",
      "   [111 112 113]\n",
      "   [114 115 116]]\n",
      "\n",
      "  [[117 118 119]\n",
      "   [120 121 122]\n",
      "   [123 124 125]]\n",
      "\n",
      "  [[126 127 128]\n",
      "   [129 130 131]\n",
      "   [132 133 134]]\n",
      "\n",
      "  [[135 136 137]\n",
      "   [138 139 140]\n",
      "   [141 142 143]]\n",
      "\n",
      "  [[144 145 146]\n",
      "   [147 148 149]\n",
      "   [150 151 152]]\n",
      "\n",
      "  [[153 154 155]\n",
      "   [156 157 158]\n",
      "   [159 160 161]]\n",
      "\n",
      "  [[162 163 164]\n",
      "   [165 166 167]\n",
      "   [168 169 170]]\n",
      "\n",
      "  [[171 172 173]\n",
      "   [174 175 176]\n",
      "   [177 178 179]]]]\n"
     ]
    },
    {
     "data": {
      "text/plain": [
       "array([[[[ 49.]],\n",
       "\n",
       "        [[ 58.]],\n",
       "\n",
       "        [[ 67.]],\n",
       "\n",
       "        [[ 76.]],\n",
       "\n",
       "        [[ 85.]],\n",
       "\n",
       "        [[ 94.]],\n",
       "\n",
       "        [[103.]],\n",
       "\n",
       "        [[112.]],\n",
       "\n",
       "        [[121.]],\n",
       "\n",
       "        [[130.]]]])"
      ]
     },
     "execution_count": 109,
     "metadata": {},
     "output_type": "execute_result"
    }
   ],
   "source": [
    "x = np.arange(180).reshape(2,10,3,3)\n",
    "print(x)\n",
    "x_bn_mean = np.mean(x, axis=(0, 2, 3), keepdims=True)\n",
    "x_bn_mean"
   ]
  },
  {
   "cell_type": "code",
   "execution_count": 102,
   "metadata": {},
   "outputs": [
    {
     "data": {
      "text/plain": [
       "array([[[[17.5]]],\n",
       "\n",
       "\n",
       "       [[[53.5]]]])"
      ]
     },
     "execution_count": 102,
     "metadata": {},
     "output_type": "execute_result"
    }
   ],
   "source": [
    "x_ln_mean = np.mean(x, axis=(1, 2, 3), keepdims=True)\n",
    "x_ln_mean"
   ]
  },
  {
   "cell_type": "code",
   "execution_count": 103,
   "metadata": {},
   "outputs": [
    {
     "data": {
      "text/plain": [
       "array([[[[ 4.]],\n",
       "\n",
       "        [[13.]],\n",
       "\n",
       "        [[22.]],\n",
       "\n",
       "        [[31.]]],\n",
       "\n",
       "\n",
       "       [[[40.]],\n",
       "\n",
       "        [[49.]],\n",
       "\n",
       "        [[58.]],\n",
       "\n",
       "        [[67.]]]])"
      ]
     },
     "execution_count": 103,
     "metadata": {},
     "output_type": "execute_result"
    }
   ],
   "source": [
    "x_in_mean = np.mean(x, axis=(2, 3), keepdims=True)\n",
    "x_in_mean"
   ]
  },
  {
   "cell_type": "code",
   "execution_count": 110,
   "metadata": {},
   "outputs": [
    {
     "data": {
      "text/plain": [
       "(2, 2, 5, 3, 3)"
      ]
     },
     "execution_count": 110,
     "metadata": {},
     "output_type": "execute_result"
    }
   ],
   "source": [
    "#x.shape[1]\n",
    "x_group = np.reshape(x, (x.shape[0], 2, int(x.shape[1]/2), x.shape[2], x.shape[3]))\n",
    "x_group.shape"
   ]
  },
  {
   "cell_type": "code",
   "execution_count": 113,
   "metadata": {},
   "outputs": [
    {
     "data": {
      "text/plain": [
       "(2, 2, 1, 1, 1)"
      ]
     },
     "execution_count": 113,
     "metadata": {},
     "output_type": "execute_result"
    }
   ],
   "source": [
    "x_gn_mean = np.mean(x_group, axis=(2, 3, 4), keepdims=True)\n",
    "x_gn_mean.shape"
   ]
  },
  {
   "cell_type": "markdown",
   "metadata": {},
   "source": [
    "### [nn.init.constant_()](https://pytorch.org/docs/stable/nn.init.html)\n",
    ">torch.nn.init.constant_(tensor, val)\n",
    "\n",
    "Fills the input Tensor with the value \\text{val}val ."
   ]
  },
  {
   "cell_type": "code",
   "execution_count": 82,
   "metadata": {},
   "outputs": [
    {
     "data": {
      "text/plain": [
       "tensor([[0.3000, 0.3000, 0.3000, 0.3000, 0.3000],\n",
       "        [0.3000, 0.3000, 0.3000, 0.3000, 0.3000],\n",
       "        [0.3000, 0.3000, 0.3000, 0.3000, 0.3000]])"
      ]
     },
     "execution_count": 82,
     "metadata": {},
     "output_type": "execute_result"
    }
   ],
   "source": [
    "w = torch.empty(3, 5)\n",
    "nn.init.constant_(w, 0.3)"
   ]
  },
  {
   "cell_type": "markdown",
   "metadata": {},
   "source": [
    "### nn.init.normal_()\n",
    ">torch.nn.init.normal_(tensor, mean=0.0, std=1.0)\n",
    "\n",
    "Fills the input Tensor with values drawn from the normal distribution "
   ]
  },
  {
   "cell_type": "code",
   "execution_count": 83,
   "metadata": {},
   "outputs": [
    {
     "data": {
      "text/plain": [
       "tensor([[0.0927, 0.1792, 0.0723, 0.7507, 0.8832],\n",
       "        [0.0970, 0.4864, 0.3152, 0.7508, 0.7109],\n",
       "        [0.6013, 0.3569, 0.1946, 0.9714, 0.7116]])"
      ]
     },
     "execution_count": 83,
     "metadata": {},
     "output_type": "execute_result"
    }
   ],
   "source": [
    "w = torch.empty(3, 5)\n",
    "nn.init.uniform_(w)"
   ]
  },
  {
   "cell_type": "markdown",
   "metadata": {},
   "source": [
    "## FUNCTION"
   ]
  },
  {
   "cell_type": "markdown",
   "metadata": {},
   "source": [
    "### nn.functional.pad()"
   ]
  },
  {
   "cell_type": "code",
   "execution_count": null,
   "metadata": {},
   "outputs": [],
   "source": [
    "torch.nn.functional.pad(input, pad, mode,value ) \n",
    "    \"\"\"\n",
    "    input：四维或者五维的tensor Variabe\n",
    "    pad：不同Tensor的填充方式\n",
    "        1.四维Tensor：传入四元素tuple(pad_l, pad_r, pad_t, pad_b)，\n",
    "        指的是（左填充，右填充，上填充，下填充），其数值代表填充次数\n",
    "        2.六维Tensor：传入六元素tuple(pleft, pright, ptop, pbottom, pfront, pback)，\n",
    "        指的是（左填充，右填充，上填充，下填充，前填充，后填充），其数值代表填充次数\n",
    "    mode： ’constant‘, ‘reflect’ or ‘replicate’三种模式，指的是常量，反射，复制三种模式\n",
    "    value：填充的数值，在\"contant\"模式下默认填充0，mode=\"reflect\" or \"replicate\"时没有默认value参数\n",
    "\n",
    "    \"\"\""
   ]
  },
  {
   "cell_type": "code",
   "execution_count": 84,
   "metadata": {},
   "outputs": [
    {
     "name": "stdout",
     "output_type": "stream",
     "text": [
      "original_values:  tensor([[[[ 0.1111, -0.5535],\n",
      "          [-0.3344, -0.5306],\n",
      "          [ 0.2692,  0.3256]]],\n",
      "\n",
      "\n",
      "        [[[-1.4591, -0.0662],\n",
      "          [-0.8564, -0.4760],\n",
      "          [-0.8097,  0.8730]]]]) \n",
      "\n",
      "original_values的shape:  torch.Size([2, 1, 3, 2])\n"
     ]
    }
   ],
   "source": [
    "original_values = torch.randn([2,1, 3, 2])\n",
    "print(\"original_values: \",original_values,\"\\n\")\n",
    "print(\"original_values的shape: \",original_values.shape)"
   ]
  },
  {
   "cell_type": "code",
   "execution_count": 85,
   "metadata": {},
   "outputs": [
    {
     "name": "stdout",
     "output_type": "stream",
     "text": [
      "padding_values:  tensor([[[[ 0.0000,  0.1111, -0.5535],\n",
      "          [ 0.0000, -0.3344, -0.5306],\n",
      "          [ 0.0000,  0.2692,  0.3256]]],\n",
      "\n",
      "\n",
      "        [[[ 0.0000, -1.4591, -0.0662],\n",
      "          [ 0.0000, -0.8564, -0.4760],\n",
      "          [ 0.0000, -0.8097,  0.8730]]]]) \n",
      "\n",
      "padding_values的shape:  torch.Size([2, 1, 3, 3])\n"
     ]
    }
   ],
   "source": [
    "padding_values = F.pad(original_values, pad=(1,0,0,0), mode=\"constant\", value=0)  \n",
    "print(\"padding_values: \",padding_values,\"\\n\")\n",
    "print(\"padding_values的shape: \",padding_values.shape)"
   ]
  },
  {
   "cell_type": "code",
   "execution_count": 86,
   "metadata": {},
   "outputs": [
    {
     "name": "stdout",
     "output_type": "stream",
     "text": [
      "padding_values:  tensor([[[[ 0.1111, -0.5535],\n",
      "          [-0.3344, -0.5306],\n",
      "          [ 0.2692,  0.3256],\n",
      "          [-1.0000, -1.0000],\n",
      "          [-1.0000, -1.0000],\n",
      "          [-1.0000, -1.0000]]],\n",
      "\n",
      "\n",
      "        [[[-1.4591, -0.0662],\n",
      "          [-0.8564, -0.4760],\n",
      "          [-0.8097,  0.8730],\n",
      "          [-1.0000, -1.0000],\n",
      "          [-1.0000, -1.0000],\n",
      "          [-1.0000, -1.0000]]]]) \n",
      "\n",
      "padding_values的shape:  torch.Size([2, 1, 6, 2])\n"
     ]
    }
   ],
   "source": [
    "padding_values = F.pad(original_values, pad=(0,0,0,3), mode=\"constant\",value=-1)  \n",
    "print(\"padding_values: \",padding_values,\"\\n\")\n",
    "print(\"padding_values的shape: \",padding_values.shape)"
   ]
  },
  {
   "cell_type": "markdown",
   "metadata": {},
   "source": [
    "### [F.interpolate()](https://pytorch.org/docs/stable/nn.functional.html)\n",
    ">torch.nn.functional.interpolate(input, size=None, scale_factor=None, mode='nearest', align_corners=None, recompute_scale_factor=None)\n",
    "\n",
    "Down/up samples the input to either the given size or the given scale_factor"
   ]
  },
  {
   "cell_type": "code",
   "execution_count": 87,
   "metadata": {},
   "outputs": [
    {
     "data": {
      "text/plain": [
       "torch.Size([1, 2, 8, 10])"
      ]
     },
     "execution_count": 87,
     "metadata": {},
     "output_type": "execute_result"
    }
   ],
   "source": [
    "src = torch.rand((1,2,4,5))\n",
    "src_interp = F.interpolate(src, size=(8, 10),mode='nearest')\n",
    "src_interp.shape"
   ]
  },
  {
   "cell_type": "code",
   "execution_count": null,
   "metadata": {},
   "outputs": [],
   "source": []
  },
  {
   "cell_type": "code",
   "execution_count": null,
   "metadata": {},
   "outputs": [],
   "source": []
  }
 ],
 "metadata": {
  "hide_input": false,
  "kernelspec": {
   "display_name": "Python 3",
   "language": "python",
   "name": "python3"
  },
  "language_info": {
   "codemirror_mode": {
    "name": "ipython",
    "version": 3
   },
   "file_extension": ".py",
   "mimetype": "text/x-python",
   "name": "python",
   "nbconvert_exporter": "python",
   "pygments_lexer": "ipython3",
   "version": "3.7.9"
  },
  "toc": {
   "base_numbering": 1,
   "nav_menu": {},
   "number_sections": true,
   "sideBar": true,
   "skip_h1_title": false,
   "title_cell": "Table of Contents",
   "title_sidebar": "Contents",
   "toc_cell": false,
   "toc_position": {
    "height": "calc(100% - 180px)",
    "left": "10px",
    "top": "150px",
    "width": "231.23px"
   },
   "toc_section_display": true,
   "toc_window_display": true
  },
  "varInspector": {
   "cols": {
    "lenName": 16,
    "lenType": 16,
    "lenVar": 40
   },
   "kernels_config": {
    "python": {
     "delete_cmd_postfix": "",
     "delete_cmd_prefix": "del ",
     "library": "var_list.py",
     "varRefreshCmd": "print(var_dic_list())"
    },
    "r": {
     "delete_cmd_postfix": ") ",
     "delete_cmd_prefix": "rm(",
     "library": "var_list.r",
     "varRefreshCmd": "cat(var_dic_list()) "
    }
   },
   "types_to_exclude": [
    "module",
    "function",
    "builtin_function_or_method",
    "instance",
    "_Feature"
   ],
   "window_display": false
  }
 },
 "nbformat": 4,
 "nbformat_minor": 4
}
